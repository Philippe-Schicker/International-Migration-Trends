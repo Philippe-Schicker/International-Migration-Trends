{
 "cells": [
  {
   "cell_type": "markdown",
   "id": "8432aae1",
   "metadata": {
    "slideshow": {
     "slide_type": "slide"
    }
   },
   "source": [
    "# Examining the Relationship Between Migration, Climate Disasters, and Economic Indicators Worldwide\n",
    "## 95791 Section A2 Final Project\n",
    "#### Michaela Marincic (mmarinci)\n",
    "#### Daniel Picard (dpicard)\n",
    "#### Philippe Schicker (pschicke)"
   ]
  },
  {
   "cell_type": "markdown",
   "id": "2fdb8245",
   "metadata": {
    "slideshow": {
     "slide_type": "slide"
    }
   },
   "source": [
    "## Introduction\n",
    "\n",
    "Our project involves the impacts of climate change on migration and country's economic stability. In particular, we are looking to answer these questions:\n",
    "- Which countries likely to experience immigration vs emigration based on the prevalence of different climate disasters and economic indicators? (Classification)\n",
    "- Does net ODA (Official Development Assistance) increase with increasing disaster frequency and severity? (I.e. are countries receiving the assistance they need to recover from climate disasters?) (Regression)\n",
    "- How does GDP change in response to migration and climate disasters? (Regression)"
   ]
  },
  {
   "cell_type": "markdown",
   "id": "c26c3bae",
   "metadata": {
    "slideshow": {
     "slide_type": "slide"
    }
   },
   "source": [
    "The datasets we are using for the project are:\n",
    "1. GDIS Geocoded Disasters Dataset  (https://sedac.ciesin.columbia.edu/data/set/pend-gdis-1960-2018/data-download)\n",
    "\n",
    "Rosvold, E. and H. Buhaug. 2021. Geocoded disaster (GDIS) dataset. Palisades, NY: NASA  Socioeconomic Data and Applications Center (SEDAC). https://doi.org/10.7927/zz3b-8y61. Accessed 30th Nov 2021. \n",
    "\n",
    "2. World Bank migration data (https://databank.worldbank.org/source/world-development-indicators)\n",
    "\n",
    "- As discussed in class, we are attaching the migration dataset as a CSV file to the submission in canvas. Since the original dataset link was moved, this link allows the user to create their own dataset with selected countries, economic indicators, and years. In order for you not to have to do that, we are including the CSV file.\n",
    "\n",
    "In order to build the models for the final deliverable, we have cleaned the datasets and merged them into one."
   ]
  },
  {
   "cell_type": "markdown",
   "id": "80d58d93",
   "metadata": {
    "slideshow": {
     "slide_type": "slide"
    }
   },
   "source": [
    "## Imports"
   ]
  },
  {
   "cell_type": "code",
   "execution_count": 212,
   "id": "53cf30e0",
   "metadata": {
    "slideshow": {
     "slide_type": "fragment"
    }
   },
   "outputs": [],
   "source": [
    "# Import required libraries.\n",
    "import pandas as pd\n",
    "import numpy as np\n",
    "import matplotlib\n",
    "import matplotlib.pyplot as plt\n",
    "import seaborn as sns\n",
    "\n",
    "from sklearn.preprocessing import PolynomialFeatures\n",
    "from sklearn.linear_model import LinearRegression, Ridge, Lasso, RidgeCV, LassoCV\n",
    "from sklearn.model_selection import train_test_split, cross_val_score, GridSearchCV\n",
    "from sklearn import metrics, preprocessing\n",
    "from sklearn.metrics import r2_score, mean_squared_error\n",
    "from sklearn.feature_selection import SequentialFeatureSelector\n",
    "\n",
    "\n",
    "from sklearn.neighbors import KNeighborsClassifier\n",
    "from sklearn.metrics import confusion_matrix, ConfusionMatrixDisplay, classification_report\n",
    "from sklearn.ensemble import RandomForestClassifier\n",
    "from sklearn.naive_bayes import GaussianNB\n",
    "\n",
    "import warnings\n",
    "warnings.simplefilter(action=\"ignore\", category=FutureWarning)\n",
    "warnings.simplefilter(action=\"ignore\", category=matplotlib.cbook.mplDeprecation)\n",
    "# Suppress ONLY FutureWarnings, which were being raised when we normalized for Ridge and Lasso regressions\n",
    "#No performance warnings are suppressed\n"
   ]
  },
  {
   "cell_type": "markdown",
   "id": "973b8d84",
   "metadata": {
    "slideshow": {
     "slide_type": "slide"
    }
   },
   "source": [
    "## Reading in the Disasters Dataset"
   ]
  },
  {
   "cell_type": "code",
   "execution_count": 213,
   "id": "4e2de548",
   "metadata": {
    "slideshow": {
     "slide_type": "fragment"
    }
   },
   "outputs": [],
   "source": [
    "# Read in disaster type and location data.\n",
    "disasters = pd.read_csv('pend-gdis-1960-2018-disasterlocations.csv')"
   ]
  },
  {
   "cell_type": "code",
   "execution_count": 214,
   "id": "5210d6c3",
   "metadata": {
    "scrolled": true,
    "slideshow": {
     "slide_type": "fragment"
    }
   },
   "outputs": [
    {
     "data": {
      "text/html": [
       "<div>\n",
       "<style scoped>\n",
       "    .dataframe tbody tr th:only-of-type {\n",
       "        vertical-align: middle;\n",
       "    }\n",
       "\n",
       "    .dataframe tbody tr th {\n",
       "        vertical-align: top;\n",
       "    }\n",
       "\n",
       "    .dataframe thead th {\n",
       "        text-align: right;\n",
       "    }\n",
       "</style>\n",
       "<table border=\"1\" class=\"dataframe\">\n",
       "  <thead>\n",
       "    <tr style=\"text-align: right;\">\n",
       "      <th></th>\n",
       "      <th>id</th>\n",
       "      <th>country</th>\n",
       "      <th>iso3</th>\n",
       "      <th>gwno</th>\n",
       "      <th>year</th>\n",
       "      <th>geo_id</th>\n",
       "      <th>geolocation</th>\n",
       "      <th>level</th>\n",
       "      <th>adm1</th>\n",
       "      <th>adm2</th>\n",
       "      <th>adm3</th>\n",
       "      <th>location</th>\n",
       "      <th>historical</th>\n",
       "      <th>hist_country</th>\n",
       "      <th>disastertype</th>\n",
       "      <th>disasterno</th>\n",
       "      <th>latitude</th>\n",
       "      <th>longitude</th>\n",
       "    </tr>\n",
       "  </thead>\n",
       "  <tbody>\n",
       "    <tr>\n",
       "      <th>0</th>\n",
       "      <td>109</td>\n",
       "      <td>Albania</td>\n",
       "      <td>ALB</td>\n",
       "      <td>339.0</td>\n",
       "      <td>2009</td>\n",
       "      <td>346</td>\n",
       "      <td>Ana E Malit</td>\n",
       "      <td>3</td>\n",
       "      <td>Shkoder</td>\n",
       "      <td>Shkodres</td>\n",
       "      <td>Ana E Malit</td>\n",
       "      <td>Ana E Malit</td>\n",
       "      <td>0</td>\n",
       "      <td>NaN</td>\n",
       "      <td>flood</td>\n",
       "      <td>2009-0631</td>\n",
       "      <td>42.020948</td>\n",
       "      <td>19.418317</td>\n",
       "    </tr>\n",
       "    <tr>\n",
       "      <th>1</th>\n",
       "      <td>109</td>\n",
       "      <td>Albania</td>\n",
       "      <td>ALB</td>\n",
       "      <td>339.0</td>\n",
       "      <td>2009</td>\n",
       "      <td>351</td>\n",
       "      <td>Bushat</td>\n",
       "      <td>3</td>\n",
       "      <td>Shkoder</td>\n",
       "      <td>Shkodres</td>\n",
       "      <td>Bushat</td>\n",
       "      <td>Bushat</td>\n",
       "      <td>0</td>\n",
       "      <td>NaN</td>\n",
       "      <td>flood</td>\n",
       "      <td>2009-0631</td>\n",
       "      <td>41.959294</td>\n",
       "      <td>19.514309</td>\n",
       "    </tr>\n",
       "    <tr>\n",
       "      <th>2</th>\n",
       "      <td>175</td>\n",
       "      <td>Angola</td>\n",
       "      <td>AGO</td>\n",
       "      <td>540.0</td>\n",
       "      <td>2001</td>\n",
       "      <td>760</td>\n",
       "      <td>Onjiva</td>\n",
       "      <td>3</td>\n",
       "      <td>Cunene</td>\n",
       "      <td>Cuanhama</td>\n",
       "      <td>Onjiva</td>\n",
       "      <td>Onjiva</td>\n",
       "      <td>0</td>\n",
       "      <td>NaN</td>\n",
       "      <td>flood</td>\n",
       "      <td>2001-0146</td>\n",
       "      <td>-17.093484</td>\n",
       "      <td>15.665758</td>\n",
       "    </tr>\n",
       "    <tr>\n",
       "      <th>3</th>\n",
       "      <td>187</td>\n",
       "      <td>Angola</td>\n",
       "      <td>AGO</td>\n",
       "      <td>540.0</td>\n",
       "      <td>2009</td>\n",
       "      <td>710</td>\n",
       "      <td>Evale</td>\n",
       "      <td>3</td>\n",
       "      <td>Cunene</td>\n",
       "      <td>Cuanhama</td>\n",
       "      <td>Evale</td>\n",
       "      <td>Evale</td>\n",
       "      <td>0</td>\n",
       "      <td>NaN</td>\n",
       "      <td>flood</td>\n",
       "      <td>2009-0092</td>\n",
       "      <td>-16.531533</td>\n",
       "      <td>15.773987</td>\n",
       "    </tr>\n",
       "    <tr>\n",
       "      <th>4</th>\n",
       "      <td>187</td>\n",
       "      <td>Angola</td>\n",
       "      <td>AGO</td>\n",
       "      <td>540.0</td>\n",
       "      <td>2009</td>\n",
       "      <td>749</td>\n",
       "      <td>Mupa</td>\n",
       "      <td>3</td>\n",
       "      <td>Cunene</td>\n",
       "      <td>Cuvelai</td>\n",
       "      <td>Mupa</td>\n",
       "      <td>Mupa</td>\n",
       "      <td>0</td>\n",
       "      <td>NaN</td>\n",
       "      <td>flood</td>\n",
       "      <td>2009-0092</td>\n",
       "      <td>-16.200065</td>\n",
       "      <td>15.844189</td>\n",
       "    </tr>\n",
       "  </tbody>\n",
       "</table>\n",
       "</div>"
      ],
      "text/plain": [
       "    id  country iso3   gwno  year  geo_id  geolocation  level     adm1  \\\n",
       "0  109  Albania  ALB  339.0  2009     346  Ana E Malit      3  Shkoder   \n",
       "1  109  Albania  ALB  339.0  2009     351       Bushat      3  Shkoder   \n",
       "2  175   Angola  AGO  540.0  2001     760       Onjiva      3   Cunene   \n",
       "3  187   Angola  AGO  540.0  2009     710        Evale      3   Cunene   \n",
       "4  187   Angola  AGO  540.0  2009     749         Mupa      3   Cunene   \n",
       "\n",
       "       adm2         adm3     location  historical hist_country disastertype  \\\n",
       "0  Shkodres  Ana E Malit  Ana E Malit           0          NaN        flood   \n",
       "1  Shkodres       Bushat       Bushat           0          NaN        flood   \n",
       "2  Cuanhama       Onjiva       Onjiva           0          NaN        flood   \n",
       "3  Cuanhama        Evale        Evale           0          NaN        flood   \n",
       "4   Cuvelai         Mupa         Mupa           0          NaN        flood   \n",
       "\n",
       "  disasterno   latitude  longitude  \n",
       "0  2009-0631  42.020948  19.418317  \n",
       "1  2009-0631  41.959294  19.514309  \n",
       "2  2001-0146 -17.093484  15.665758  \n",
       "3  2009-0092 -16.531533  15.773987  \n",
       "4  2009-0092 -16.200065  15.844189  "
      ]
     },
     "execution_count": 214,
     "metadata": {},
     "output_type": "execute_result"
    }
   ],
   "source": [
    "disasters.head(5)"
   ]
  },
  {
   "cell_type": "markdown",
   "id": "1f32ba2c",
   "metadata": {
    "slideshow": {
     "slide_type": "slide"
    }
   },
   "source": [
    "## Cleaning Disasters Data"
   ]
  },
  {
   "cell_type": "markdown",
   "id": "602c1809",
   "metadata": {
    "slideshow": {
     "slide_type": "fragment"
    }
   },
   "source": [
    "First we drop unnecessary columns from the data."
   ]
  },
  {
   "cell_type": "code",
   "execution_count": 215,
   "id": "c44b4014",
   "metadata": {
    "slideshow": {
     "slide_type": "fragment"
    }
   },
   "outputs": [],
   "source": [
    "disasters_copy = disasters.drop(columns = ['iso3', 'geo_id', 'gwno', 'geolocation', 'level', 'adm1', 'adm2', 'adm3', \n",
    "                                            'location', 'historical', 'hist_country', 'disasterno', 'latitude',\n",
    "                                          'longitude']) #Only keep relevant columns"
   ]
  },
  {
   "cell_type": "code",
   "execution_count": 216,
   "id": "20e20a51",
   "metadata": {
    "slideshow": {
     "slide_type": "fragment"
    }
   },
   "outputs": [
    {
     "data": {
      "text/html": [
       "<div>\n",
       "<style scoped>\n",
       "    .dataframe tbody tr th:only-of-type {\n",
       "        vertical-align: middle;\n",
       "    }\n",
       "\n",
       "    .dataframe tbody tr th {\n",
       "        vertical-align: top;\n",
       "    }\n",
       "\n",
       "    .dataframe thead th {\n",
       "        text-align: right;\n",
       "    }\n",
       "</style>\n",
       "<table border=\"1\" class=\"dataframe\">\n",
       "  <thead>\n",
       "    <tr style=\"text-align: right;\">\n",
       "      <th></th>\n",
       "      <th>id</th>\n",
       "      <th>country</th>\n",
       "      <th>year</th>\n",
       "      <th>disastertype</th>\n",
       "    </tr>\n",
       "  </thead>\n",
       "  <tbody>\n",
       "    <tr>\n",
       "      <th>0</th>\n",
       "      <td>109</td>\n",
       "      <td>Albania</td>\n",
       "      <td>2009</td>\n",
       "      <td>flood</td>\n",
       "    </tr>\n",
       "    <tr>\n",
       "      <th>1</th>\n",
       "      <td>109</td>\n",
       "      <td>Albania</td>\n",
       "      <td>2009</td>\n",
       "      <td>flood</td>\n",
       "    </tr>\n",
       "    <tr>\n",
       "      <th>2</th>\n",
       "      <td>175</td>\n",
       "      <td>Angola</td>\n",
       "      <td>2001</td>\n",
       "      <td>flood</td>\n",
       "    </tr>\n",
       "    <tr>\n",
       "      <th>3</th>\n",
       "      <td>187</td>\n",
       "      <td>Angola</td>\n",
       "      <td>2009</td>\n",
       "      <td>flood</td>\n",
       "    </tr>\n",
       "    <tr>\n",
       "      <th>4</th>\n",
       "      <td>187</td>\n",
       "      <td>Angola</td>\n",
       "      <td>2009</td>\n",
       "      <td>flood</td>\n",
       "    </tr>\n",
       "    <tr>\n",
       "      <th>5</th>\n",
       "      <td>187</td>\n",
       "      <td>Angola</td>\n",
       "      <td>2009</td>\n",
       "      <td>flood</td>\n",
       "    </tr>\n",
       "    <tr>\n",
       "      <th>6</th>\n",
       "      <td>189</td>\n",
       "      <td>Angola</td>\n",
       "      <td>2010</td>\n",
       "      <td>flood</td>\n",
       "    </tr>\n",
       "    <tr>\n",
       "      <th>7</th>\n",
       "      <td>189</td>\n",
       "      <td>Angola</td>\n",
       "      <td>2010</td>\n",
       "      <td>flood</td>\n",
       "    </tr>\n",
       "    <tr>\n",
       "      <th>8</th>\n",
       "      <td>527</td>\n",
       "      <td>Bangladesh</td>\n",
       "      <td>1995</td>\n",
       "      <td>storm</td>\n",
       "    </tr>\n",
       "    <tr>\n",
       "      <th>9</th>\n",
       "      <td>533</td>\n",
       "      <td>Bangladesh</td>\n",
       "      <td>1996</td>\n",
       "      <td>storm</td>\n",
       "    </tr>\n",
       "  </tbody>\n",
       "</table>\n",
       "</div>"
      ],
      "text/plain": [
       "    id     country  year disastertype\n",
       "0  109     Albania  2009        flood\n",
       "1  109     Albania  2009        flood\n",
       "2  175      Angola  2001        flood\n",
       "3  187      Angola  2009        flood\n",
       "4  187      Angola  2009        flood\n",
       "5  187      Angola  2009        flood\n",
       "6  189      Angola  2010        flood\n",
       "7  189      Angola  2010        flood\n",
       "8  527  Bangladesh  1995        storm\n",
       "9  533  Bangladesh  1996        storm"
      ]
     },
     "execution_count": 216,
     "metadata": {},
     "output_type": "execute_result"
    }
   ],
   "source": [
    "disasters_copy.head(10) #Examine top of dataset"
   ]
  },
  {
   "cell_type": "markdown",
   "id": "163912a4",
   "metadata": {
    "slideshow": {
     "slide_type": "slide"
    }
   },
   "source": [
    "Then we drop any potential duplicates based on the unique disaster identification code ('id') and examine the resulting dataset."
   ]
  },
  {
   "cell_type": "code",
   "execution_count": 217,
   "id": "94204c1d",
   "metadata": {
    "slideshow": {
     "slide_type": "fragment"
    }
   },
   "outputs": [],
   "source": [
    "disasters_copy = disasters_copy.drop_duplicates(subset = ['id']) #Drop duplicates that have the same disaster id"
   ]
  },
  {
   "cell_type": "code",
   "execution_count": 218,
   "id": "fe0e32dc",
   "metadata": {
    "slideshow": {
     "slide_type": "skip"
    }
   },
   "outputs": [
    {
     "name": "stdout",
     "output_type": "stream",
     "text": [
      "9924\n"
     ]
    }
   ],
   "source": [
    "print(len(disasters_copy)) # Check length afer removing duplicates."
   ]
  },
  {
   "cell_type": "code",
   "execution_count": 219,
   "id": "8e64c961",
   "metadata": {
    "slideshow": {
     "slide_type": "fragment"
    }
   },
   "outputs": [
    {
     "data": {
      "text/html": [
       "<div>\n",
       "<style scoped>\n",
       "    .dataframe tbody tr th:only-of-type {\n",
       "        vertical-align: middle;\n",
       "    }\n",
       "\n",
       "    .dataframe tbody tr th {\n",
       "        vertical-align: top;\n",
       "    }\n",
       "\n",
       "    .dataframe thead th {\n",
       "        text-align: right;\n",
       "    }\n",
       "</style>\n",
       "<table border=\"1\" class=\"dataframe\">\n",
       "  <thead>\n",
       "    <tr style=\"text-align: right;\">\n",
       "      <th></th>\n",
       "      <th>id</th>\n",
       "      <th>country</th>\n",
       "      <th>year</th>\n",
       "      <th>disastertype</th>\n",
       "    </tr>\n",
       "  </thead>\n",
       "  <tbody>\n",
       "    <tr>\n",
       "      <th>0</th>\n",
       "      <td>109</td>\n",
       "      <td>Albania</td>\n",
       "      <td>2009</td>\n",
       "      <td>flood</td>\n",
       "    </tr>\n",
       "    <tr>\n",
       "      <th>2</th>\n",
       "      <td>175</td>\n",
       "      <td>Angola</td>\n",
       "      <td>2001</td>\n",
       "      <td>flood</td>\n",
       "    </tr>\n",
       "    <tr>\n",
       "      <th>3</th>\n",
       "      <td>187</td>\n",
       "      <td>Angola</td>\n",
       "      <td>2009</td>\n",
       "      <td>flood</td>\n",
       "    </tr>\n",
       "    <tr>\n",
       "      <th>6</th>\n",
       "      <td>189</td>\n",
       "      <td>Angola</td>\n",
       "      <td>2010</td>\n",
       "      <td>flood</td>\n",
       "    </tr>\n",
       "    <tr>\n",
       "      <th>8</th>\n",
       "      <td>527</td>\n",
       "      <td>Bangladesh</td>\n",
       "      <td>1995</td>\n",
       "      <td>storm</td>\n",
       "    </tr>\n",
       "    <tr>\n",
       "      <th>9</th>\n",
       "      <td>533</td>\n",
       "      <td>Bangladesh</td>\n",
       "      <td>1996</td>\n",
       "      <td>storm</td>\n",
       "    </tr>\n",
       "    <tr>\n",
       "      <th>14</th>\n",
       "      <td>539</td>\n",
       "      <td>Bangladesh</td>\n",
       "      <td>1997</td>\n",
       "      <td>storm</td>\n",
       "    </tr>\n",
       "    <tr>\n",
       "      <th>15</th>\n",
       "      <td>568</td>\n",
       "      <td>Bangladesh</td>\n",
       "      <td>2000</td>\n",
       "      <td>flood</td>\n",
       "    </tr>\n",
       "    <tr>\n",
       "      <th>18</th>\n",
       "      <td>593</td>\n",
       "      <td>Bangladesh</td>\n",
       "      <td>2004</td>\n",
       "      <td>flood</td>\n",
       "    </tr>\n",
       "    <tr>\n",
       "      <th>20</th>\n",
       "      <td>610</td>\n",
       "      <td>Bangladesh</td>\n",
       "      <td>2006</td>\n",
       "      <td>flood</td>\n",
       "    </tr>\n",
       "  </tbody>\n",
       "</table>\n",
       "</div>"
      ],
      "text/plain": [
       "     id     country  year disastertype\n",
       "0   109     Albania  2009        flood\n",
       "2   175      Angola  2001        flood\n",
       "3   187      Angola  2009        flood\n",
       "6   189      Angola  2010        flood\n",
       "8   527  Bangladesh  1995        storm\n",
       "9   533  Bangladesh  1996        storm\n",
       "14  539  Bangladesh  1997        storm\n",
       "15  568  Bangladesh  2000        flood\n",
       "18  593  Bangladesh  2004        flood\n",
       "20  610  Bangladesh  2006        flood"
      ]
     },
     "execution_count": 219,
     "metadata": {},
     "output_type": "execute_result"
    }
   ],
   "source": [
    "disasters_copy.head(10) #Examine top of dataset"
   ]
  },
  {
   "cell_type": "markdown",
   "id": "31a22b46",
   "metadata": {
    "slideshow": {
     "slide_type": "slide"
    }
   },
   "source": [
    "Next we made a new variable to indicate the number of years since 1992, the first year in the dataset. This will help to bring the 'year' variable onto a smaller scale that is more comparable to most of the other variables."
   ]
  },
  {
   "cell_type": "code",
   "execution_count": 220,
   "id": "8f52397e",
   "metadata": {
    "slideshow": {
     "slide_type": "fragment"
    }
   },
   "outputs": [],
   "source": [
    "disasters_copy['yrs_since_92'] = disasters_copy['year'] - 1992 #Normalize so that we can use time as a feature"
   ]
  },
  {
   "cell_type": "code",
   "execution_count": 221,
   "id": "e74a3d12",
   "metadata": {
    "slideshow": {
     "slide_type": "fragment"
    }
   },
   "outputs": [
    {
     "data": {
      "text/html": [
       "<div>\n",
       "<style scoped>\n",
       "    .dataframe tbody tr th:only-of-type {\n",
       "        vertical-align: middle;\n",
       "    }\n",
       "\n",
       "    .dataframe tbody tr th {\n",
       "        vertical-align: top;\n",
       "    }\n",
       "\n",
       "    .dataframe thead th {\n",
       "        text-align: right;\n",
       "    }\n",
       "</style>\n",
       "<table border=\"1\" class=\"dataframe\">\n",
       "  <thead>\n",
       "    <tr style=\"text-align: right;\">\n",
       "      <th></th>\n",
       "      <th>id</th>\n",
       "      <th>country</th>\n",
       "      <th>year</th>\n",
       "      <th>disastertype</th>\n",
       "      <th>yrs_since_92</th>\n",
       "    </tr>\n",
       "  </thead>\n",
       "  <tbody>\n",
       "    <tr>\n",
       "      <th>0</th>\n",
       "      <td>109</td>\n",
       "      <td>Albania</td>\n",
       "      <td>2009</td>\n",
       "      <td>flood</td>\n",
       "      <td>17</td>\n",
       "    </tr>\n",
       "    <tr>\n",
       "      <th>2</th>\n",
       "      <td>175</td>\n",
       "      <td>Angola</td>\n",
       "      <td>2001</td>\n",
       "      <td>flood</td>\n",
       "      <td>9</td>\n",
       "    </tr>\n",
       "    <tr>\n",
       "      <th>3</th>\n",
       "      <td>187</td>\n",
       "      <td>Angola</td>\n",
       "      <td>2009</td>\n",
       "      <td>flood</td>\n",
       "      <td>17</td>\n",
       "    </tr>\n",
       "    <tr>\n",
       "      <th>6</th>\n",
       "      <td>189</td>\n",
       "      <td>Angola</td>\n",
       "      <td>2010</td>\n",
       "      <td>flood</td>\n",
       "      <td>18</td>\n",
       "    </tr>\n",
       "    <tr>\n",
       "      <th>8</th>\n",
       "      <td>527</td>\n",
       "      <td>Bangladesh</td>\n",
       "      <td>1995</td>\n",
       "      <td>storm</td>\n",
       "      <td>3</td>\n",
       "    </tr>\n",
       "  </tbody>\n",
       "</table>\n",
       "</div>"
      ],
      "text/plain": [
       "    id     country  year disastertype  yrs_since_92\n",
       "0  109     Albania  2009        flood            17\n",
       "2  175      Angola  2001        flood             9\n",
       "3  187      Angola  2009        flood            17\n",
       "6  189      Angola  2010        flood            18\n",
       "8  527  Bangladesh  1995        storm             3"
      ]
     },
     "execution_count": 221,
     "metadata": {},
     "output_type": "execute_result"
    }
   ],
   "source": [
    "disasters_copy.head(5) #Examine top of dataset"
   ]
  },
  {
   "cell_type": "markdown",
   "id": "6439e98a",
   "metadata": {
    "slideshow": {
     "slide_type": "slide"
    }
   },
   "source": [
    "Then we retain only those years that match the years included in our migration and economic data (every five years starting with 1992)."
   ]
  },
  {
   "cell_type": "code",
   "execution_count": 222,
   "id": "d615ac14",
   "metadata": {
    "slideshow": {
     "slide_type": "fragment"
    }
   },
   "outputs": [
    {
     "data": {
      "text/html": [
       "<div>\n",
       "<style scoped>\n",
       "    .dataframe tbody tr th:only-of-type {\n",
       "        vertical-align: middle;\n",
       "    }\n",
       "\n",
       "    .dataframe tbody tr th {\n",
       "        vertical-align: top;\n",
       "    }\n",
       "\n",
       "    .dataframe thead th {\n",
       "        text-align: right;\n",
       "    }\n",
       "</style>\n",
       "<table border=\"1\" class=\"dataframe\">\n",
       "  <thead>\n",
       "    <tr style=\"text-align: right;\">\n",
       "      <th></th>\n",
       "      <th>id</th>\n",
       "      <th>country</th>\n",
       "      <th>year</th>\n",
       "      <th>disastertype</th>\n",
       "      <th>yrs_since_92</th>\n",
       "    </tr>\n",
       "  </thead>\n",
       "  <tbody>\n",
       "    <tr>\n",
       "      <th>14</th>\n",
       "      <td>539</td>\n",
       "      <td>Bangladesh</td>\n",
       "      <td>1997</td>\n",
       "      <td>storm</td>\n",
       "      <td>5</td>\n",
       "    </tr>\n",
       "    <tr>\n",
       "      <th>26</th>\n",
       "      <td>635</td>\n",
       "      <td>Bangladesh</td>\n",
       "      <td>2012</td>\n",
       "      <td>storm</td>\n",
       "      <td>20</td>\n",
       "    </tr>\n",
       "    <tr>\n",
       "      <th>79</th>\n",
       "      <td>1111</td>\n",
       "      <td>Chile</td>\n",
       "      <td>2002</td>\n",
       "      <td>flood</td>\n",
       "      <td>10</td>\n",
       "    </tr>\n",
       "    <tr>\n",
       "      <th>86</th>\n",
       "      <td>1120</td>\n",
       "      <td>Chile</td>\n",
       "      <td>2007</td>\n",
       "      <td>earthquake</td>\n",
       "      <td>15</td>\n",
       "    </tr>\n",
       "    <tr>\n",
       "      <th>127</th>\n",
       "      <td>2520</td>\n",
       "      <td>Haiti</td>\n",
       "      <td>2002</td>\n",
       "      <td>flood</td>\n",
       "      <td>10</td>\n",
       "    </tr>\n",
       "  </tbody>\n",
       "</table>\n",
       "</div>"
      ],
      "text/plain": [
       "       id     country  year disastertype  yrs_since_92\n",
       "14    539  Bangladesh  1997        storm             5\n",
       "26    635  Bangladesh  2012        storm            20\n",
       "79   1111       Chile  2002        flood            10\n",
       "86   1120       Chile  2007   earthquake            15\n",
       "127  2520       Haiti  2002        flood            10"
      ]
     },
     "execution_count": 222,
     "metadata": {},
     "output_type": "execute_result"
    }
   ],
   "source": [
    "migration_years = [1992, 1997, 2002, 2007, 2012, 2017]\n",
    "\n",
    "# Filter to keep only data from the same years as the migration dataset.\n",
    "disasters_copy = disasters_copy[disasters_copy['year'].isin(migration_years)]\n",
    "disasters_copy.head()"
   ]
  },
  {
   "cell_type": "markdown",
   "id": "95a26d36",
   "metadata": {
    "slideshow": {
     "slide_type": "slide"
    }
   },
   "source": [
    "We separate the categorical 'disastertype' variable into dummies for each type of disaster recorded."
   ]
  },
  {
   "cell_type": "code",
   "execution_count": 223,
   "id": "4bf96a69",
   "metadata": {
    "slideshow": {
     "slide_type": "fragment"
    }
   },
   "outputs": [
    {
     "data": {
      "text/html": [
       "<div>\n",
       "<style scoped>\n",
       "    .dataframe tbody tr th:only-of-type {\n",
       "        vertical-align: middle;\n",
       "    }\n",
       "\n",
       "    .dataframe tbody tr th {\n",
       "        vertical-align: top;\n",
       "    }\n",
       "\n",
       "    .dataframe thead th {\n",
       "        text-align: right;\n",
       "    }\n",
       "</style>\n",
       "<table border=\"1\" class=\"dataframe\">\n",
       "  <thead>\n",
       "    <tr style=\"text-align: right;\">\n",
       "      <th></th>\n",
       "      <th>id</th>\n",
       "      <th>country</th>\n",
       "      <th>year</th>\n",
       "      <th>yrs_since_92</th>\n",
       "      <th>disastertype_drought</th>\n",
       "      <th>disastertype_earthquake</th>\n",
       "      <th>disastertype_extreme temperature</th>\n",
       "      <th>disastertype_flood</th>\n",
       "      <th>disastertype_landslide</th>\n",
       "      <th>disastertype_mass movement (dry)</th>\n",
       "      <th>disastertype_storm</th>\n",
       "      <th>disastertype_volcanic activity</th>\n",
       "    </tr>\n",
       "  </thead>\n",
       "  <tbody>\n",
       "    <tr>\n",
       "      <th>14</th>\n",
       "      <td>539</td>\n",
       "      <td>Bangladesh</td>\n",
       "      <td>1997</td>\n",
       "      <td>5</td>\n",
       "      <td>0</td>\n",
       "      <td>0</td>\n",
       "      <td>0</td>\n",
       "      <td>0</td>\n",
       "      <td>0</td>\n",
       "      <td>0</td>\n",
       "      <td>1</td>\n",
       "      <td>0</td>\n",
       "    </tr>\n",
       "    <tr>\n",
       "      <th>26</th>\n",
       "      <td>635</td>\n",
       "      <td>Bangladesh</td>\n",
       "      <td>2012</td>\n",
       "      <td>20</td>\n",
       "      <td>0</td>\n",
       "      <td>0</td>\n",
       "      <td>0</td>\n",
       "      <td>0</td>\n",
       "      <td>0</td>\n",
       "      <td>0</td>\n",
       "      <td>1</td>\n",
       "      <td>0</td>\n",
       "    </tr>\n",
       "    <tr>\n",
       "      <th>79</th>\n",
       "      <td>1111</td>\n",
       "      <td>Chile</td>\n",
       "      <td>2002</td>\n",
       "      <td>10</td>\n",
       "      <td>0</td>\n",
       "      <td>0</td>\n",
       "      <td>0</td>\n",
       "      <td>1</td>\n",
       "      <td>0</td>\n",
       "      <td>0</td>\n",
       "      <td>0</td>\n",
       "      <td>0</td>\n",
       "    </tr>\n",
       "    <tr>\n",
       "      <th>86</th>\n",
       "      <td>1120</td>\n",
       "      <td>Chile</td>\n",
       "      <td>2007</td>\n",
       "      <td>15</td>\n",
       "      <td>0</td>\n",
       "      <td>1</td>\n",
       "      <td>0</td>\n",
       "      <td>0</td>\n",
       "      <td>0</td>\n",
       "      <td>0</td>\n",
       "      <td>0</td>\n",
       "      <td>0</td>\n",
       "    </tr>\n",
       "    <tr>\n",
       "      <th>127</th>\n",
       "      <td>2520</td>\n",
       "      <td>Haiti</td>\n",
       "      <td>2002</td>\n",
       "      <td>10</td>\n",
       "      <td>0</td>\n",
       "      <td>0</td>\n",
       "      <td>0</td>\n",
       "      <td>1</td>\n",
       "      <td>0</td>\n",
       "      <td>0</td>\n",
       "      <td>0</td>\n",
       "      <td>0</td>\n",
       "    </tr>\n",
       "  </tbody>\n",
       "</table>\n",
       "</div>"
      ],
      "text/plain": [
       "       id     country  year  yrs_since_92  disastertype_drought  \\\n",
       "14    539  Bangladesh  1997             5                     0   \n",
       "26    635  Bangladesh  2012            20                     0   \n",
       "79   1111       Chile  2002            10                     0   \n",
       "86   1120       Chile  2007            15                     0   \n",
       "127  2520       Haiti  2002            10                     0   \n",
       "\n",
       "     disastertype_earthquake  disastertype_extreme temperature   \\\n",
       "14                         0                                  0   \n",
       "26                         0                                  0   \n",
       "79                         0                                  0   \n",
       "86                         1                                  0   \n",
       "127                        0                                  0   \n",
       "\n",
       "     disastertype_flood  disastertype_landslide  \\\n",
       "14                    0                       0   \n",
       "26                    0                       0   \n",
       "79                    1                       0   \n",
       "86                    0                       0   \n",
       "127                   1                       0   \n",
       "\n",
       "     disastertype_mass movement (dry)  disastertype_storm  \\\n",
       "14                                  0                   1   \n",
       "26                                  0                   1   \n",
       "79                                  0                   0   \n",
       "86                                  0                   0   \n",
       "127                                 0                   0   \n",
       "\n",
       "     disastertype_volcanic activity  \n",
       "14                                0  \n",
       "26                                0  \n",
       "79                                0  \n",
       "86                                0  \n",
       "127                               0  "
      ]
     },
     "execution_count": 223,
     "metadata": {},
     "output_type": "execute_result"
    }
   ],
   "source": [
    "# Create dummy variables for each disaster type.\n",
    "disasters_copy = pd.get_dummies(data = disasters_copy, columns = ['disastertype'])\n",
    "disasters_copy.head()"
   ]
  },
  {
   "cell_type": "markdown",
   "id": "b0be6a7d",
   "metadata": {
    "slideshow": {
     "slide_type": "slide"
    }
   },
   "source": [
    "Next we are going to need to sum up all of the disasters for a given country in a given year, hereforward referred to as a country-year. We start by creating a Mutli-Index on country-year."
   ]
  },
  {
   "cell_type": "code",
   "execution_count": 224,
   "id": "9e2b3541",
   "metadata": {
    "slideshow": {
     "slide_type": "fragment"
    }
   },
   "outputs": [
    {
     "data": {
      "text/html": [
       "<div>\n",
       "<style scoped>\n",
       "    .dataframe tbody tr th:only-of-type {\n",
       "        vertical-align: middle;\n",
       "    }\n",
       "\n",
       "    .dataframe tbody tr th {\n",
       "        vertical-align: top;\n",
       "    }\n",
       "\n",
       "    .dataframe thead th {\n",
       "        text-align: right;\n",
       "    }\n",
       "</style>\n",
       "<table border=\"1\" class=\"dataframe\">\n",
       "  <thead>\n",
       "    <tr style=\"text-align: right;\">\n",
       "      <th></th>\n",
       "      <th></th>\n",
       "      <th>id</th>\n",
       "      <th>country</th>\n",
       "      <th>year</th>\n",
       "      <th>yrs_since_92</th>\n",
       "      <th>disastertype_drought</th>\n",
       "      <th>disastertype_earthquake</th>\n",
       "      <th>disastertype_extreme temperature</th>\n",
       "      <th>disastertype_flood</th>\n",
       "      <th>disastertype_landslide</th>\n",
       "      <th>disastertype_mass movement (dry)</th>\n",
       "      <th>disastertype_storm</th>\n",
       "      <th>disastertype_volcanic activity</th>\n",
       "    </tr>\n",
       "    <tr>\n",
       "      <th>country</th>\n",
       "      <th>year</th>\n",
       "      <th></th>\n",
       "      <th></th>\n",
       "      <th></th>\n",
       "      <th></th>\n",
       "      <th></th>\n",
       "      <th></th>\n",
       "      <th></th>\n",
       "      <th></th>\n",
       "      <th></th>\n",
       "      <th></th>\n",
       "      <th></th>\n",
       "      <th></th>\n",
       "    </tr>\n",
       "  </thead>\n",
       "  <tbody>\n",
       "    <tr>\n",
       "      <th rowspan=\"2\" valign=\"top\">Bangladesh</th>\n",
       "      <th>1997</th>\n",
       "      <td>539</td>\n",
       "      <td>Bangladesh</td>\n",
       "      <td>1997</td>\n",
       "      <td>5</td>\n",
       "      <td>0</td>\n",
       "      <td>0</td>\n",
       "      <td>0</td>\n",
       "      <td>0</td>\n",
       "      <td>0</td>\n",
       "      <td>0</td>\n",
       "      <td>1</td>\n",
       "      <td>0</td>\n",
       "    </tr>\n",
       "    <tr>\n",
       "      <th>2012</th>\n",
       "      <td>635</td>\n",
       "      <td>Bangladesh</td>\n",
       "      <td>2012</td>\n",
       "      <td>20</td>\n",
       "      <td>0</td>\n",
       "      <td>0</td>\n",
       "      <td>0</td>\n",
       "      <td>0</td>\n",
       "      <td>0</td>\n",
       "      <td>0</td>\n",
       "      <td>1</td>\n",
       "      <td>0</td>\n",
       "    </tr>\n",
       "    <tr>\n",
       "      <th rowspan=\"2\" valign=\"top\">Chile</th>\n",
       "      <th>2002</th>\n",
       "      <td>1111</td>\n",
       "      <td>Chile</td>\n",
       "      <td>2002</td>\n",
       "      <td>10</td>\n",
       "      <td>0</td>\n",
       "      <td>0</td>\n",
       "      <td>0</td>\n",
       "      <td>1</td>\n",
       "      <td>0</td>\n",
       "      <td>0</td>\n",
       "      <td>0</td>\n",
       "      <td>0</td>\n",
       "    </tr>\n",
       "    <tr>\n",
       "      <th>2007</th>\n",
       "      <td>1120</td>\n",
       "      <td>Chile</td>\n",
       "      <td>2007</td>\n",
       "      <td>15</td>\n",
       "      <td>0</td>\n",
       "      <td>1</td>\n",
       "      <td>0</td>\n",
       "      <td>0</td>\n",
       "      <td>0</td>\n",
       "      <td>0</td>\n",
       "      <td>0</td>\n",
       "      <td>0</td>\n",
       "    </tr>\n",
       "    <tr>\n",
       "      <th>Haiti</th>\n",
       "      <th>2002</th>\n",
       "      <td>2520</td>\n",
       "      <td>Haiti</td>\n",
       "      <td>2002</td>\n",
       "      <td>10</td>\n",
       "      <td>0</td>\n",
       "      <td>0</td>\n",
       "      <td>0</td>\n",
       "      <td>1</td>\n",
       "      <td>0</td>\n",
       "      <td>0</td>\n",
       "      <td>0</td>\n",
       "      <td>0</td>\n",
       "    </tr>\n",
       "  </tbody>\n",
       "</table>\n",
       "</div>"
      ],
      "text/plain": [
       "                   id     country  year  yrs_since_92  disastertype_drought  \\\n",
       "country    year                                                               \n",
       "Bangladesh 1997   539  Bangladesh  1997             5                     0   \n",
       "           2012   635  Bangladesh  2012            20                     0   \n",
       "Chile      2002  1111       Chile  2002            10                     0   \n",
       "           2007  1120       Chile  2007            15                     0   \n",
       "Haiti      2002  2520       Haiti  2002            10                     0   \n",
       "\n",
       "                 disastertype_earthquake  disastertype_extreme temperature   \\\n",
       "country    year                                                               \n",
       "Bangladesh 1997                        0                                  0   \n",
       "           2012                        0                                  0   \n",
       "Chile      2002                        0                                  0   \n",
       "           2007                        1                                  0   \n",
       "Haiti      2002                        0                                  0   \n",
       "\n",
       "                 disastertype_flood  disastertype_landslide  \\\n",
       "country    year                                               \n",
       "Bangladesh 1997                   0                       0   \n",
       "           2012                   0                       0   \n",
       "Chile      2002                   1                       0   \n",
       "           2007                   0                       0   \n",
       "Haiti      2002                   1                       0   \n",
       "\n",
       "                 disastertype_mass movement (dry)  disastertype_storm  \\\n",
       "country    year                                                         \n",
       "Bangladesh 1997                                 0                   1   \n",
       "           2012                                 0                   1   \n",
       "Chile      2002                                 0                   0   \n",
       "           2007                                 0                   0   \n",
       "Haiti      2002                                 0                   0   \n",
       "\n",
       "                 disastertype_volcanic activity  \n",
       "country    year                                  \n",
       "Bangladesh 1997                               0  \n",
       "           2012                               0  \n",
       "Chile      2002                               0  \n",
       "           2007                               0  \n",
       "Haiti      2002                               0  "
      ]
     },
     "execution_count": 224,
     "metadata": {},
     "output_type": "execute_result"
    }
   ],
   "source": [
    "# Multi-index the dataset with country and year.\n",
    "disasters_copy.set_index(keys=['country','year'], drop=False, inplace=True)\n",
    "disasters_copy.head()\n"
   ]
  },
  {
   "cell_type": "markdown",
   "id": "38dded82",
   "metadata": {
    "slideshow": {
     "slide_type": "fragment"
    }
   },
   "source": [
    "Then need to separate out the features we want to sum from those we won't be summing and create a blank dataframe 'sums' to hold the summations for each country-year. Lastly we sort the indexes for both the full dataset and the 'toSum' dataset."
   ]
  },
  {
   "cell_type": "code",
   "execution_count": 225,
   "id": "d2f3029c",
   "metadata": {
    "slideshow": {
     "slide_type": "skip"
    }
   },
   "outputs": [],
   "source": [
    "# Separate out the features we want to sum from those we won't be summing.\n",
    "notToSum = disasters_copy[['id','country','year','yrs_since_92']].drop_duplicates(subset = ['country','year'], keep = 'first')\n",
    "toSum = disasters_copy.drop(columns = ['id','country','year','yrs_since_92'])\n",
    "sums = pd.DataFrame()\n",
    "\n",
    "disasters_copy.sort_index(inplace=True)\n",
    "toSum.sort_index(inplace=True)"
   ]
  },
  {
   "cell_type": "markdown",
   "id": "64a880b7",
   "metadata": {
    "slideshow": {
     "slide_type": "slide"
    }
   },
   "source": [
    "The next step simply loops through each country-year by iterating through the dataset's index and summing all rows in the 'toSum' dataset that match that index. The summation row gets appended to 'sums'."
   ]
  },
  {
   "cell_type": "code",
   "execution_count": 226,
   "id": "6110437b",
   "metadata": {
    "slideshow": {
     "slide_type": "skip"
    }
   },
   "outputs": [],
   "source": [
    "# For each unique index (country+year), add together the disaster dummy variables and append to a new dataset.\n",
    "for i in disasters_copy.index:\n",
    "    rowSum = toSum.loc[i].sum().transpose() # Add up disasters for each index value (country + year)\n",
    "    rowSum.reindex(i) # Assign index as the given country + year\n",
    "    rowSum.name = i # Name the row so that we can append it to the sums dataframe\n",
    "    sums = sums.append(rowSum)\n",
    "    "
   ]
  },
  {
   "cell_type": "code",
   "execution_count": 227,
   "id": "f60027c5",
   "metadata": {
    "slideshow": {
     "slide_type": "fragment"
    }
   },
   "outputs": [
    {
     "data": {
      "text/html": [
       "<div>\n",
       "<style scoped>\n",
       "    .dataframe tbody tr th:only-of-type {\n",
       "        vertical-align: middle;\n",
       "    }\n",
       "\n",
       "    .dataframe tbody tr th {\n",
       "        vertical-align: top;\n",
       "    }\n",
       "\n",
       "    .dataframe thead th {\n",
       "        text-align: right;\n",
       "    }\n",
       "</style>\n",
       "<table border=\"1\" class=\"dataframe\">\n",
       "  <thead>\n",
       "    <tr style=\"text-align: right;\">\n",
       "      <th></th>\n",
       "      <th></th>\n",
       "      <th>id</th>\n",
       "      <th>country</th>\n",
       "      <th>year</th>\n",
       "      <th>yrs_since_92</th>\n",
       "    </tr>\n",
       "    <tr>\n",
       "      <th>country</th>\n",
       "      <th>year</th>\n",
       "      <th></th>\n",
       "      <th></th>\n",
       "      <th></th>\n",
       "      <th></th>\n",
       "    </tr>\n",
       "  </thead>\n",
       "  <tbody>\n",
       "    <tr>\n",
       "      <th rowspan=\"2\" valign=\"top\">Bangladesh</th>\n",
       "      <th>1997</th>\n",
       "      <td>539</td>\n",
       "      <td>Bangladesh</td>\n",
       "      <td>1997</td>\n",
       "      <td>5</td>\n",
       "    </tr>\n",
       "    <tr>\n",
       "      <th>2012</th>\n",
       "      <td>635</td>\n",
       "      <td>Bangladesh</td>\n",
       "      <td>2012</td>\n",
       "      <td>20</td>\n",
       "    </tr>\n",
       "    <tr>\n",
       "      <th rowspan=\"2\" valign=\"top\">Chile</th>\n",
       "      <th>2002</th>\n",
       "      <td>1111</td>\n",
       "      <td>Chile</td>\n",
       "      <td>2002</td>\n",
       "      <td>10</td>\n",
       "    </tr>\n",
       "    <tr>\n",
       "      <th>2007</th>\n",
       "      <td>1120</td>\n",
       "      <td>Chile</td>\n",
       "      <td>2007</td>\n",
       "      <td>15</td>\n",
       "    </tr>\n",
       "    <tr>\n",
       "      <th>Haiti</th>\n",
       "      <th>2002</th>\n",
       "      <td>2520</td>\n",
       "      <td>Haiti</td>\n",
       "      <td>2002</td>\n",
       "      <td>10</td>\n",
       "    </tr>\n",
       "  </tbody>\n",
       "</table>\n",
       "</div>"
      ],
      "text/plain": [
       "                   id     country  year  yrs_since_92\n",
       "country    year                                      \n",
       "Bangladesh 1997   539  Bangladesh  1997             5\n",
       "           2012   635  Bangladesh  2012            20\n",
       "Chile      2002  1111       Chile  2002            10\n",
       "           2007  1120       Chile  2007            15\n",
       "Haiti      2002  2520       Haiti  2002            10"
      ]
     },
     "execution_count": 227,
     "metadata": {},
     "output_type": "execute_result"
    }
   ],
   "source": [
    "notToSum.head() # Inspect the variables with country and year info; should be one row per unique index value."
   ]
  },
  {
   "cell_type": "markdown",
   "id": "64e26c13",
   "metadata": {
    "slideshow": {
     "slide_type": "skip"
    }
   },
   "source": [
    "Next we drop any duplicates from the 'sums' and assign names to it's Multi-Index so that we can merge it back onto the 'notToSum' dataframe by matching on index."
   ]
  },
  {
   "cell_type": "code",
   "execution_count": 228,
   "id": "46e06a21",
   "metadata": {
    "slideshow": {
     "slide_type": "skip"
    }
   },
   "outputs": [
    {
     "data": {
      "text/html": [
       "<div>\n",
       "<style scoped>\n",
       "    .dataframe tbody tr th:only-of-type {\n",
       "        vertical-align: middle;\n",
       "    }\n",
       "\n",
       "    .dataframe tbody tr th {\n",
       "        vertical-align: top;\n",
       "    }\n",
       "\n",
       "    .dataframe thead th {\n",
       "        text-align: right;\n",
       "    }\n",
       "</style>\n",
       "<table border=\"1\" class=\"dataframe\">\n",
       "  <thead>\n",
       "    <tr style=\"text-align: right;\">\n",
       "      <th></th>\n",
       "      <th></th>\n",
       "      <th>disastertype_drought</th>\n",
       "      <th>disastertype_earthquake</th>\n",
       "      <th>disastertype_extreme temperature</th>\n",
       "      <th>disastertype_flood</th>\n",
       "      <th>disastertype_landslide</th>\n",
       "      <th>disastertype_mass movement (dry)</th>\n",
       "      <th>disastertype_storm</th>\n",
       "      <th>disastertype_volcanic activity</th>\n",
       "    </tr>\n",
       "    <tr>\n",
       "      <th>country</th>\n",
       "      <th>year</th>\n",
       "      <th></th>\n",
       "      <th></th>\n",
       "      <th></th>\n",
       "      <th></th>\n",
       "      <th></th>\n",
       "      <th></th>\n",
       "      <th></th>\n",
       "      <th></th>\n",
       "    </tr>\n",
       "  </thead>\n",
       "  <tbody>\n",
       "    <tr>\n",
       "      <th rowspan=\"5\" valign=\"top\">Afghanistan</th>\n",
       "      <th>1992</th>\n",
       "      <td>0.0</td>\n",
       "      <td>0.0</td>\n",
       "      <td>0.0</td>\n",
       "      <td>2.0</td>\n",
       "      <td>0.0</td>\n",
       "      <td>0.0</td>\n",
       "      <td>0.0</td>\n",
       "      <td>0.0</td>\n",
       "    </tr>\n",
       "    <tr>\n",
       "      <th>1997</th>\n",
       "      <td>0.0</td>\n",
       "      <td>1.0</td>\n",
       "      <td>0.0</td>\n",
       "      <td>2.0</td>\n",
       "      <td>1.0</td>\n",
       "      <td>0.0</td>\n",
       "      <td>0.0</td>\n",
       "      <td>0.0</td>\n",
       "    </tr>\n",
       "    <tr>\n",
       "      <th>2002</th>\n",
       "      <td>0.0</td>\n",
       "      <td>3.0</td>\n",
       "      <td>0.0</td>\n",
       "      <td>4.0</td>\n",
       "      <td>1.0</td>\n",
       "      <td>0.0</td>\n",
       "      <td>0.0</td>\n",
       "      <td>0.0</td>\n",
       "    </tr>\n",
       "    <tr>\n",
       "      <th>2007</th>\n",
       "      <td>0.0</td>\n",
       "      <td>0.0</td>\n",
       "      <td>0.0</td>\n",
       "      <td>7.0</td>\n",
       "      <td>0.0</td>\n",
       "      <td>0.0</td>\n",
       "      <td>0.0</td>\n",
       "      <td>0.0</td>\n",
       "    </tr>\n",
       "    <tr>\n",
       "      <th>2012</th>\n",
       "      <td>0.0</td>\n",
       "      <td>1.0</td>\n",
       "      <td>1.0</td>\n",
       "      <td>6.0</td>\n",
       "      <td>3.0</td>\n",
       "      <td>0.0</td>\n",
       "      <td>0.0</td>\n",
       "      <td>0.0</td>\n",
       "    </tr>\n",
       "  </tbody>\n",
       "</table>\n",
       "</div>"
      ],
      "text/plain": [
       "                  disastertype_drought  disastertype_earthquake  \\\n",
       "country     year                                                  \n",
       "Afghanistan 1992                   0.0                      0.0   \n",
       "            1997                   0.0                      1.0   \n",
       "            2002                   0.0                      3.0   \n",
       "            2007                   0.0                      0.0   \n",
       "            2012                   0.0                      1.0   \n",
       "\n",
       "                  disastertype_extreme temperature   disastertype_flood  \\\n",
       "country     year                                                          \n",
       "Afghanistan 1992                                0.0                 2.0   \n",
       "            1997                                0.0                 2.0   \n",
       "            2002                                0.0                 4.0   \n",
       "            2007                                0.0                 7.0   \n",
       "            2012                                1.0                 6.0   \n",
       "\n",
       "                  disastertype_landslide  disastertype_mass movement (dry)  \\\n",
       "country     year                                                             \n",
       "Afghanistan 1992                     0.0                               0.0   \n",
       "            1997                     1.0                               0.0   \n",
       "            2002                     1.0                               0.0   \n",
       "            2007                     0.0                               0.0   \n",
       "            2012                     3.0                               0.0   \n",
       "\n",
       "                  disastertype_storm  disastertype_volcanic activity  \n",
       "country     year                                                      \n",
       "Afghanistan 1992                 0.0                             0.0  \n",
       "            1997                 0.0                             0.0  \n",
       "            2002                 0.0                             0.0  \n",
       "            2007                 0.0                             0.0  \n",
       "            2012                 0.0                             0.0  "
      ]
     },
     "execution_count": 228,
     "metadata": {},
     "output_type": "execute_result"
    }
   ],
   "source": [
    "# Remove any rows from the sums with duplicate index (country+year) then convert to a multi-index.\n",
    "sums = sums[~sums.index.duplicated(keep='first')]\n",
    "index = pd.MultiIndex.from_tuples(sums.index)\n",
    "sums2 = sums.set_index(index) # Assign sums the multi-index created in previous line\n",
    "sums2.index.set_names(['country','year'], inplace=True) # Assign names for the index so we can merge with notToSum\n",
    "sums2.head() # Inspect sums to make sure indexing is correct\n"
   ]
  },
  {
   "cell_type": "code",
   "execution_count": 229,
   "id": "1b6084b1",
   "metadata": {
    "slideshow": {
     "slide_type": "skip"
    }
   },
   "outputs": [
    {
     "name": "stdout",
     "output_type": "stream",
     "text": [
      "['country', 'year']\n",
      "['country', 'year']\n"
     ]
    }
   ],
   "source": [
    "# Make sure sums2 and notToSum have the same index names so they can be merged.\n",
    "print(notToSum.index.names)\n",
    "print(sums2.index.names)"
   ]
  },
  {
   "cell_type": "code",
   "execution_count": 230,
   "id": "b6d19f39",
   "metadata": {
    "scrolled": true,
    "slideshow": {
     "slide_type": "fragment"
    }
   },
   "outputs": [
    {
     "data": {
      "text/html": [
       "<div>\n",
       "<style scoped>\n",
       "    .dataframe tbody tr th:only-of-type {\n",
       "        vertical-align: middle;\n",
       "    }\n",
       "\n",
       "    .dataframe tbody tr th {\n",
       "        vertical-align: top;\n",
       "    }\n",
       "\n",
       "    .dataframe thead th {\n",
       "        text-align: right;\n",
       "    }\n",
       "</style>\n",
       "<table border=\"1\" class=\"dataframe\">\n",
       "  <thead>\n",
       "    <tr style=\"text-align: right;\">\n",
       "      <th></th>\n",
       "      <th></th>\n",
       "      <th>id</th>\n",
       "      <th>Dis_Country</th>\n",
       "      <th>Dis_Year</th>\n",
       "      <th>yrs_since_92</th>\n",
       "      <th>disastertype_drought</th>\n",
       "      <th>disastertype_earthquake</th>\n",
       "      <th>disastertype_extreme temperature</th>\n",
       "      <th>disastertype_flood</th>\n",
       "      <th>disastertype_landslide</th>\n",
       "      <th>disastertype_mass movement (dry)</th>\n",
       "      <th>disastertype_storm</th>\n",
       "      <th>disastertype_volcanic activity</th>\n",
       "    </tr>\n",
       "    <tr>\n",
       "      <th>country</th>\n",
       "      <th>year</th>\n",
       "      <th></th>\n",
       "      <th></th>\n",
       "      <th></th>\n",
       "      <th></th>\n",
       "      <th></th>\n",
       "      <th></th>\n",
       "      <th></th>\n",
       "      <th></th>\n",
       "      <th></th>\n",
       "      <th></th>\n",
       "      <th></th>\n",
       "      <th></th>\n",
       "    </tr>\n",
       "  </thead>\n",
       "  <tbody>\n",
       "    <tr>\n",
       "      <th rowspan=\"6\" valign=\"top\">Afghanistan</th>\n",
       "      <th>1992</th>\n",
       "      <td>10</td>\n",
       "      <td>Afghanistan</td>\n",
       "      <td>1992</td>\n",
       "      <td>0</td>\n",
       "      <td>0.0</td>\n",
       "      <td>0.0</td>\n",
       "      <td>0.0</td>\n",
       "      <td>2.0</td>\n",
       "      <td>0.0</td>\n",
       "      <td>0.0</td>\n",
       "      <td>0.0</td>\n",
       "      <td>0.0</td>\n",
       "    </tr>\n",
       "    <tr>\n",
       "      <th>1997</th>\n",
       "      <td>6-Apr</td>\n",
       "      <td>Afghanistan</td>\n",
       "      <td>1997</td>\n",
       "      <td>5</td>\n",
       "      <td>0.0</td>\n",
       "      <td>1.0</td>\n",
       "      <td>0.0</td>\n",
       "      <td>2.0</td>\n",
       "      <td>1.0</td>\n",
       "      <td>0.0</td>\n",
       "      <td>0.0</td>\n",
       "      <td>0.0</td>\n",
       "    </tr>\n",
       "    <tr>\n",
       "      <th>2002</th>\n",
       "      <td>29</td>\n",
       "      <td>Afghanistan</td>\n",
       "      <td>2002</td>\n",
       "      <td>10</td>\n",
       "      <td>0.0</td>\n",
       "      <td>3.0</td>\n",
       "      <td>0.0</td>\n",
       "      <td>4.0</td>\n",
       "      <td>1.0</td>\n",
       "      <td>0.0</td>\n",
       "      <td>0.0</td>\n",
       "      <td>0.0</td>\n",
       "    </tr>\n",
       "    <tr>\n",
       "      <th>2007</th>\n",
       "      <td>68</td>\n",
       "      <td>Afghanistan</td>\n",
       "      <td>2007</td>\n",
       "      <td>15</td>\n",
       "      <td>0.0</td>\n",
       "      <td>0.0</td>\n",
       "      <td>0.0</td>\n",
       "      <td>7.0</td>\n",
       "      <td>0.0</td>\n",
       "      <td>0.0</td>\n",
       "      <td>0.0</td>\n",
       "      <td>0.0</td>\n",
       "    </tr>\n",
       "    <tr>\n",
       "      <th>2012</th>\n",
       "      <td>83</td>\n",
       "      <td>Afghanistan</td>\n",
       "      <td>2012</td>\n",
       "      <td>20</td>\n",
       "      <td>0.0</td>\n",
       "      <td>1.0</td>\n",
       "      <td>1.0</td>\n",
       "      <td>6.0</td>\n",
       "      <td>3.0</td>\n",
       "      <td>0.0</td>\n",
       "      <td>0.0</td>\n",
       "      <td>0.0</td>\n",
       "    </tr>\n",
       "    <tr>\n",
       "      <th>2017</th>\n",
       "      <td>5-Feb</td>\n",
       "      <td>Afghanistan</td>\n",
       "      <td>2017</td>\n",
       "      <td>25</td>\n",
       "      <td>0.0</td>\n",
       "      <td>0.0</td>\n",
       "      <td>0.0</td>\n",
       "      <td>1.0</td>\n",
       "      <td>2.0</td>\n",
       "      <td>0.0</td>\n",
       "      <td>2.0</td>\n",
       "      <td>0.0</td>\n",
       "    </tr>\n",
       "    <tr>\n",
       "      <th rowspan=\"6\" valign=\"top\">Albania</th>\n",
       "      <th>1992</th>\n",
       "      <td>98</td>\n",
       "      <td>Albania</td>\n",
       "      <td>1992</td>\n",
       "      <td>0</td>\n",
       "      <td>0.0</td>\n",
       "      <td>0.0</td>\n",
       "      <td>0.0</td>\n",
       "      <td>1.0</td>\n",
       "      <td>0.0</td>\n",
       "      <td>0.0</td>\n",
       "      <td>0.0</td>\n",
       "      <td>0.0</td>\n",
       "    </tr>\n",
       "    <tr>\n",
       "      <th>1997</th>\n",
       "      <td>101</td>\n",
       "      <td>Albania</td>\n",
       "      <td>1997</td>\n",
       "      <td>5</td>\n",
       "      <td>0.0</td>\n",
       "      <td>0.0</td>\n",
       "      <td>0.0</td>\n",
       "      <td>1.0</td>\n",
       "      <td>0.0</td>\n",
       "      <td>0.0</td>\n",
       "      <td>0.0</td>\n",
       "      <td>0.0</td>\n",
       "    </tr>\n",
       "    <tr>\n",
       "      <th>2002</th>\n",
       "      <td>104</td>\n",
       "      <td>Albania</td>\n",
       "      <td>2002</td>\n",
       "      <td>10</td>\n",
       "      <td>0.0</td>\n",
       "      <td>0.0</td>\n",
       "      <td>0.0</td>\n",
       "      <td>1.0</td>\n",
       "      <td>0.0</td>\n",
       "      <td>0.0</td>\n",
       "      <td>1.0</td>\n",
       "      <td>0.0</td>\n",
       "    </tr>\n",
       "    <tr>\n",
       "      <th>2007</th>\n",
       "      <td>10-Mar</td>\n",
       "      <td>Albania</td>\n",
       "      <td>2007</td>\n",
       "      <td>15</td>\n",
       "      <td>0.0</td>\n",
       "      <td>0.0</td>\n",
       "      <td>1.0</td>\n",
       "      <td>0.0</td>\n",
       "      <td>0.0</td>\n",
       "      <td>0.0</td>\n",
       "      <td>0.0</td>\n",
       "      <td>0.0</td>\n",
       "    </tr>\n",
       "    <tr>\n",
       "      <th>2012</th>\n",
       "      <td>11-Mar</td>\n",
       "      <td>Albania</td>\n",
       "      <td>2012</td>\n",
       "      <td>20</td>\n",
       "      <td>0.0</td>\n",
       "      <td>0.0</td>\n",
       "      <td>1.0</td>\n",
       "      <td>0.0</td>\n",
       "      <td>0.0</td>\n",
       "      <td>0.0</td>\n",
       "      <td>0.0</td>\n",
       "      <td>0.0</td>\n",
       "    </tr>\n",
       "    <tr>\n",
       "      <th>2017</th>\n",
       "      <td>12-Feb</td>\n",
       "      <td>Albania</td>\n",
       "      <td>2017</td>\n",
       "      <td>25</td>\n",
       "      <td>0.0</td>\n",
       "      <td>0.0</td>\n",
       "      <td>1.0</td>\n",
       "      <td>1.0</td>\n",
       "      <td>0.0</td>\n",
       "      <td>0.0</td>\n",
       "      <td>0.0</td>\n",
       "      <td>0.0</td>\n",
       "    </tr>\n",
       "    <tr>\n",
       "      <th rowspan=\"6\" valign=\"top\">Algeria</th>\n",
       "      <th>1992</th>\n",
       "      <td>125</td>\n",
       "      <td>Algeria</td>\n",
       "      <td>1992</td>\n",
       "      <td>0</td>\n",
       "      <td>0.0</td>\n",
       "      <td>1.0</td>\n",
       "      <td>0.0</td>\n",
       "      <td>1.0</td>\n",
       "      <td>0.0</td>\n",
       "      <td>0.0</td>\n",
       "      <td>0.0</td>\n",
       "      <td>0.0</td>\n",
       "    </tr>\n",
       "    <tr>\n",
       "      <th>1997</th>\n",
       "      <td>131</td>\n",
       "      <td>Algeria</td>\n",
       "      <td>1997</td>\n",
       "      <td>5</td>\n",
       "      <td>0.0</td>\n",
       "      <td>0.0</td>\n",
       "      <td>0.0</td>\n",
       "      <td>1.0</td>\n",
       "      <td>0.0</td>\n",
       "      <td>0.0</td>\n",
       "      <td>0.0</td>\n",
       "      <td>0.0</td>\n",
       "    </tr>\n",
       "    <tr>\n",
       "      <th>2002</th>\n",
       "      <td>140</td>\n",
       "      <td>Algeria</td>\n",
       "      <td>2002</td>\n",
       "      <td>10</td>\n",
       "      <td>0.0</td>\n",
       "      <td>0.0</td>\n",
       "      <td>0.0</td>\n",
       "      <td>3.0</td>\n",
       "      <td>0.0</td>\n",
       "      <td>0.0</td>\n",
       "      <td>0.0</td>\n",
       "      <td>0.0</td>\n",
       "    </tr>\n",
       "    <tr>\n",
       "      <th>2007</th>\n",
       "      <td>162</td>\n",
       "      <td>Algeria</td>\n",
       "      <td>2007</td>\n",
       "      <td>15</td>\n",
       "      <td>0.0</td>\n",
       "      <td>0.0</td>\n",
       "      <td>0.0</td>\n",
       "      <td>6.0</td>\n",
       "      <td>0.0</td>\n",
       "      <td>0.0</td>\n",
       "      <td>0.0</td>\n",
       "      <td>0.0</td>\n",
       "    </tr>\n",
       "    <tr>\n",
       "      <th>2012</th>\n",
       "      <td>167</td>\n",
       "      <td>Algeria</td>\n",
       "      <td>2012</td>\n",
       "      <td>20</td>\n",
       "      <td>0.0</td>\n",
       "      <td>0.0</td>\n",
       "      <td>0.0</td>\n",
       "      <td>2.0</td>\n",
       "      <td>0.0</td>\n",
       "      <td>0.0</td>\n",
       "      <td>0.0</td>\n",
       "      <td>0.0</td>\n",
       "    </tr>\n",
       "    <tr>\n",
       "      <th>2017</th>\n",
       "      <td>14-Mar</td>\n",
       "      <td>Algeria</td>\n",
       "      <td>2017</td>\n",
       "      <td>25</td>\n",
       "      <td>0.0</td>\n",
       "      <td>0.0</td>\n",
       "      <td>1.0</td>\n",
       "      <td>0.0</td>\n",
       "      <td>0.0</td>\n",
       "      <td>0.0</td>\n",
       "      <td>0.0</td>\n",
       "      <td>0.0</td>\n",
       "    </tr>\n",
       "    <tr>\n",
       "      <th rowspan=\"4\" valign=\"top\">Angola</th>\n",
       "      <th>2002</th>\n",
       "      <td>176</td>\n",
       "      <td>Angola</td>\n",
       "      <td>2002</td>\n",
       "      <td>10</td>\n",
       "      <td>0.0</td>\n",
       "      <td>0.0</td>\n",
       "      <td>0.0</td>\n",
       "      <td>1.0</td>\n",
       "      <td>0.0</td>\n",
       "      <td>0.0</td>\n",
       "      <td>0.0</td>\n",
       "      <td>0.0</td>\n",
       "    </tr>\n",
       "    <tr>\n",
       "      <th>2007</th>\n",
       "      <td>183</td>\n",
       "      <td>Angola</td>\n",
       "      <td>2007</td>\n",
       "      <td>15</td>\n",
       "      <td>0.0</td>\n",
       "      <td>0.0</td>\n",
       "      <td>0.0</td>\n",
       "      <td>2.0</td>\n",
       "      <td>0.0</td>\n",
       "      <td>0.0</td>\n",
       "      <td>0.0</td>\n",
       "      <td>0.0</td>\n",
       "    </tr>\n",
       "    <tr>\n",
       "      <th>2012</th>\n",
       "      <td>16-May</td>\n",
       "      <td>Angola</td>\n",
       "      <td>2012</td>\n",
       "      <td>20</td>\n",
       "      <td>1.0</td>\n",
       "      <td>0.0</td>\n",
       "      <td>0.0</td>\n",
       "      <td>0.0</td>\n",
       "      <td>0.0</td>\n",
       "      <td>0.0</td>\n",
       "      <td>0.0</td>\n",
       "      <td>0.0</td>\n",
       "    </tr>\n",
       "    <tr>\n",
       "      <th>2017</th>\n",
       "      <td>18-Feb</td>\n",
       "      <td>Angola</td>\n",
       "      <td>2017</td>\n",
       "      <td>25</td>\n",
       "      <td>1.0</td>\n",
       "      <td>0.0</td>\n",
       "      <td>0.0</td>\n",
       "      <td>1.0</td>\n",
       "      <td>0.0</td>\n",
       "      <td>0.0</td>\n",
       "      <td>0.0</td>\n",
       "      <td>0.0</td>\n",
       "    </tr>\n",
       "    <tr>\n",
       "      <th>Antigua And Barbuda</th>\n",
       "      <th>2017</th>\n",
       "      <td>21-Feb</td>\n",
       "      <td>Antigua And Barbuda</td>\n",
       "      <td>2017</td>\n",
       "      <td>25</td>\n",
       "      <td>0.0</td>\n",
       "      <td>0.0</td>\n",
       "      <td>0.0</td>\n",
       "      <td>0.0</td>\n",
       "      <td>0.0</td>\n",
       "      <td>0.0</td>\n",
       "      <td>1.0</td>\n",
       "      <td>0.0</td>\n",
       "    </tr>\n",
       "    <tr>\n",
       "      <th rowspan=\"2\" valign=\"top\">Argentina</th>\n",
       "      <th>1992</th>\n",
       "      <td>219</td>\n",
       "      <td>Argentina</td>\n",
       "      <td>1992</td>\n",
       "      <td>0</td>\n",
       "      <td>0.0</td>\n",
       "      <td>0.0</td>\n",
       "      <td>0.0</td>\n",
       "      <td>2.0</td>\n",
       "      <td>0.0</td>\n",
       "      <td>0.0</td>\n",
       "      <td>0.0</td>\n",
       "      <td>0.0</td>\n",
       "    </tr>\n",
       "    <tr>\n",
       "      <th>1997</th>\n",
       "      <td>226</td>\n",
       "      <td>Argentina</td>\n",
       "      <td>1997</td>\n",
       "      <td>5</td>\n",
       "      <td>0.0</td>\n",
       "      <td>0.0</td>\n",
       "      <td>0.0</td>\n",
       "      <td>1.0</td>\n",
       "      <td>0.0</td>\n",
       "      <td>0.0</td>\n",
       "      <td>0.0</td>\n",
       "      <td>0.0</td>\n",
       "    </tr>\n",
       "  </tbody>\n",
       "</table>\n",
       "</div>"
      ],
      "text/plain": [
       "                              id          Dis_Country  Dis_Year  yrs_since_92  \\\n",
       "country             year                                                        \n",
       "Afghanistan         1992      10          Afghanistan      1992             0   \n",
       "                    1997   6-Apr          Afghanistan      1997             5   \n",
       "                    2002      29          Afghanistan      2002            10   \n",
       "                    2007      68          Afghanistan      2007            15   \n",
       "                    2012      83          Afghanistan      2012            20   \n",
       "                    2017   5-Feb          Afghanistan      2017            25   \n",
       "Albania             1992      98              Albania      1992             0   \n",
       "                    1997     101              Albania      1997             5   \n",
       "                    2002     104              Albania      2002            10   \n",
       "                    2007  10-Mar              Albania      2007            15   \n",
       "                    2012  11-Mar              Albania      2012            20   \n",
       "                    2017  12-Feb              Albania      2017            25   \n",
       "Algeria             1992     125              Algeria      1992             0   \n",
       "                    1997     131              Algeria      1997             5   \n",
       "                    2002     140              Algeria      2002            10   \n",
       "                    2007     162              Algeria      2007            15   \n",
       "                    2012     167              Algeria      2012            20   \n",
       "                    2017  14-Mar              Algeria      2017            25   \n",
       "Angola              2002     176               Angola      2002            10   \n",
       "                    2007     183               Angola      2007            15   \n",
       "                    2012  16-May               Angola      2012            20   \n",
       "                    2017  18-Feb               Angola      2017            25   \n",
       "Antigua And Barbuda 2017  21-Feb  Antigua And Barbuda      2017            25   \n",
       "Argentina           1992     219            Argentina      1992             0   \n",
       "                    1997     226            Argentina      1997             5   \n",
       "\n",
       "                          disastertype_drought  disastertype_earthquake  \\\n",
       "country             year                                                  \n",
       "Afghanistan         1992                   0.0                      0.0   \n",
       "                    1997                   0.0                      1.0   \n",
       "                    2002                   0.0                      3.0   \n",
       "                    2007                   0.0                      0.0   \n",
       "                    2012                   0.0                      1.0   \n",
       "                    2017                   0.0                      0.0   \n",
       "Albania             1992                   0.0                      0.0   \n",
       "                    1997                   0.0                      0.0   \n",
       "                    2002                   0.0                      0.0   \n",
       "                    2007                   0.0                      0.0   \n",
       "                    2012                   0.0                      0.0   \n",
       "                    2017                   0.0                      0.0   \n",
       "Algeria             1992                   0.0                      1.0   \n",
       "                    1997                   0.0                      0.0   \n",
       "                    2002                   0.0                      0.0   \n",
       "                    2007                   0.0                      0.0   \n",
       "                    2012                   0.0                      0.0   \n",
       "                    2017                   0.0                      0.0   \n",
       "Angola              2002                   0.0                      0.0   \n",
       "                    2007                   0.0                      0.0   \n",
       "                    2012                   1.0                      0.0   \n",
       "                    2017                   1.0                      0.0   \n",
       "Antigua And Barbuda 2017                   0.0                      0.0   \n",
       "Argentina           1992                   0.0                      0.0   \n",
       "                    1997                   0.0                      0.0   \n",
       "\n",
       "                          disastertype_extreme temperature   \\\n",
       "country             year                                      \n",
       "Afghanistan         1992                                0.0   \n",
       "                    1997                                0.0   \n",
       "                    2002                                0.0   \n",
       "                    2007                                0.0   \n",
       "                    2012                                1.0   \n",
       "                    2017                                0.0   \n",
       "Albania             1992                                0.0   \n",
       "                    1997                                0.0   \n",
       "                    2002                                0.0   \n",
       "                    2007                                1.0   \n",
       "                    2012                                1.0   \n",
       "                    2017                                1.0   \n",
       "Algeria             1992                                0.0   \n",
       "                    1997                                0.0   \n",
       "                    2002                                0.0   \n",
       "                    2007                                0.0   \n",
       "                    2012                                0.0   \n",
       "                    2017                                1.0   \n",
       "Angola              2002                                0.0   \n",
       "                    2007                                0.0   \n",
       "                    2012                                0.0   \n",
       "                    2017                                0.0   \n",
       "Antigua And Barbuda 2017                                0.0   \n",
       "Argentina           1992                                0.0   \n",
       "                    1997                                0.0   \n",
       "\n",
       "                          disastertype_flood  disastertype_landslide  \\\n",
       "country             year                                               \n",
       "Afghanistan         1992                 2.0                     0.0   \n",
       "                    1997                 2.0                     1.0   \n",
       "                    2002                 4.0                     1.0   \n",
       "                    2007                 7.0                     0.0   \n",
       "                    2012                 6.0                     3.0   \n",
       "                    2017                 1.0                     2.0   \n",
       "Albania             1992                 1.0                     0.0   \n",
       "                    1997                 1.0                     0.0   \n",
       "                    2002                 1.0                     0.0   \n",
       "                    2007                 0.0                     0.0   \n",
       "                    2012                 0.0                     0.0   \n",
       "                    2017                 1.0                     0.0   \n",
       "Algeria             1992                 1.0                     0.0   \n",
       "                    1997                 1.0                     0.0   \n",
       "                    2002                 3.0                     0.0   \n",
       "                    2007                 6.0                     0.0   \n",
       "                    2012                 2.0                     0.0   \n",
       "                    2017                 0.0                     0.0   \n",
       "Angola              2002                 1.0                     0.0   \n",
       "                    2007                 2.0                     0.0   \n",
       "                    2012                 0.0                     0.0   \n",
       "                    2017                 1.0                     0.0   \n",
       "Antigua And Barbuda 2017                 0.0                     0.0   \n",
       "Argentina           1992                 2.0                     0.0   \n",
       "                    1997                 1.0                     0.0   \n",
       "\n",
       "                          disastertype_mass movement (dry)  \\\n",
       "country             year                                     \n",
       "Afghanistan         1992                               0.0   \n",
       "                    1997                               0.0   \n",
       "                    2002                               0.0   \n",
       "                    2007                               0.0   \n",
       "                    2012                               0.0   \n",
       "                    2017                               0.0   \n",
       "Albania             1992                               0.0   \n",
       "                    1997                               0.0   \n",
       "                    2002                               0.0   \n",
       "                    2007                               0.0   \n",
       "                    2012                               0.0   \n",
       "                    2017                               0.0   \n",
       "Algeria             1992                               0.0   \n",
       "                    1997                               0.0   \n",
       "                    2002                               0.0   \n",
       "                    2007                               0.0   \n",
       "                    2012                               0.0   \n",
       "                    2017                               0.0   \n",
       "Angola              2002                               0.0   \n",
       "                    2007                               0.0   \n",
       "                    2012                               0.0   \n",
       "                    2017                               0.0   \n",
       "Antigua And Barbuda 2017                               0.0   \n",
       "Argentina           1992                               0.0   \n",
       "                    1997                               0.0   \n",
       "\n",
       "                          disastertype_storm  disastertype_volcanic activity  \n",
       "country             year                                                      \n",
       "Afghanistan         1992                 0.0                             0.0  \n",
       "                    1997                 0.0                             0.0  \n",
       "                    2002                 0.0                             0.0  \n",
       "                    2007                 0.0                             0.0  \n",
       "                    2012                 0.0                             0.0  \n",
       "                    2017                 2.0                             0.0  \n",
       "Albania             1992                 0.0                             0.0  \n",
       "                    1997                 0.0                             0.0  \n",
       "                    2002                 1.0                             0.0  \n",
       "                    2007                 0.0                             0.0  \n",
       "                    2012                 0.0                             0.0  \n",
       "                    2017                 0.0                             0.0  \n",
       "Algeria             1992                 0.0                             0.0  \n",
       "                    1997                 0.0                             0.0  \n",
       "                    2002                 0.0                             0.0  \n",
       "                    2007                 0.0                             0.0  \n",
       "                    2012                 0.0                             0.0  \n",
       "                    2017                 0.0                             0.0  \n",
       "Angola              2002                 0.0                             0.0  \n",
       "                    2007                 0.0                             0.0  \n",
       "                    2012                 0.0                             0.0  \n",
       "                    2017                 0.0                             0.0  \n",
       "Antigua And Barbuda 2017                 1.0                             0.0  \n",
       "Argentina           1992                 0.0                             0.0  \n",
       "                    1997                 0.0                             0.0  "
      ]
     },
     "execution_count": 230,
     "metadata": {},
     "output_type": "execute_result"
    }
   ],
   "source": [
    "# Merge the country and year information with the disaster sums\n",
    "disasters_final = notToSum.merge(right=sums2, how='outer', left_index=True, right_index=True)\n",
    "disasters_final.rename(columns={'country':'Dis_Country', 'year':'Dis_Year'}, inplace=True)\n",
    "disasters_final.head(25) # Inspect final disaster dataframe\n"
   ]
  },
  {
   "cell_type": "code",
   "execution_count": 231,
   "id": "389a0cba",
   "metadata": {
    "slideshow": {
     "slide_type": "fragment"
    }
   },
   "outputs": [
    {
     "name": "stdout",
     "output_type": "stream",
     "text": [
      "588\n"
     ]
    }
   ],
   "source": [
    "print(len(disasters_final)) # Check the number of rows in the resulting dataframe"
   ]
  },
  {
   "cell_type": "markdown",
   "id": "b946d717",
   "metadata": {
    "slideshow": {
     "slide_type": "slide"
    }
   },
   "source": [
    "As the last part of our cleaning process for the disasters data, we rename any countries that are listed under a name different from that used in the migration and economic dataset (which we clean next)."
   ]
  },
  {
   "cell_type": "code",
   "execution_count": 232,
   "id": "69b1d277",
   "metadata": {
    "slideshow": {
     "slide_type": "fragment"
    }
   },
   "outputs": [],
   "source": [
    "disasters_final = disasters_final.replace({'Antigua And Barbuda' : 'Antigua and Barbuda',\n",
    "                                          'Bahamas' : 'Bahamas, The',\n",
    "                                           'Bosnia And Herzegovina' : 'Bosnia and Herzegovina',                        \n",
    "                                          'Cape Verde' : 'Cabo Verde',\n",
    "                                           'Democratic Republic Of The Congo' : 'Congo, Dem. Rep.',\n",
    "                                          'Republic Of Congo' : 'Congo, Rep.',\n",
    "                                           \"Cote D'Ivoire\" : \"Cote d'Ivoire\",\n",
    "                                          'Egypt' : 'Egypt, Arab Rep.',\n",
    "                                           'Gambia' : 'Gambia, The', \n",
    "                                          'Hong Kong' : 'Hong Kong SAR, China',\n",
    "                                           'Iran' : 'Iran, Islamic Rep.',\n",
    "                                          'North Korea' : 'Korea, Dem. Peopleâ€™s Rep.',\n",
    "                                           'South Korea' : 'Korea, Rep.',                                    \n",
    "                                          'Kyrgyzstan' : 'Kyrgyz Republic',\n",
    "                                           'Laos' : 'Lao PDR',\n",
    "                                           'Macao' : 'Macao SAR, China',\n",
    "                                          'Micronesia' : 'Micronesia, Fed. Sts.',\n",
    "                                           'Russia' : 'Russian Federation',\n",
    "                                          'Slovakia' : 'Slovak Republic',\n",
    "                                           'Syria' : 'Syrian Arab Republic', \n",
    "                                          'Trinidad And Tobago' : 'Trinidad and Tobago',\n",
    "                                           'Venezuela' : 'Venezuela, RB',\n",
    "                                          'Virgin Islands; U.S.' : 'Virgin Islands (U.S.)',\n",
    "                                           'Palestina' : 'West Bank and Gaza',\n",
    "                                          'Yemen' : 'Yemen, Rep.'})\n",
    "# Some country names are mismatched between this and the migration dataset\n"
   ]
  },
  {
   "cell_type": "markdown",
   "id": "3e18468f",
   "metadata": {
    "slideshow": {
     "slide_type": "slide"
    }
   },
   "source": [
    "## Cleaning the Migration and Economic Dataset"
   ]
  },
  {
   "cell_type": "markdown",
   "id": "b171720d",
   "metadata": {
    "slideshow": {
     "slide_type": "fragment"
    }
   },
   "source": [
    "First we read in the data and drop any columns we won't be using for analysis."
   ]
  },
  {
   "cell_type": "code",
   "execution_count": 233,
   "id": "fe0cd4ed",
   "metadata": {
    "slideshow": {
     "slide_type": "fragment"
    }
   },
   "outputs": [
    {
     "data": {
      "text/plain": [
       "37329"
      ]
     },
     "execution_count": 233,
     "metadata": {},
     "output_type": "execute_result"
    }
   ],
   "source": [
    "# Read in migration data and print the number of null values\n",
    "migration_full = pd.read_excel('migration_full_dataset.xlsx')\n",
    "migration_full.isna().sum().sum()"
   ]
  },
  {
   "cell_type": "code",
   "execution_count": 234,
   "id": "00f20f32",
   "metadata": {
    "scrolled": true,
    "slideshow": {
     "slide_type": "fragment"
    }
   },
   "outputs": [
    {
     "data": {
      "text/html": [
       "<div>\n",
       "<style scoped>\n",
       "    .dataframe tbody tr th:only-of-type {\n",
       "        vertical-align: middle;\n",
       "    }\n",
       "\n",
       "    .dataframe tbody tr th {\n",
       "        vertical-align: top;\n",
       "    }\n",
       "\n",
       "    .dataframe thead th {\n",
       "        text-align: right;\n",
       "    }\n",
       "</style>\n",
       "<table border=\"1\" class=\"dataframe\">\n",
       "  <thead>\n",
       "    <tr style=\"text-align: right;\">\n",
       "      <th></th>\n",
       "      <th>Country Name</th>\n",
       "      <th>Country Code</th>\n",
       "      <th>Year</th>\n",
       "      <th>Net migration</th>\n",
       "      <th>Continent</th>\n",
       "      <th>Agricultural land (% of land area)</th>\n",
       "      <th>Net ODA received (% of GNI)</th>\n",
       "      <th>Access to electricity (% of population)</th>\n",
       "      <th>GDP growth (annual %)</th>\n",
       "      <th>GDP per capita (current US$)</th>\n",
       "      <th>Mortality rate, under-5 (per 1,000 live births)</th>\n",
       "      <th>Unemployment, total (% of total labor force) (modeled ILO estimate)</th>\n",
       "      <th>Population, total</th>\n",
       "      <th>Dem.Index</th>\n",
       "      <th>Battle.Deaths</th>\n",
       "      <th>Human.Rights</th>\n",
       "      <th>Hum.Dev</th>\n",
       "    </tr>\n",
       "  </thead>\n",
       "  <tbody>\n",
       "    <tr>\n",
       "      <th>0</th>\n",
       "      <td>Aruba</td>\n",
       "      <td>ABW</td>\n",
       "      <td>1987</td>\n",
       "      <td>-5194</td>\n",
       "      <td>America</td>\n",
       "      <td>11.111111</td>\n",
       "      <td>4.418953</td>\n",
       "      <td>NaN</td>\n",
       "      <td>16.078431</td>\n",
       "      <td>7885.796545</td>\n",
       "      <td>NaN</td>\n",
       "      <td>NaN</td>\n",
       "      <td>61833.0</td>\n",
       "      <td>NaN</td>\n",
       "      <td>NaN</td>\n",
       "      <td>NaN</td>\n",
       "      <td>NaN</td>\n",
       "    </tr>\n",
       "    <tr>\n",
       "      <th>1</th>\n",
       "      <td>Aruba</td>\n",
       "      <td>ABW</td>\n",
       "      <td>1987</td>\n",
       "      <td>-5194</td>\n",
       "      <td>America</td>\n",
       "      <td>11.111111</td>\n",
       "      <td>4.418953</td>\n",
       "      <td>NaN</td>\n",
       "      <td>16.078431</td>\n",
       "      <td>7885.796545</td>\n",
       "      <td>NaN</td>\n",
       "      <td>NaN</td>\n",
       "      <td>61833.0</td>\n",
       "      <td>NaN</td>\n",
       "      <td>NaN</td>\n",
       "      <td>NaN</td>\n",
       "      <td>NaN</td>\n",
       "    </tr>\n",
       "    <tr>\n",
       "      <th>2</th>\n",
       "      <td>Afghanistan</td>\n",
       "      <td>AFG</td>\n",
       "      <td>1987</td>\n",
       "      <td>-1525351</td>\n",
       "      <td>Asia</td>\n",
       "      <td>58.274362</td>\n",
       "      <td>NaN</td>\n",
       "      <td>NaN</td>\n",
       "      <td>NaN</td>\n",
       "      <td>NaN</td>\n",
       "      <td>196.4</td>\n",
       "      <td>NaN</td>\n",
       "      <td>11604534.0</td>\n",
       "      <td>NaN</td>\n",
       "      <td>NaN</td>\n",
       "      <td>-3.304164</td>\n",
       "      <td>0.273</td>\n",
       "    </tr>\n",
       "    <tr>\n",
       "      <th>3</th>\n",
       "      <td>Afghanistan</td>\n",
       "      <td>AFG</td>\n",
       "      <td>1987</td>\n",
       "      <td>-1525351</td>\n",
       "      <td>Asia</td>\n",
       "      <td>58.274362</td>\n",
       "      <td>NaN</td>\n",
       "      <td>NaN</td>\n",
       "      <td>NaN</td>\n",
       "      <td>NaN</td>\n",
       "      <td>196.4</td>\n",
       "      <td>NaN</td>\n",
       "      <td>11604534.0</td>\n",
       "      <td>NaN</td>\n",
       "      <td>NaN</td>\n",
       "      <td>-3.304164</td>\n",
       "      <td>0.273</td>\n",
       "    </tr>\n",
       "    <tr>\n",
       "      <th>4</th>\n",
       "      <td>Angola</td>\n",
       "      <td>AGO</td>\n",
       "      <td>1987</td>\n",
       "      <td>188491</td>\n",
       "      <td>Africa</td>\n",
       "      <td>46.041550</td>\n",
       "      <td>2.011073</td>\n",
       "      <td>NaN</td>\n",
       "      <td>4.082749</td>\n",
       "      <td>756.261853</td>\n",
       "      <td>223.4</td>\n",
       "      <td>NaN</td>\n",
       "      <td>10689250.0</td>\n",
       "      <td>-7.0</td>\n",
       "      <td>NaN</td>\n",
       "      <td>-2.321777</td>\n",
       "      <td>NaN</td>\n",
       "    </tr>\n",
       "  </tbody>\n",
       "</table>\n",
       "</div>"
      ],
      "text/plain": [
       "  Country Name Country Code  Year  Net migration Continent  \\\n",
       "0        Aruba          ABW  1987          -5194   America   \n",
       "1        Aruba          ABW  1987          -5194   America   \n",
       "2  Afghanistan          AFG  1987       -1525351      Asia   \n",
       "3  Afghanistan          AFG  1987       -1525351      Asia   \n",
       "4       Angola          AGO  1987         188491    Africa   \n",
       "\n",
       "   Agricultural land (% of land area)  Net ODA received (% of GNI)  \\\n",
       "0                           11.111111                     4.418953   \n",
       "1                           11.111111                     4.418953   \n",
       "2                           58.274362                          NaN   \n",
       "3                           58.274362                          NaN   \n",
       "4                           46.041550                     2.011073   \n",
       "\n",
       "   Access to electricity (% of population)  GDP growth (annual %)  \\\n",
       "0                                      NaN              16.078431   \n",
       "1                                      NaN              16.078431   \n",
       "2                                      NaN                    NaN   \n",
       "3                                      NaN                    NaN   \n",
       "4                                      NaN               4.082749   \n",
       "\n",
       "   GDP per capita (current US$)  \\\n",
       "0                   7885.796545   \n",
       "1                   7885.796545   \n",
       "2                           NaN   \n",
       "3                           NaN   \n",
       "4                    756.261853   \n",
       "\n",
       "   Mortality rate, under-5 (per 1,000 live births)  \\\n",
       "0                                              NaN   \n",
       "1                                              NaN   \n",
       "2                                            196.4   \n",
       "3                                            196.4   \n",
       "4                                            223.4   \n",
       "\n",
       "   Unemployment, total (% of total labor force) (modeled ILO estimate)  \\\n",
       "0                                                NaN                     \n",
       "1                                                NaN                     \n",
       "2                                                NaN                     \n",
       "3                                                NaN                     \n",
       "4                                                NaN                     \n",
       "\n",
       "   Population, total  Dem.Index  Battle.Deaths  Human.Rights  Hum.Dev  \n",
       "0            61833.0        NaN            NaN           NaN      NaN  \n",
       "1            61833.0        NaN            NaN           NaN      NaN  \n",
       "2         11604534.0        NaN            NaN     -3.304164    0.273  \n",
       "3         11604534.0        NaN            NaN     -3.304164    0.273  \n",
       "4         10689250.0       -7.0            NaN     -2.321777      NaN  "
      ]
     },
     "execution_count": 234,
     "metadata": {},
     "output_type": "execute_result"
    }
   ],
   "source": [
    "# Dropping columns that do not aid in the analysis\n",
    "migration_drop = migration_full.drop(columns = ['Unnamed: 0', \n",
    "                                                'Personal remittances, received (current US$)',\n",
    "                                                'PM2.5 air pollution, mean annual exposure (micrograms per cubic meter)',\n",
    "                                                'Population density (people per sq. km of land area)',\n",
    "                                                'Population living in slums (% of urban population)',\n",
    "                                                'CPIA policies for social inclusion/equity cluster average (1=low to 6=high)',\n",
    "                                                'Armed forces personnel (% of total labor force)',\n",
    "                                                'Military expenditure (% of GDP)',\n",
    "                                                'School enrollment, primary and secondary (gross), gender parity index (GPI)',\n",
    "                                                'Government expenditure on education, total (% of GDP)',\n",
    "                                                'Cause of death, by communicable diseases and maternal, prenatal and nutrition conditions (% of total)',\n",
    "                                                'Income share held by highest 20%',\n",
    "                                                'Income share held by lowest 20%',\n",
    "                                                'Gini index (World Bank estimate)',\n",
    "                                                'Multidimensional poverty headcount ratio (% of total population)',\n",
    "                                                'Refugee population by country or territory of origin',\n",
    "                                                'International migrant stock, total',\n",
    "                                                'Prevalence of undernourishment (% of population)',\n",
    "                                                'Death rate, crude (per 1,000 people)',\n",
    "                                                'Life expectancy at birth, total (years)',\n",
    "                                                'Age dependency ratio (% of working-age population)', \n",
    "                                                'Urban population (% of total population)',\n",
    "                                                'Intentional homicides (per 100,000 people)',\n",
    "                                                'Income level',\n",
    "                                                'Years.Schooling'\n",
    "                                               ])\n",
    "migration_drop.head()"
   ]
  },
  {
   "cell_type": "markdown",
   "id": "e089b527",
   "metadata": {
    "slideshow": {
     "slide_type": "slide"
    }
   },
   "source": [
    "Next we create a 'rel.migration' variable that normalizes mirgration numbers based on the country's population. We also make dummy varialbes for each continent, clean up the variable names, and drop any data from before the time period under examination."
   ]
  },
  {
   "cell_type": "code",
   "execution_count": 235,
   "id": "d09cbb3c",
   "metadata": {
    "scrolled": true,
    "slideshow": {
     "slide_type": "skip"
    }
   },
   "outputs": [
    {
     "data": {
      "text/plain": [
       "2705"
      ]
     },
     "execution_count": 235,
     "metadata": {},
     "output_type": "execute_result"
    }
   ],
   "source": [
    "# Create a relative relative migration % column\n",
    "migration_drop[\"rel.migration\"] = migration_drop[\"Net migration\"] / migration_drop[\"Population, total\"] \n",
    "\n",
    "# Create dummy variables for each continent.\n",
    "migration_drop = pd.get_dummies(data = migration_drop, columns = ['Continent'])\n",
    "\n",
    "# Make column names uniform\n",
    "migration_drop.columns = migration_drop.columns.str.replace(',','')\n",
    "migration_drop.columns = migration_drop.columns.str.replace(' ','.')\n",
    "migration_drop.columns = migration_drop.columns.str.replace('_','.')\n",
    "migration_drop.columns = migration_drop.columns.str.replace('-','.')\n",
    "\n",
    "# Drop rows from the year 1987 and print the number of remaining null values\n",
    "migration_drop.drop(migration_drop[migration_drop['Year'] == 1987].index, inplace = True)\n",
    "migration_drop.isna().sum().sum()"
   ]
  },
  {
   "cell_type": "code",
   "execution_count": 236,
   "id": "59fbf94b",
   "metadata": {
    "scrolled": true,
    "slideshow": {
     "slide_type": "fragment"
    }
   },
   "outputs": [
    {
     "data": {
      "text/html": [
       "<div>\n",
       "<style scoped>\n",
       "    .dataframe tbody tr th:only-of-type {\n",
       "        vertical-align: middle;\n",
       "    }\n",
       "\n",
       "    .dataframe tbody tr th {\n",
       "        vertical-align: top;\n",
       "    }\n",
       "\n",
       "    .dataframe thead th {\n",
       "        text-align: right;\n",
       "    }\n",
       "</style>\n",
       "<table border=\"1\" class=\"dataframe\">\n",
       "  <thead>\n",
       "    <tr style=\"text-align: right;\">\n",
       "      <th></th>\n",
       "      <th>Country.Name</th>\n",
       "      <th>Country.Code</th>\n",
       "      <th>Year</th>\n",
       "      <th>Net.migration</th>\n",
       "      <th>Agricultural.land.(%.of.land.area)</th>\n",
       "      <th>Net.ODA.received.(%.of.GNI)</th>\n",
       "      <th>Access.to.electricity.(%.of.population)</th>\n",
       "      <th>GDP.growth.(annual.%)</th>\n",
       "      <th>GDP.per.capita.(current.US$)</th>\n",
       "      <th>Mortality.rate.under.5.(per.1000.live.births)</th>\n",
       "      <th>...</th>\n",
       "      <th>Dem.Index</th>\n",
       "      <th>Battle.Deaths</th>\n",
       "      <th>Human.Rights</th>\n",
       "      <th>Hum.Dev</th>\n",
       "      <th>rel.migration</th>\n",
       "      <th>Continent.Africa</th>\n",
       "      <th>Continent.America</th>\n",
       "      <th>Continent.Asia</th>\n",
       "      <th>Continent.Europe</th>\n",
       "      <th>Continent.Oceania</th>\n",
       "    </tr>\n",
       "  </thead>\n",
       "  <tbody>\n",
       "    <tr>\n",
       "      <th>0</th>\n",
       "      <td>Aruba</td>\n",
       "      <td>ABW</td>\n",
       "      <td>1992</td>\n",
       "      <td>14218</td>\n",
       "      <td>11.111111</td>\n",
       "      <td>3.159786</td>\n",
       "      <td>NaN</td>\n",
       "      <td>5.882353</td>\n",
       "      <td>14046.503764</td>\n",
       "      <td>NaN</td>\n",
       "      <td>...</td>\n",
       "      <td>NaN</td>\n",
       "      <td>NaN</td>\n",
       "      <td>NaN</td>\n",
       "      <td>NaN</td>\n",
       "      <td>0.208368</td>\n",
       "      <td>0</td>\n",
       "      <td>1</td>\n",
       "      <td>0</td>\n",
       "      <td>0</td>\n",
       "      <td>0</td>\n",
       "    </tr>\n",
       "    <tr>\n",
       "      <th>1</th>\n",
       "      <td>Aruba</td>\n",
       "      <td>ABW</td>\n",
       "      <td>1992</td>\n",
       "      <td>14218</td>\n",
       "      <td>11.111111</td>\n",
       "      <td>3.159786</td>\n",
       "      <td>NaN</td>\n",
       "      <td>5.882353</td>\n",
       "      <td>14046.503764</td>\n",
       "      <td>NaN</td>\n",
       "      <td>...</td>\n",
       "      <td>NaN</td>\n",
       "      <td>NaN</td>\n",
       "      <td>NaN</td>\n",
       "      <td>NaN</td>\n",
       "      <td>0.208368</td>\n",
       "      <td>0</td>\n",
       "      <td>1</td>\n",
       "      <td>0</td>\n",
       "      <td>0</td>\n",
       "      <td>0</td>\n",
       "    </tr>\n",
       "    <tr>\n",
       "      <th>2</th>\n",
       "      <td>Afghanistan</td>\n",
       "      <td>AFG</td>\n",
       "      <td>1992</td>\n",
       "      <td>3076383</td>\n",
       "      <td>58.251386</td>\n",
       "      <td>NaN</td>\n",
       "      <td>NaN</td>\n",
       "      <td>NaN</td>\n",
       "      <td>NaN</td>\n",
       "      <td>165.9</td>\n",
       "      <td>...</td>\n",
       "      <td>0.0</td>\n",
       "      <td>14230.0</td>\n",
       "      <td>-2.588721</td>\n",
       "      <td>NaN</td>\n",
       "      <td>0.212376</td>\n",
       "      <td>0</td>\n",
       "      <td>0</td>\n",
       "      <td>1</td>\n",
       "      <td>0</td>\n",
       "      <td>0</td>\n",
       "    </tr>\n",
       "    <tr>\n",
       "      <th>3</th>\n",
       "      <td>Afghanistan</td>\n",
       "      <td>AFG</td>\n",
       "      <td>1992</td>\n",
       "      <td>3076383</td>\n",
       "      <td>58.251386</td>\n",
       "      <td>NaN</td>\n",
       "      <td>NaN</td>\n",
       "      <td>NaN</td>\n",
       "      <td>NaN</td>\n",
       "      <td>165.9</td>\n",
       "      <td>...</td>\n",
       "      <td>0.0</td>\n",
       "      <td>14230.0</td>\n",
       "      <td>-2.588721</td>\n",
       "      <td>NaN</td>\n",
       "      <td>0.212376</td>\n",
       "      <td>0</td>\n",
       "      <td>0</td>\n",
       "      <td>1</td>\n",
       "      <td>0</td>\n",
       "      <td>0</td>\n",
       "    </tr>\n",
       "    <tr>\n",
       "      <th>4</th>\n",
       "      <td>Angola</td>\n",
       "      <td>AGO</td>\n",
       "      <td>1992</td>\n",
       "      <td>142812</td>\n",
       "      <td>36.671255</td>\n",
       "      <td>9.822398</td>\n",
       "      <td>NaN</td>\n",
       "      <td>-5.838281</td>\n",
       "      <td>656.361756</td>\n",
       "      <td>222.1</td>\n",
       "      <td>...</td>\n",
       "      <td>0.0</td>\n",
       "      <td>8230.0</td>\n",
       "      <td>-2.400807</td>\n",
       "      <td>NaN</td>\n",
       "      <td>0.011283</td>\n",
       "      <td>1</td>\n",
       "      <td>0</td>\n",
       "      <td>0</td>\n",
       "      <td>0</td>\n",
       "      <td>0</td>\n",
       "    </tr>\n",
       "    <tr>\n",
       "      <th>5</th>\n",
       "      <td>Angola</td>\n",
       "      <td>AGO</td>\n",
       "      <td>1992</td>\n",
       "      <td>142812</td>\n",
       "      <td>36.671255</td>\n",
       "      <td>9.822398</td>\n",
       "      <td>NaN</td>\n",
       "      <td>-5.838281</td>\n",
       "      <td>656.361756</td>\n",
       "      <td>222.1</td>\n",
       "      <td>...</td>\n",
       "      <td>0.0</td>\n",
       "      <td>8230.0</td>\n",
       "      <td>-2.400807</td>\n",
       "      <td>NaN</td>\n",
       "      <td>0.011283</td>\n",
       "      <td>1</td>\n",
       "      <td>0</td>\n",
       "      <td>0</td>\n",
       "      <td>0</td>\n",
       "      <td>0</td>\n",
       "    </tr>\n",
       "    <tr>\n",
       "      <th>6</th>\n",
       "      <td>Albania</td>\n",
       "      <td>ALB</td>\n",
       "      <td>1992</td>\n",
       "      <td>-443212</td>\n",
       "      <td>41.131387</td>\n",
       "      <td>66.384154</td>\n",
       "      <td>NaN</td>\n",
       "      <td>-7.187111</td>\n",
       "      <td>200.852220</td>\n",
       "      <td>37.8</td>\n",
       "      <td>...</td>\n",
       "      <td>5.0</td>\n",
       "      <td>0.0</td>\n",
       "      <td>-0.062245</td>\n",
       "      <td>0.645</td>\n",
       "      <td>-0.136497</td>\n",
       "      <td>0</td>\n",
       "      <td>0</td>\n",
       "      <td>0</td>\n",
       "      <td>1</td>\n",
       "      <td>0</td>\n",
       "    </tr>\n",
       "    <tr>\n",
       "      <th>7</th>\n",
       "      <td>Albania</td>\n",
       "      <td>ALB</td>\n",
       "      <td>1992</td>\n",
       "      <td>-443212</td>\n",
       "      <td>41.131387</td>\n",
       "      <td>66.384154</td>\n",
       "      <td>NaN</td>\n",
       "      <td>-7.187111</td>\n",
       "      <td>200.852220</td>\n",
       "      <td>37.8</td>\n",
       "      <td>...</td>\n",
       "      <td>5.0</td>\n",
       "      <td>0.0</td>\n",
       "      <td>-0.062245</td>\n",
       "      <td>0.610</td>\n",
       "      <td>-0.136497</td>\n",
       "      <td>0</td>\n",
       "      <td>0</td>\n",
       "      <td>0</td>\n",
       "      <td>1</td>\n",
       "      <td>0</td>\n",
       "    </tr>\n",
       "    <tr>\n",
       "      <th>8</th>\n",
       "      <td>Albania</td>\n",
       "      <td>ALB</td>\n",
       "      <td>1992</td>\n",
       "      <td>-443212</td>\n",
       "      <td>41.131387</td>\n",
       "      <td>66.384154</td>\n",
       "      <td>NaN</td>\n",
       "      <td>-7.187111</td>\n",
       "      <td>200.852220</td>\n",
       "      <td>37.8</td>\n",
       "      <td>...</td>\n",
       "      <td>5.0</td>\n",
       "      <td>0.0</td>\n",
       "      <td>-0.062245</td>\n",
       "      <td>0.645</td>\n",
       "      <td>-0.136497</td>\n",
       "      <td>0</td>\n",
       "      <td>0</td>\n",
       "      <td>0</td>\n",
       "      <td>1</td>\n",
       "      <td>0</td>\n",
       "    </tr>\n",
       "    <tr>\n",
       "      <th>9</th>\n",
       "      <td>Albania</td>\n",
       "      <td>ALB</td>\n",
       "      <td>1992</td>\n",
       "      <td>-443212</td>\n",
       "      <td>41.131387</td>\n",
       "      <td>66.384154</td>\n",
       "      <td>NaN</td>\n",
       "      <td>-7.187111</td>\n",
       "      <td>200.852220</td>\n",
       "      <td>37.8</td>\n",
       "      <td>...</td>\n",
       "      <td>5.0</td>\n",
       "      <td>0.0</td>\n",
       "      <td>-0.062245</td>\n",
       "      <td>0.610</td>\n",
       "      <td>-0.136497</td>\n",
       "      <td>0</td>\n",
       "      <td>0</td>\n",
       "      <td>0</td>\n",
       "      <td>1</td>\n",
       "      <td>0</td>\n",
       "    </tr>\n",
       "    <tr>\n",
       "      <th>10</th>\n",
       "      <td>United Arab Emirates</td>\n",
       "      <td>ARE</td>\n",
       "      <td>1992</td>\n",
       "      <td>368126</td>\n",
       "      <td>4.773303</td>\n",
       "      <td>NaN</td>\n",
       "      <td>100.0</td>\n",
       "      <td>3.344945</td>\n",
       "      <td>26420.872753</td>\n",
       "      <td>14.9</td>\n",
       "      <td>...</td>\n",
       "      <td>-8.0</td>\n",
       "      <td>0.0</td>\n",
       "      <td>0.901811</td>\n",
       "      <td>0.727</td>\n",
       "      <td>0.179321</td>\n",
       "      <td>0</td>\n",
       "      <td>0</td>\n",
       "      <td>1</td>\n",
       "      <td>0</td>\n",
       "      <td>0</td>\n",
       "    </tr>\n",
       "    <tr>\n",
       "      <th>11</th>\n",
       "      <td>United Arab Emirates</td>\n",
       "      <td>ARE</td>\n",
       "      <td>1992</td>\n",
       "      <td>368126</td>\n",
       "      <td>4.773303</td>\n",
       "      <td>NaN</td>\n",
       "      <td>100.0</td>\n",
       "      <td>3.344945</td>\n",
       "      <td>26420.872753</td>\n",
       "      <td>14.9</td>\n",
       "      <td>...</td>\n",
       "      <td>-8.0</td>\n",
       "      <td>0.0</td>\n",
       "      <td>0.901811</td>\n",
       "      <td>0.742</td>\n",
       "      <td>0.179321</td>\n",
       "      <td>0</td>\n",
       "      <td>0</td>\n",
       "      <td>1</td>\n",
       "      <td>0</td>\n",
       "      <td>0</td>\n",
       "    </tr>\n",
       "    <tr>\n",
       "      <th>12</th>\n",
       "      <td>United Arab Emirates</td>\n",
       "      <td>ARE</td>\n",
       "      <td>1992</td>\n",
       "      <td>368126</td>\n",
       "      <td>4.773303</td>\n",
       "      <td>NaN</td>\n",
       "      <td>100.0</td>\n",
       "      <td>3.344945</td>\n",
       "      <td>26420.872753</td>\n",
       "      <td>14.9</td>\n",
       "      <td>...</td>\n",
       "      <td>-8.0</td>\n",
       "      <td>0.0</td>\n",
       "      <td>0.901811</td>\n",
       "      <td>0.727</td>\n",
       "      <td>0.179321</td>\n",
       "      <td>0</td>\n",
       "      <td>0</td>\n",
       "      <td>1</td>\n",
       "      <td>0</td>\n",
       "      <td>0</td>\n",
       "    </tr>\n",
       "    <tr>\n",
       "      <th>13</th>\n",
       "      <td>United Arab Emirates</td>\n",
       "      <td>ARE</td>\n",
       "      <td>1992</td>\n",
       "      <td>368126</td>\n",
       "      <td>4.773303</td>\n",
       "      <td>NaN</td>\n",
       "      <td>100.0</td>\n",
       "      <td>3.344945</td>\n",
       "      <td>26420.872753</td>\n",
       "      <td>14.9</td>\n",
       "      <td>...</td>\n",
       "      <td>-8.0</td>\n",
       "      <td>0.0</td>\n",
       "      <td>0.901811</td>\n",
       "      <td>0.742</td>\n",
       "      <td>0.179321</td>\n",
       "      <td>0</td>\n",
       "      <td>0</td>\n",
       "      <td>1</td>\n",
       "      <td>0</td>\n",
       "      <td>0</td>\n",
       "    </tr>\n",
       "    <tr>\n",
       "      <th>14</th>\n",
       "      <td>Argentina</td>\n",
       "      <td>ARG</td>\n",
       "      <td>1992</td>\n",
       "      <td>-105000</td>\n",
       "      <td>46.682306</td>\n",
       "      <td>0.118795</td>\n",
       "      <td>NaN</td>\n",
       "      <td>7.937292</td>\n",
       "      <td>6823.537616</td>\n",
       "      <td>27.3</td>\n",
       "      <td>...</td>\n",
       "      <td>7.0</td>\n",
       "      <td>0.0</td>\n",
       "      <td>-0.168167</td>\n",
       "      <td>0.704</td>\n",
       "      <td>-0.003132</td>\n",
       "      <td>0</td>\n",
       "      <td>1</td>\n",
       "      <td>0</td>\n",
       "      <td>0</td>\n",
       "      <td>0</td>\n",
       "    </tr>\n",
       "  </tbody>\n",
       "</table>\n",
       "<p>15 rows × 22 columns</p>\n",
       "</div>"
      ],
      "text/plain": [
       "            Country.Name Country.Code  Year  Net.migration  \\\n",
       "0                  Aruba          ABW  1992          14218   \n",
       "1                  Aruba          ABW  1992          14218   \n",
       "2            Afghanistan          AFG  1992        3076383   \n",
       "3            Afghanistan          AFG  1992        3076383   \n",
       "4                 Angola          AGO  1992         142812   \n",
       "5                 Angola          AGO  1992         142812   \n",
       "6                Albania          ALB  1992        -443212   \n",
       "7                Albania          ALB  1992        -443212   \n",
       "8                Albania          ALB  1992        -443212   \n",
       "9                Albania          ALB  1992        -443212   \n",
       "10  United Arab Emirates          ARE  1992         368126   \n",
       "11  United Arab Emirates          ARE  1992         368126   \n",
       "12  United Arab Emirates          ARE  1992         368126   \n",
       "13  United Arab Emirates          ARE  1992         368126   \n",
       "14             Argentina          ARG  1992        -105000   \n",
       "\n",
       "    Agricultural.land.(%.of.land.area)  Net.ODA.received.(%.of.GNI)  \\\n",
       "0                            11.111111                     3.159786   \n",
       "1                            11.111111                     3.159786   \n",
       "2                            58.251386                          NaN   \n",
       "3                            58.251386                          NaN   \n",
       "4                            36.671255                     9.822398   \n",
       "5                            36.671255                     9.822398   \n",
       "6                            41.131387                    66.384154   \n",
       "7                            41.131387                    66.384154   \n",
       "8                            41.131387                    66.384154   \n",
       "9                            41.131387                    66.384154   \n",
       "10                            4.773303                          NaN   \n",
       "11                            4.773303                          NaN   \n",
       "12                            4.773303                          NaN   \n",
       "13                            4.773303                          NaN   \n",
       "14                           46.682306                     0.118795   \n",
       "\n",
       "    Access.to.electricity.(%.of.population)  GDP.growth.(annual.%)  \\\n",
       "0                                       NaN               5.882353   \n",
       "1                                       NaN               5.882353   \n",
       "2                                       NaN                    NaN   \n",
       "3                                       NaN                    NaN   \n",
       "4                                       NaN              -5.838281   \n",
       "5                                       NaN              -5.838281   \n",
       "6                                       NaN              -7.187111   \n",
       "7                                       NaN              -7.187111   \n",
       "8                                       NaN              -7.187111   \n",
       "9                                       NaN              -7.187111   \n",
       "10                                    100.0               3.344945   \n",
       "11                                    100.0               3.344945   \n",
       "12                                    100.0               3.344945   \n",
       "13                                    100.0               3.344945   \n",
       "14                                      NaN               7.937292   \n",
       "\n",
       "    GDP.per.capita.(current.US$)  \\\n",
       "0                   14046.503764   \n",
       "1                   14046.503764   \n",
       "2                            NaN   \n",
       "3                            NaN   \n",
       "4                     656.361756   \n",
       "5                     656.361756   \n",
       "6                     200.852220   \n",
       "7                     200.852220   \n",
       "8                     200.852220   \n",
       "9                     200.852220   \n",
       "10                  26420.872753   \n",
       "11                  26420.872753   \n",
       "12                  26420.872753   \n",
       "13                  26420.872753   \n",
       "14                   6823.537616   \n",
       "\n",
       "    Mortality.rate.under.5.(per.1000.live.births)  ...  Dem.Index  \\\n",
       "0                                             NaN  ...        NaN   \n",
       "1                                             NaN  ...        NaN   \n",
       "2                                           165.9  ...        0.0   \n",
       "3                                           165.9  ...        0.0   \n",
       "4                                           222.1  ...        0.0   \n",
       "5                                           222.1  ...        0.0   \n",
       "6                                            37.8  ...        5.0   \n",
       "7                                            37.8  ...        5.0   \n",
       "8                                            37.8  ...        5.0   \n",
       "9                                            37.8  ...        5.0   \n",
       "10                                           14.9  ...       -8.0   \n",
       "11                                           14.9  ...       -8.0   \n",
       "12                                           14.9  ...       -8.0   \n",
       "13                                           14.9  ...       -8.0   \n",
       "14                                           27.3  ...        7.0   \n",
       "\n",
       "    Battle.Deaths  Human.Rights  Hum.Dev  rel.migration  Continent.Africa  \\\n",
       "0             NaN           NaN      NaN       0.208368                 0   \n",
       "1             NaN           NaN      NaN       0.208368                 0   \n",
       "2         14230.0     -2.588721      NaN       0.212376                 0   \n",
       "3         14230.0     -2.588721      NaN       0.212376                 0   \n",
       "4          8230.0     -2.400807      NaN       0.011283                 1   \n",
       "5          8230.0     -2.400807      NaN       0.011283                 1   \n",
       "6             0.0     -0.062245    0.645      -0.136497                 0   \n",
       "7             0.0     -0.062245    0.610      -0.136497                 0   \n",
       "8             0.0     -0.062245    0.645      -0.136497                 0   \n",
       "9             0.0     -0.062245    0.610      -0.136497                 0   \n",
       "10            0.0      0.901811    0.727       0.179321                 0   \n",
       "11            0.0      0.901811    0.742       0.179321                 0   \n",
       "12            0.0      0.901811    0.727       0.179321                 0   \n",
       "13            0.0      0.901811    0.742       0.179321                 0   \n",
       "14            0.0     -0.168167    0.704      -0.003132                 0   \n",
       "\n",
       "    Continent.America  Continent.Asia  Continent.Europe  Continent.Oceania  \n",
       "0                   1               0                 0                  0  \n",
       "1                   1               0                 0                  0  \n",
       "2                   0               1                 0                  0  \n",
       "3                   0               1                 0                  0  \n",
       "4                   0               0                 0                  0  \n",
       "5                   0               0                 0                  0  \n",
       "6                   0               0                 1                  0  \n",
       "7                   0               0                 1                  0  \n",
       "8                   0               0                 1                  0  \n",
       "9                   0               0                 1                  0  \n",
       "10                  0               1                 0                  0  \n",
       "11                  0               1                 0                  0  \n",
       "12                  0               1                 0                  0  \n",
       "13                  0               1                 0                  0  \n",
       "14                  1               0                 0                  0  \n",
       "\n",
       "[15 rows x 22 columns]"
      ]
     },
     "execution_count": 236,
     "metadata": {},
     "output_type": "execute_result"
    }
   ],
   "source": [
    "# Rename the edited migration data\n",
    "migration = migration_drop.copy()\n",
    "migration.reset_index(drop=True, inplace=True)\n",
    "migration.head(15)"
   ]
  },
  {
   "cell_type": "markdown",
   "id": "666d54bf",
   "metadata": {
    "slideshow": {
     "slide_type": "skip"
    }
   },
   "source": [
    "Next, the data sometimes included two slightly different human development scores for the same country-year, so we kept the lower of the two."
   ]
  },
  {
   "cell_type": "code",
   "execution_count": 237,
   "id": "3da7afea",
   "metadata": {
    "slideshow": {
     "slide_type": "skip"
    }
   },
   "outputs": [
    {
     "data": {
      "text/html": [
       "<div>\n",
       "<style scoped>\n",
       "    .dataframe tbody tr th:only-of-type {\n",
       "        vertical-align: middle;\n",
       "    }\n",
       "\n",
       "    .dataframe tbody tr th {\n",
       "        vertical-align: top;\n",
       "    }\n",
       "\n",
       "    .dataframe thead th {\n",
       "        text-align: right;\n",
       "    }\n",
       "</style>\n",
       "<table border=\"1\" class=\"dataframe\">\n",
       "  <thead>\n",
       "    <tr style=\"text-align: right;\">\n",
       "      <th></th>\n",
       "      <th>Country.Name</th>\n",
       "      <th>Country.Code</th>\n",
       "      <th>Year</th>\n",
       "      <th>Net.migration</th>\n",
       "      <th>Agricultural.land.(%.of.land.area)</th>\n",
       "      <th>Net.ODA.received.(%.of.GNI)</th>\n",
       "      <th>Access.to.electricity.(%.of.population)</th>\n",
       "      <th>GDP.growth.(annual.%)</th>\n",
       "      <th>GDP.per.capita.(current.US$)</th>\n",
       "      <th>Mortality.rate.under.5.(per.1000.live.births)</th>\n",
       "      <th>...</th>\n",
       "      <th>Dem.Index</th>\n",
       "      <th>Battle.Deaths</th>\n",
       "      <th>Human.Rights</th>\n",
       "      <th>Hum.Dev</th>\n",
       "      <th>rel.migration</th>\n",
       "      <th>Continent.Africa</th>\n",
       "      <th>Continent.America</th>\n",
       "      <th>Continent.Asia</th>\n",
       "      <th>Continent.Europe</th>\n",
       "      <th>Continent.Oceania</th>\n",
       "    </tr>\n",
       "  </thead>\n",
       "  <tbody>\n",
       "    <tr>\n",
       "      <th>0</th>\n",
       "      <td>Aruba</td>\n",
       "      <td>ABW</td>\n",
       "      <td>1992</td>\n",
       "      <td>14218</td>\n",
       "      <td>11.111111</td>\n",
       "      <td>3.159786</td>\n",
       "      <td>NaN</td>\n",
       "      <td>5.882353</td>\n",
       "      <td>14046.503764</td>\n",
       "      <td>NaN</td>\n",
       "      <td>...</td>\n",
       "      <td>NaN</td>\n",
       "      <td>NaN</td>\n",
       "      <td>NaN</td>\n",
       "      <td>NaN</td>\n",
       "      <td>0.208368</td>\n",
       "      <td>0</td>\n",
       "      <td>1</td>\n",
       "      <td>0</td>\n",
       "      <td>0</td>\n",
       "      <td>0</td>\n",
       "    </tr>\n",
       "    <tr>\n",
       "      <th>2</th>\n",
       "      <td>Afghanistan</td>\n",
       "      <td>AFG</td>\n",
       "      <td>1992</td>\n",
       "      <td>3076383</td>\n",
       "      <td>58.251386</td>\n",
       "      <td>NaN</td>\n",
       "      <td>NaN</td>\n",
       "      <td>NaN</td>\n",
       "      <td>NaN</td>\n",
       "      <td>165.9</td>\n",
       "      <td>...</td>\n",
       "      <td>0.0</td>\n",
       "      <td>14230.0</td>\n",
       "      <td>-2.588721</td>\n",
       "      <td>NaN</td>\n",
       "      <td>0.212376</td>\n",
       "      <td>0</td>\n",
       "      <td>0</td>\n",
       "      <td>1</td>\n",
       "      <td>0</td>\n",
       "      <td>0</td>\n",
       "    </tr>\n",
       "    <tr>\n",
       "      <th>4</th>\n",
       "      <td>Angola</td>\n",
       "      <td>AGO</td>\n",
       "      <td>1992</td>\n",
       "      <td>142812</td>\n",
       "      <td>36.671255</td>\n",
       "      <td>9.822398</td>\n",
       "      <td>NaN</td>\n",
       "      <td>-5.838281</td>\n",
       "      <td>656.361756</td>\n",
       "      <td>222.1</td>\n",
       "      <td>...</td>\n",
       "      <td>0.0</td>\n",
       "      <td>8230.0</td>\n",
       "      <td>-2.400807</td>\n",
       "      <td>NaN</td>\n",
       "      <td>0.011283</td>\n",
       "      <td>1</td>\n",
       "      <td>0</td>\n",
       "      <td>0</td>\n",
       "      <td>0</td>\n",
       "      <td>0</td>\n",
       "    </tr>\n",
       "    <tr>\n",
       "      <th>9</th>\n",
       "      <td>Albania</td>\n",
       "      <td>ALB</td>\n",
       "      <td>1992</td>\n",
       "      <td>-443212</td>\n",
       "      <td>41.131387</td>\n",
       "      <td>66.384154</td>\n",
       "      <td>NaN</td>\n",
       "      <td>-7.187111</td>\n",
       "      <td>200.852220</td>\n",
       "      <td>37.8</td>\n",
       "      <td>...</td>\n",
       "      <td>5.0</td>\n",
       "      <td>0.0</td>\n",
       "      <td>-0.062245</td>\n",
       "      <td>0.610</td>\n",
       "      <td>-0.136497</td>\n",
       "      <td>0</td>\n",
       "      <td>0</td>\n",
       "      <td>0</td>\n",
       "      <td>1</td>\n",
       "      <td>0</td>\n",
       "    </tr>\n",
       "    <tr>\n",
       "      <th>12</th>\n",
       "      <td>United Arab Emirates</td>\n",
       "      <td>ARE</td>\n",
       "      <td>1992</td>\n",
       "      <td>368126</td>\n",
       "      <td>4.773303</td>\n",
       "      <td>NaN</td>\n",
       "      <td>100.0</td>\n",
       "      <td>3.344945</td>\n",
       "      <td>26420.872753</td>\n",
       "      <td>14.9</td>\n",
       "      <td>...</td>\n",
       "      <td>-8.0</td>\n",
       "      <td>0.0</td>\n",
       "      <td>0.901811</td>\n",
       "      <td>0.727</td>\n",
       "      <td>0.179321</td>\n",
       "      <td>0</td>\n",
       "      <td>0</td>\n",
       "      <td>1</td>\n",
       "      <td>0</td>\n",
       "      <td>0</td>\n",
       "    </tr>\n",
       "  </tbody>\n",
       "</table>\n",
       "<p>5 rows × 22 columns</p>\n",
       "</div>"
      ],
      "text/plain": [
       "            Country.Name Country.Code  Year  Net.migration  \\\n",
       "0                  Aruba          ABW  1992          14218   \n",
       "2            Afghanistan          AFG  1992        3076383   \n",
       "4                 Angola          AGO  1992         142812   \n",
       "9                Albania          ALB  1992        -443212   \n",
       "12  United Arab Emirates          ARE  1992         368126   \n",
       "\n",
       "    Agricultural.land.(%.of.land.area)  Net.ODA.received.(%.of.GNI)  \\\n",
       "0                            11.111111                     3.159786   \n",
       "2                            58.251386                          NaN   \n",
       "4                            36.671255                     9.822398   \n",
       "9                            41.131387                    66.384154   \n",
       "12                            4.773303                          NaN   \n",
       "\n",
       "    Access.to.electricity.(%.of.population)  GDP.growth.(annual.%)  \\\n",
       "0                                       NaN               5.882353   \n",
       "2                                       NaN                    NaN   \n",
       "4                                       NaN              -5.838281   \n",
       "9                                       NaN              -7.187111   \n",
       "12                                    100.0               3.344945   \n",
       "\n",
       "    GDP.per.capita.(current.US$)  \\\n",
       "0                   14046.503764   \n",
       "2                            NaN   \n",
       "4                     656.361756   \n",
       "9                     200.852220   \n",
       "12                  26420.872753   \n",
       "\n",
       "    Mortality.rate.under.5.(per.1000.live.births)  ...  Dem.Index  \\\n",
       "0                                             NaN  ...        NaN   \n",
       "2                                           165.9  ...        0.0   \n",
       "4                                           222.1  ...        0.0   \n",
       "9                                            37.8  ...        5.0   \n",
       "12                                           14.9  ...       -8.0   \n",
       "\n",
       "    Battle.Deaths  Human.Rights  Hum.Dev  rel.migration  Continent.Africa  \\\n",
       "0             NaN           NaN      NaN       0.208368                 0   \n",
       "2         14230.0     -2.588721      NaN       0.212376                 0   \n",
       "4          8230.0     -2.400807      NaN       0.011283                 1   \n",
       "9             0.0     -0.062245    0.610      -0.136497                 0   \n",
       "12            0.0      0.901811    0.727       0.179321                 0   \n",
       "\n",
       "    Continent.America  Continent.Asia  Continent.Europe  Continent.Oceania  \n",
       "0                   1               0                 0                  0  \n",
       "2                   0               1                 0                  0  \n",
       "4                   0               0                 0                  0  \n",
       "9                   0               0                 1                  0  \n",
       "12                  0               1                 0                  0  \n",
       "\n",
       "[5 rows x 22 columns]"
      ]
     },
     "execution_count": 237,
     "metadata": {},
     "output_type": "execute_result"
    }
   ],
   "source": [
    "# Drop duplicate rows that show the same country + year with slightly different hum.dev scores; keep the lower score\n",
    "migration = migration.sort_values('Hum.Dev').drop_duplicates(subset = ['Country.Name', 'Year'], keep = 'first')\n",
    "migration = migration.sort_index()\n",
    "migration.head()\n"
   ]
  },
  {
   "cell_type": "code",
   "execution_count": 238,
   "id": "c0ac2bf6",
   "metadata": {
    "slideshow": {
     "slide_type": "skip"
    }
   },
   "outputs": [
    {
     "data": {
      "text/plain": [
       "1279"
      ]
     },
     "execution_count": 238,
     "metadata": {},
     "output_type": "execute_result"
    }
   ],
   "source": [
    "migration.isna().sum().sum() # Print remaining null values"
   ]
  },
  {
   "cell_type": "markdown",
   "id": "bebc8175",
   "metadata": {
    "slideshow": {
     "slide_type": "slide"
    }
   },
   "source": [
    "There are still a large number of null values, so we inspect which columns have the most nulls and how the nulls are distributed across the features. Finding that Net.ODA, Access.to.electricity, and Dem.Index had the most nulls, we considered whether these were necessary for the model and decided to remove them rather than compromise the remaining features."
   ]
  },
  {
   "cell_type": "code",
   "execution_count": 239,
   "id": "fdce9297",
   "metadata": {
    "scrolled": true,
    "slideshow": {
     "slide_type": "skip"
    }
   },
   "outputs": [
    {
     "name": "stdout",
     "output_type": "stream",
     "text": [
      "<class 'pandas.core.frame.DataFrame'>\n",
      "Int64Index: 1158 entries, 0 to 2400\n",
      "Data columns (total 22 columns):\n",
      " #   Column                                                              Non-Null Count  Dtype  \n",
      "---  ------                                                              --------------  -----  \n",
      " 0   Country.Name                                                        1158 non-null   object \n",
      " 1   Country.Code                                                        1158 non-null   object \n",
      " 2   Year                                                                1158 non-null   int64  \n",
      " 3   Net.migration                                                       1158 non-null   int64  \n",
      " 4   Agricultural.land.(%.of.land.area)                                  1126 non-null   float64\n",
      " 5   Net.ODA.received.(%.of.GNI)                                         783 non-null    float64\n",
      " 6   Access.to.electricity.(%.of.population)                             970 non-null    float64\n",
      " 7   GDP.growth.(annual.%)                                               1087 non-null   float64\n",
      " 8   GDP.per.capita.(current.US$)                                        1094 non-null   float64\n",
      " 9   Mortality.rate.under.5.(per.1000.live.births)                       1104 non-null   float64\n",
      " 10  Unemployment.total.(%.of.total.labor.force).(modeled.ILO.estimate)  1116 non-null   float64\n",
      " 11  Population.total                                                    1155 non-null   float64\n",
      " 12  Dem.Index                                                           956 non-null    float64\n",
      " 13  Battle.Deaths                                                       1138 non-null   float64\n",
      " 14  Human.Rights                                                        1084 non-null   float64\n",
      " 15  Hum.Dev                                                             1007 non-null   float64\n",
      " 16  rel.migration                                                       1155 non-null   float64\n",
      " 17  Continent.Africa                                                    1158 non-null   uint8  \n",
      " 18  Continent.America                                                   1158 non-null   uint8  \n",
      " 19  Continent.Asia                                                      1158 non-null   uint8  \n",
      " 20  Continent.Europe                                                    1158 non-null   uint8  \n",
      " 21  Continent.Oceania                                                   1158 non-null   uint8  \n",
      "dtypes: float64(13), int64(2), object(2), uint8(5)\n",
      "memory usage: 168.5+ KB\n"
     ]
    }
   ],
   "source": [
    "migration.info() # Inspect the distribution of null/non-null values"
   ]
  },
  {
   "cell_type": "code",
   "execution_count": 240,
   "id": "d1753386",
   "metadata": {
    "scrolled": true,
    "slideshow": {
     "slide_type": "fragment"
    }
   },
   "outputs": [
    {
     "data": {
      "text/plain": [
       "514"
      ]
     },
     "execution_count": 240,
     "metadata": {},
     "output_type": "execute_result"
    }
   ],
   "source": [
    "# Drop columns that have too many nulls to be useful\n",
    "migration2 = migration.drop(columns=['Access.to.electricity.(%.of.population)', 'Dem.Index','Net.ODA.received.(%.of.GNI)'])\n",
    "migration2.isna().sum().sum()"
   ]
  },
  {
   "cell_type": "code",
   "execution_count": 241,
   "id": "2c3530c7",
   "metadata": {
    "slideshow": {
     "slide_type": "skip"
    }
   },
   "outputs": [
    {
     "name": "stdout",
     "output_type": "stream",
     "text": [
      "<class 'pandas.core.frame.DataFrame'>\n",
      "Int64Index: 1158 entries, 0 to 2400\n",
      "Data columns (total 19 columns):\n",
      " #   Column                                                              Non-Null Count  Dtype  \n",
      "---  ------                                                              --------------  -----  \n",
      " 0   Country.Name                                                        1158 non-null   object \n",
      " 1   Country.Code                                                        1158 non-null   object \n",
      " 2   Year                                                                1158 non-null   int64  \n",
      " 3   Net.migration                                                       1158 non-null   int64  \n",
      " 4   Agricultural.land.(%.of.land.area)                                  1126 non-null   float64\n",
      " 5   GDP.growth.(annual.%)                                               1087 non-null   float64\n",
      " 6   GDP.per.capita.(current.US$)                                        1094 non-null   float64\n",
      " 7   Mortality.rate.under.5.(per.1000.live.births)                       1104 non-null   float64\n",
      " 8   Unemployment.total.(%.of.total.labor.force).(modeled.ILO.estimate)  1116 non-null   float64\n",
      " 9   Population.total                                                    1155 non-null   float64\n",
      " 10  Battle.Deaths                                                       1138 non-null   float64\n",
      " 11  Human.Rights                                                        1084 non-null   float64\n",
      " 12  Hum.Dev                                                             1007 non-null   float64\n",
      " 13  rel.migration                                                       1155 non-null   float64\n",
      " 14  Continent.Africa                                                    1158 non-null   uint8  \n",
      " 15  Continent.America                                                   1158 non-null   uint8  \n",
      " 16  Continent.Asia                                                      1158 non-null   uint8  \n",
      " 17  Continent.Europe                                                    1158 non-null   uint8  \n",
      " 18  Continent.Oceania                                                   1158 non-null   uint8  \n",
      "dtypes: float64(10), int64(2), object(2), uint8(5)\n",
      "memory usage: 141.4+ KB\n"
     ]
    }
   ],
   "source": [
    "migration2.info()"
   ]
  },
  {
   "cell_type": "markdown",
   "id": "e8c9b0fb",
   "metadata": {
    "slideshow": {
     "slide_type": "slide"
    }
   },
   "source": [
    "All remaining features now have at least 1,000 non-null values, and the number of null values (514) is less than 3% of the remaining values, so we decided to drop the remaining null values at this point."
   ]
  },
  {
   "cell_type": "code",
   "execution_count": 242,
   "id": "1bfe5cf9",
   "metadata": {
    "slideshow": {
     "slide_type": "fragment"
    }
   },
   "outputs": [],
   "source": [
    "# Drop any remaining rows that still have nulls (~2% of rows)\n",
    "migration2.dropna(inplace=True)"
   ]
  },
  {
   "cell_type": "code",
   "execution_count": 243,
   "id": "4ae4e4e5",
   "metadata": {
    "slideshow": {
     "slide_type": "skip"
    }
   },
   "outputs": [
    {
     "name": "stdout",
     "output_type": "stream",
     "text": [
      "<class 'pandas.core.frame.DataFrame'>\n",
      "Int64Index: 921 entries, 9 to 2400\n",
      "Data columns (total 19 columns):\n",
      " #   Column                                                              Non-Null Count  Dtype  \n",
      "---  ------                                                              --------------  -----  \n",
      " 0   Country.Name                                                        921 non-null    object \n",
      " 1   Country.Code                                                        921 non-null    object \n",
      " 2   Year                                                                921 non-null    int64  \n",
      " 3   Net.migration                                                       921 non-null    int64  \n",
      " 4   Agricultural.land.(%.of.land.area)                                  921 non-null    float64\n",
      " 5   GDP.growth.(annual.%)                                               921 non-null    float64\n",
      " 6   GDP.per.capita.(current.US$)                                        921 non-null    float64\n",
      " 7   Mortality.rate.under.5.(per.1000.live.births)                       921 non-null    float64\n",
      " 8   Unemployment.total.(%.of.total.labor.force).(modeled.ILO.estimate)  921 non-null    float64\n",
      " 9   Population.total                                                    921 non-null    float64\n",
      " 10  Battle.Deaths                                                       921 non-null    float64\n",
      " 11  Human.Rights                                                        921 non-null    float64\n",
      " 12  Hum.Dev                                                             921 non-null    float64\n",
      " 13  rel.migration                                                       921 non-null    float64\n",
      " 14  Continent.Africa                                                    921 non-null    uint8  \n",
      " 15  Continent.America                                                   921 non-null    uint8  \n",
      " 16  Continent.Asia                                                      921 non-null    uint8  \n",
      " 17  Continent.Europe                                                    921 non-null    uint8  \n",
      " 18  Continent.Oceania                                                   921 non-null    uint8  \n",
      "dtypes: float64(10), int64(2), object(2), uint8(5)\n",
      "memory usage: 112.4+ KB\n"
     ]
    }
   ],
   "source": [
    "# Dataset now has 921 rows and no null values\n",
    "migration2.info()"
   ]
  },
  {
   "cell_type": "markdown",
   "id": "8e9c8434",
   "metadata": {
    "slideshow": {
     "slide_type": "slide"
    }
   },
   "source": [
    "## Merging datasets"
   ]
  },
  {
   "cell_type": "markdown",
   "id": "bd8f40bb",
   "metadata": {
    "slideshow": {
     "slide_type": "fragment"
    }
   },
   "source": [
    "At this point, the individual disaster and migration datasets have been fully cleaned with nulls and duplicates removed, so they are ready to merge on country and year for the final full dataset. This will allow us to use both climate and economic data to predict migration patterns."
   ]
  },
  {
   "cell_type": "code",
   "execution_count": 244,
   "id": "e143c00d",
   "metadata": {
    "slideshow": {
     "slide_type": "fragment"
    }
   },
   "outputs": [
    {
     "name": "stdout",
     "output_type": "stream",
     "text": [
      "513\n"
     ]
    }
   ],
   "source": [
    "# Merge the disaster and migration datasets\n",
    "merged = migration2.merge(right = disasters_final, how = 'inner', left_on = ['Country.Name', 'Year'], right_on = ['Dis_Country', 'Dis_Year'])\n",
    "merged.sort_values(by='id',inplace=True)\n",
    "print(len(merged)) # Print number of rows in resulting dataframe"
   ]
  },
  {
   "cell_type": "markdown",
   "id": "6cb316b9",
   "metadata": {
    "slideshow": {
     "slide_type": "fragment"
    }
   },
   "source": [
    "The final dataset resulting from the merge has 513 rows."
   ]
  },
  {
   "cell_type": "code",
   "execution_count": 245,
   "id": "e0e4cd36",
   "metadata": {
    "slideshow": {
     "slide_type": "skip"
    }
   },
   "outputs": [
    {
     "name": "stdout",
     "output_type": "stream",
     "text": [
      "513\n"
     ]
    }
   ],
   "source": [
    "merged_dropped = merged.drop_duplicates()\n",
    "print(len(merged_dropped)) # Confirm there were no duplicate rows"
   ]
  },
  {
   "cell_type": "code",
   "execution_count": 246,
   "id": "b9fe2510",
   "metadata": {
    "slideshow": {
     "slide_type": "skip"
    }
   },
   "outputs": [
    {
     "data": {
      "text/plain": [
       "0"
      ]
     },
     "execution_count": 246,
     "metadata": {},
     "output_type": "execute_result"
    }
   ],
   "source": [
    "merged.isna().sum().sum() # Confirm there are no null values"
   ]
  },
  {
   "cell_type": "code",
   "execution_count": 247,
   "id": "a38caed8",
   "metadata": {
    "slideshow": {
     "slide_type": "skip"
    }
   },
   "outputs": [],
   "source": [
    "merged.to_csv('Merged_Dataset.csv', index=False) # Save the merged dataset"
   ]
  },
  {
   "cell_type": "code",
   "execution_count": 248,
   "id": "f9788438",
   "metadata": {
    "slideshow": {
     "slide_type": "skip"
    }
   },
   "outputs": [],
   "source": [
    "merged2 = merged.drop(columns = ['Country.Name', 'Country.Code', 'Year' ]) # Drop redundant columns\n",
    "\n",
    "# Create binary variable to indicate if net migration was positive or negative for a country in a given year.\n",
    "merged2['migration_binary_dummy'] = merged2['Net.migration'].apply(lambda x: 1 if x > 0 else 0) "
   ]
  },
  {
   "cell_type": "markdown",
   "id": "84007172",
   "metadata": {
    "slideshow": {
     "slide_type": "slide"
    }
   },
   "source": [
    "## Initial Visualizations"
   ]
  },
  {
   "cell_type": "markdown",
   "id": "9e3bc0ee",
   "metadata": {
    "slideshow": {
     "slide_type": "slide"
    }
   },
   "source": [
    "#### Boxplot of Human Development (Hum. Dev.) Score across the years\n",
    "The Hum. Dev. Score is an integral part of our analysis. By displaying the Hum. Dev. Score against years as a boxplot helps to identify potential outliers or differences across years."
   ]
  },
  {
   "cell_type": "code",
   "execution_count": 249,
   "id": "23a5dc7f",
   "metadata": {
    "slideshow": {
     "slide_type": "fragment"
    }
   },
   "outputs": [
    {
     "data": {
      "image/png": "[encoded data removed]",
      "text/plain": [
       "<Figure size 360x360 with 1 Axes>"
      ]
     },
     "metadata": {
      "needs_background": "light"
     },
     "output_type": "display_data"
    }
   ],
   "source": [
    "plt.figure(figsize=(5,5))\n",
    "sns.boxplot(y='Hum.Dev', \n",
    "            x='Dis_Year', \n",
    "            data=merged2, \n",
    "            palette=\"colorblind\")\n",
    "\n",
    "plt.title(\"Boxplot of Hum. Dev. Score across the years\")\n",
    "plt.xlabel(\"Years\")\n",
    "plt.ylabel(\"Hum. Dev. Score\")\n",
    "plt.show()"
   ]
  },
  {
   "cell_type": "markdown",
   "id": "c3c493d9",
   "metadata": {
    "slideshow": {
     "slide_type": "slide"
    }
   },
   "source": [
    "#### Boxplot of Hum. Dev. Score across the years including migration trends\n",
    "By displaying the Hum. Dev. Score against years while highlighting emigration (0) and immigration (1) as a boxplot helps to identify annual trends and differences across years."
   ]
  },
  {
   "cell_type": "code",
   "execution_count": 254,
   "id": "e802d4f3",
   "metadata": {
    "scrolled": true,
    "slideshow": {
     "slide_type": "slide"
    }
   },
   "outputs": [
    {
     "data": {
      "image/png": "[encoded data removed]",
      "text/plain": [
       "<Figure size 863.05x720 with 1 Axes>"
      ]
     },
     "metadata": {},
     "output_type": "display_data"
    }
   ],
   "source": [
    "sns.catplot(x=\"Dis_Year\", \n",
    "            y=\"Hum.Dev\", \n",
    "            hue=\"migration_binary_dummy\",\n",
    "            data=merged2,\n",
    "            kind=\"box\",\n",
    "            palette=\"colorblind\",\n",
    "            height=10, \n",
    "            aspect=1)\n",
    "\n",
    "plt.title(\"Boxplot of Hum. Dev. Score across the years with migration trends\")\n",
    "plt.xlabel(\"Years\")\n",
    "plt.ylabel(\"Hum. Dev. Score\")\n",
    "plt.show()"
   ]
  },
  {
   "cell_type": "markdown",
   "id": "8fb6d8bb",
   "metadata": {
    "slideshow": {
     "slide_type": "slide"
    }
   },
   "source": [
    "#### Boxplot of Relative Migration by Number of Floods\n",
    "\n",
    "We are hypothesizing that more severe weather will increase emigration, so we examine whether relative migration (net migration as a percent of the country's population) changes with the number of floods, since that was the most common disaster type."
   ]
  },
  {
   "cell_type": "code",
   "execution_count": 151,
   "id": "6270f7c5",
   "metadata": {
    "slideshow": {
     "slide_type": "slide"
    }
   },
   "outputs": [
    {
     "data": {
      "image/png": "[encoded data removed]",
      "text/plain": [
       "<Figure size 720x720 with 1 Axes>"
      ]
     },
     "metadata": {
      "needs_background": "light"
     },
     "output_type": "display_data"
    }
   ],
   "source": [
    "sns.catplot(x=\"disastertype_flood\", \n",
    "            y=\"rel.migration\", \n",
    "            #hue=\"Dis_Year\",\n",
    "            data=merged2,\n",
    "            kind=\"box\",\n",
    "            palette=\"colorblind\",\n",
    "            height=10, \n",
    "            aspect=1)\n",
    "\n",
    "plt.title(\"Boxplot of Migration as Percent of Total Population by Number of Floods\")\n",
    "plt.xlabel(\"Number of Floods\")\n",
    "plt.ylabel(\"Migration as Percent of Population\")\n",
    "plt.show()"
   ]
  },
  {
   "cell_type": "markdown",
   "id": "48b4b40c",
   "metadata": {
    "slideshow": {
     "slide_type": "slide"
    }
   },
   "source": [
    "#### Distribution plot of Hum. Dev. Score\n",
    "Displaying the Hum. Dev. score distribution is valuable information. It is helpful in identifying potential outliers, determine if the data is normally distributed and other features that may not be seen without showing the data visually."
   ]
  },
  {
   "cell_type": "code",
   "execution_count": 152,
   "id": "b9df1785",
   "metadata": {
    "slideshow": {
     "slide_type": "slide"
    }
   },
   "outputs": [
    {
     "data": {
      "image/png": "[encoded data removed]",
      "text/plain": [
       "<Figure size 720x720 with 1 Axes>"
      ]
     },
     "metadata": {
      "needs_background": "light"
     },
     "output_type": "display_data"
    }
   ],
   "source": [
    "sns.displot(merged2[\"Hum.Dev\"], \n",
    "            bins=50,\n",
    "            height=10, \n",
    "            aspect=1)\n",
    "\n",
    "plt.title(\"Histogram of Hum. Dev. Score\")\n",
    "plt.xlabel(\"Hum. Dev. Score\")\n",
    "plt.show()"
   ]
  },
  {
   "cell_type": "markdown",
   "id": "2a37b5b5",
   "metadata": {
    "slideshow": {
     "slide_type": "slide"
    }
   },
   "source": [
    "#### Correlation Matrix of the predictors\n",
    "A heatmap allows us to display a correlation matrix visually. Here, the higher the absolute value, the more the variables are correlated to one another."
   ]
  },
  {
   "cell_type": "code",
   "execution_count": 153,
   "id": "475e28ed",
   "metadata": {
    "scrolled": true,
    "slideshow": {
     "slide_type": "slide"
    }
   },
   "outputs": [
    {
     "data": {
      "image/png": "[encoded data removed]",
      "text/plain": [
       "<Figure size 1440x1440 with 2 Axes>"
      ]
     },
     "metadata": {
      "needs_background": "light"
     },
     "output_type": "display_data"
    }
   ],
   "source": [
    "#Correlation plot to check for multicollinearity issues\n",
    "plt.figure(figsize=(20,20))\n",
    "sns.heatmap(merged2.corr(), \n",
    "            annot = True, \n",
    "            cmap=\"PiYG\")\n",
    "plt.show()"
   ]
  },
  {
   "cell_type": "markdown",
   "id": "3068348d",
   "metadata": {
    "slideshow": {
     "slide_type": "slide"
    }
   },
   "source": [
    "## Question 1 - Classify which countries will see immigration vs. emigration due to climate disasters."
   ]
  },
  {
   "cell_type": "markdown",
   "id": "45c7ef51",
   "metadata": {
    "slideshow": {
     "slide_type": "fragment"
    }
   },
   "source": [
    "Our target variable is net migration, recoded into a binary variable to indicate whether net migration was negative (emigration) or positive (immigration). The remaining variables were added as features other than identification variables, and then the X and y dataframes split into training and testing sets with a 75/25 split."
   ]
  },
  {
   "cell_type": "code",
   "execution_count": 154,
   "id": "9440d5ce",
   "metadata": {
    "slideshow": {
     "slide_type": "fragment"
    }
   },
   "outputs": [
    {
     "name": "stdout",
     "output_type": "stream",
     "text": [
      "     Agricultural.land.(%.of.land.area)  GDP.growth.(annual.%)  \\\n",
      "396                           13.158436               4.024086   \n",
      "268                           38.111944               6.796826   \n",
      "5                             27.764598              -0.466913   \n",
      "319                           57.687096               2.202939   \n",
      "228                           27.478817               6.069871   \n",
      "..                                  ...                    ...   \n",
      "23                             7.209705               5.559858   \n",
      "423                           44.225146               6.203489   \n",
      "109                           85.390241               8.547683   \n",
      "301                           64.258136              -1.175120   \n",
      "285                           43.625385               3.070228   \n",
      "\n",
      "     GDP.per.capita.(current.US$)  \\\n",
      "396                  15420.874541   \n",
      "268                   1630.388906   \n",
      "5                     2596.919876   \n",
      "319                   7496.294648   \n",
      "228                   7348.030794   \n",
      "..                            ...   \n",
      "23                     250.604218   \n",
      "423                    734.994430   \n",
      "109                   7329.853490   \n",
      "301                    449.144233   \n",
      "285                  32511.126664   \n",
      "\n",
      "     Mortality.rate.under.5.(per.1000.live.births)  \\\n",
      "396                                            9.8   \n",
      "268                                           12.9   \n",
      "5                                             57.1   \n",
      "319                                           32.6   \n",
      "228                                           21.8   \n",
      "..                                             ...   \n",
      "23                                           142.6   \n",
      "423                                           93.9   \n",
      "109                                           19.1   \n",
      "301                                           96.1   \n",
      "285                                            6.4   \n",
      "\n",
      "     Unemployment.total.(%.of.total.labor.force).(modeled.ILO.estimate)  \\\n",
      "396                                               5.44                    \n",
      "268                                               5.97                    \n",
      "5                                                 6.42                    \n",
      "319                                               5.19                    \n",
      "228                                               8.33                    \n",
      "..                                                 ...                    \n",
      "23                                                2.49                    \n",
      "423                                               5.13                    \n",
      "109                                               9.27                    \n",
      "301                                               3.60                    \n",
      "285                                               3.66                    \n",
      "\n",
      "     Population.total  Battle.Deaths  Human.Rights  Hum.Dev  Continent.Africa  \\\n",
      "396       143201721.0         2390.0     -1.449019    0.798                 0   \n",
      "268        19842044.0         4581.0     -2.062151    0.730                 0   \n",
      "5         154259380.0            0.0     -1.793874    0.611                 0   \n",
      "319         9295784.0           46.0     -0.416146    0.745                 0   \n",
      "228       190130443.0            0.0     -1.325999    0.705                 0   \n",
      "..                ...            ...           ...      ...               ...   \n",
      "23          4500351.0          279.0     -0.031014    0.400                 0   \n",
      "423        19193284.0            0.0      0.092185    0.423                 1   \n",
      "109         3270164.0            0.0      0.902299    0.727                 0   \n",
      "301         5920359.0            0.0     -0.345573    0.441                 1   \n",
      "285         4223800.0            0.0      2.908301    0.894                 0   \n",
      "\n",
      "     ...  Continent.Oceania  yrs_since_92  disastertype_drought  \\\n",
      "396  ...                  0            20                   1.0   \n",
      "268  ...                  0            15                   0.0   \n",
      "5    ...                  0             0                   0.0   \n",
      "319  ...                  0            20                   0.0   \n",
      "228  ...                  0            15                   1.0   \n",
      "..   ...                ...           ...                   ...   \n",
      "23   ...                  0             0                   0.0   \n",
      "423  ...                  0            25                   0.0   \n",
      "109  ...                  0             5                   0.0   \n",
      "301  ...                  0            15                   0.0   \n",
      "285  ...                  1            15                   0.0   \n",
      "\n",
      "     disastertype_earthquake  disastertype_extreme temperature   \\\n",
      "396                      0.0                                2.0   \n",
      "268                      0.0                                0.0   \n",
      "5                        0.0                                0.0   \n",
      "319                      2.0                                1.0   \n",
      "228                      1.0                                0.0   \n",
      "..                       ...                                ...   \n",
      "23                       0.0                                0.0   \n",
      "423                      0.0                                0.0   \n",
      "109                      0.0                                0.0   \n",
      "301                      0.0                                0.0   \n",
      "285                      0.0                                0.0   \n",
      "\n",
      "     disastertype_flood  disastertype_landslide  \\\n",
      "396                 3.0                     0.0   \n",
      "268                 3.0                     0.0   \n",
      "5                   4.0                     1.0   \n",
      "319                 0.0                     0.0   \n",
      "228                 3.0                     1.0   \n",
      "..                  ...                     ...   \n",
      "23                  0.0                     0.0   \n",
      "423                 1.0                     0.0   \n",
      "109                 0.0                     0.0   \n",
      "301                 1.0                     0.0   \n",
      "285                 0.0                     0.0   \n",
      "\n",
      "     disastertype_mass movement (dry)  disastertype_storm  \\\n",
      "396                               0.0                 0.0   \n",
      "268                               0.0                 0.0   \n",
      "5                                 0.0                 0.0   \n",
      "319                               0.0                 0.0   \n",
      "228                               0.0                 0.0   \n",
      "..                                ...                 ...   \n",
      "23                                0.0                 1.0   \n",
      "423                               0.0                 0.0   \n",
      "109                               0.0                 1.0   \n",
      "301                               0.0                 0.0   \n",
      "285                               0.0                 1.0   \n",
      "\n",
      "     disastertype_volcanic activity  \n",
      "396                             0.0  \n",
      "268                             0.0  \n",
      "5                               0.0  \n",
      "319                             0.0  \n",
      "228                             0.0  \n",
      "..                              ...  \n",
      "23                              0.0  \n",
      "423                             0.0  \n",
      "109                             0.0  \n",
      "301                             0.0  \n",
      "285                             0.0  \n",
      "\n",
      "[129 rows x 23 columns]\n"
     ]
    }
   ],
   "source": [
    "# Train a KNN Classifier model.\n",
    "# First, set target variable and features, then split into train and test sets.\n",
    "\n",
    "y = merged2['migration_binary_dummy']\n",
    "X = merged2.drop(columns=['migration_binary_dummy', 'id','Dis_Country','Dis_Year', 'Net.migration','rel.migration'])\n",
    "\n",
    "X_train, X_test, y_train, y_test = train_test_split(X, y, test_size=.25, random_state=2)\n",
    "\n",
    "print(X_test)"
   ]
  },
  {
   "cell_type": "markdown",
   "id": "315866b5",
   "metadata": {
    "slideshow": {
     "slide_type": "slide"
    }
   },
   "source": [
    "### \n",
    "### Q1 - Feature Selection"
   ]
  },
  {
   "cell_type": "markdown",
   "id": "60e352ed",
   "metadata": {
    "slideshow": {
     "slide_type": "fragment"
    }
   },
   "source": [
    "Before testing different models, we performed feature selection using the feature importance metrics from a Random Forest Classifier."
   ]
  },
  {
   "cell_type": "code",
   "execution_count": 155,
   "id": "c685ab53",
   "metadata": {
    "slideshow": {
     "slide_type": "fragment"
    }
   },
   "outputs": [
    {
     "name": "stdout",
     "output_type": "stream",
     "text": [
      "              precision    recall  f1-score   support\n",
      "\n",
      "           0       0.86      0.98      0.92        84\n",
      "           1       0.94      0.71      0.81        45\n",
      "\n",
      "    accuracy                           0.88       129\n",
      "   macro avg       0.90      0.84      0.86       129\n",
      "weighted avg       0.89      0.88      0.88       129\n",
      "\n"
     ]
    }
   ],
   "source": [
    "# Build a Random Forest Classifier\n",
    "rfc = RandomForestClassifier().fit(X_train, y_train)\n",
    "\n",
    "# Create predictions to generate a confusion matrix and classification report\n",
    "rfcpreds = rfc.predict(X_test)\n",
    "print(classification_report(y_test, rfcpreds))"
   ]
  },
  {
   "cell_type": "code",
   "execution_count": 156,
   "id": "370ed759",
   "metadata": {
    "slideshow": {
     "slide_type": "slide"
    }
   },
   "outputs": [
    {
     "name": "stdout",
     "output_type": "stream",
     "text": [
      "                                                    0         1\n",
      "0                  Agricultural.land.(%.of.land.area)  0.069692\n",
      "1                               GDP.growth.(annual.%)  0.077646\n",
      "2                        GDP.per.capita.(current.US$)  0.194658\n",
      "3       Mortality.rate.under.5.(per.1000.live.births)  0.132151\n",
      "4   Unemployment.total.(%.of.total.labor.force).(m...  0.075477\n",
      "5                                    Population.total  0.068882\n",
      "6                                       Battle.Deaths  0.023985\n",
      "7                                        Human.Rights  0.087147\n",
      "8                                             Hum.Dev  0.120674\n",
      "9                                    Continent.Africa  0.010773\n",
      "10                                  Continent.America  0.009226\n",
      "11                                     Continent.Asia  0.006832\n",
      "12                                   Continent.Europe  0.018317\n",
      "13                                  Continent.Oceania  0.002446\n",
      "14                                       yrs_since_92  0.032959\n",
      "15                               disastertype_drought  0.006192\n",
      "16                            disastertype_earthquake  0.008503\n",
      "17                  disastertype_extreme temperature   0.012393\n",
      "18                                 disastertype_flood  0.020301\n",
      "19                             disastertype_landslide  0.004566\n",
      "20                   disastertype_mass movement (dry)  0.000000\n",
      "21                                 disastertype_storm  0.015481\n",
      "22                     disastertype_volcanic activity  0.001699\n"
     ]
    }
   ],
   "source": [
    "imports = pd.Series(rfc.feature_importances_)\n",
    "\n",
    "#create dataframe of features and their importance score\n",
    "features = pd.Series(list(X_train.columns))\n",
    "df = pd.concat([features,imports], axis=1)\n",
    "print(df)"
   ]
  },
  {
   "cell_type": "code",
   "execution_count": 157,
   "id": "ffa6cacb",
   "metadata": {},
   "outputs": [
    {
     "data": {
      "text/plain": [
       "<AxesSubplot:xlabel='1', ylabel='0'>"
      ]
     },
     "execution_count": 157,
     "metadata": {},
     "output_type": "execute_result"
    },
    {
     "data": {
      "image/png": "[encoded data removed]",
      "text/plain": [
       "<Figure size 432x288 with 1 Axes>"
      ]
     },
     "metadata": {
      "needs_background": "light"
     },
     "output_type": "display_data"
    }
   ],
   "source": [
    "#plot feature importance in a bar chart\n",
    "sns.barplot(x=1, y=0, data=df)"
   ]
  },
  {
   "cell_type": "markdown",
   "id": "fd38fee2",
   "metadata": {
    "slideshow": {
     "slide_type": "skip"
    }
   },
   "source": [
    "From the above exercise, we can see that certain features come up as highly important. These are largely features that we would expect, such as GDP and human development score, as well as some interesting ones such as Agricultural land as a percent of land area. Seeing that there appears to be a noticeable dichotomy between those with importance < .04 vs > .04, .04 seems like a good choice for a cut-off point. Since we also want to include Years Since 1992 from a theoretical standpoint, however, I use a cut-off of .03 in the next cell to conveniently grab all the features > .04 plus the desired yrs_since_92 variable."
   ]
  },
  {
   "cell_type": "code",
   "execution_count": 158,
   "id": "3c4b6b3e",
   "metadata": {
    "slideshow": {
     "slide_type": "skip"
    }
   },
   "outputs": [
    {
     "data": {
      "text/html": [
       "<div>\n",
       "<style scoped>\n",
       "    .dataframe tbody tr th:only-of-type {\n",
       "        vertical-align: middle;\n",
       "    }\n",
       "\n",
       "    .dataframe tbody tr th {\n",
       "        vertical-align: top;\n",
       "    }\n",
       "\n",
       "    .dataframe thead th {\n",
       "        text-align: right;\n",
       "    }\n",
       "</style>\n",
       "<table border=\"1\" class=\"dataframe\">\n",
       "  <thead>\n",
       "    <tr style=\"text-align: right;\">\n",
       "      <th></th>\n",
       "      <th>0</th>\n",
       "      <th>1</th>\n",
       "    </tr>\n",
       "  </thead>\n",
       "  <tbody>\n",
       "    <tr>\n",
       "      <th>0</th>\n",
       "      <td>Agricultural.land.(%.of.land.area)</td>\n",
       "      <td>0.069692</td>\n",
       "    </tr>\n",
       "    <tr>\n",
       "      <th>1</th>\n",
       "      <td>GDP.growth.(annual.%)</td>\n",
       "      <td>0.077646</td>\n",
       "    </tr>\n",
       "    <tr>\n",
       "      <th>2</th>\n",
       "      <td>GDP.per.capita.(current.US$)</td>\n",
       "      <td>0.194658</td>\n",
       "    </tr>\n",
       "    <tr>\n",
       "      <th>3</th>\n",
       "      <td>Mortality.rate.under.5.(per.1000.live.births)</td>\n",
       "      <td>0.132151</td>\n",
       "    </tr>\n",
       "    <tr>\n",
       "      <th>4</th>\n",
       "      <td>Unemployment.total.(%.of.total.labor.force).(m...</td>\n",
       "      <td>0.075477</td>\n",
       "    </tr>\n",
       "    <tr>\n",
       "      <th>5</th>\n",
       "      <td>Population.total</td>\n",
       "      <td>0.068882</td>\n",
       "    </tr>\n",
       "    <tr>\n",
       "      <th>7</th>\n",
       "      <td>Human.Rights</td>\n",
       "      <td>0.087147</td>\n",
       "    </tr>\n",
       "    <tr>\n",
       "      <th>8</th>\n",
       "      <td>Hum.Dev</td>\n",
       "      <td>0.120674</td>\n",
       "    </tr>\n",
       "    <tr>\n",
       "      <th>14</th>\n",
       "      <td>yrs_since_92</td>\n",
       "      <td>0.032959</td>\n",
       "    </tr>\n",
       "  </tbody>\n",
       "</table>\n",
       "</div>"
      ],
      "text/plain": [
       "                                                    0         1\n",
       "0                  Agricultural.land.(%.of.land.area)  0.069692\n",
       "1                               GDP.growth.(annual.%)  0.077646\n",
       "2                        GDP.per.capita.(current.US$)  0.194658\n",
       "3       Mortality.rate.under.5.(per.1000.live.births)  0.132151\n",
       "4   Unemployment.total.(%.of.total.labor.force).(m...  0.075477\n",
       "5                                    Population.total  0.068882\n",
       "7                                        Human.Rights  0.087147\n",
       "8                                             Hum.Dev  0.120674\n",
       "14                                       yrs_since_92  0.032959"
      ]
     },
     "execution_count": 158,
     "metadata": {},
     "output_type": "execute_result"
    }
   ],
   "source": [
    "# Print features with importance greater than .03\n",
    "\n",
    "df_important = df[df[1] > .03]\n",
    "df_important"
   ]
  },
  {
   "cell_type": "markdown",
   "id": "8b9ed40a",
   "metadata": {
    "slideshow": {
     "slide_type": "slide"
    }
   },
   "source": [
    "Lastly, we of course want to include all disaster variables in the model in order to examine how they impact migration, so we add these to the list of features to include in the final X dataframe."
   ]
  },
  {
   "cell_type": "code",
   "execution_count": 159,
   "id": "dc445b03",
   "metadata": {
    "slideshow": {
     "slide_type": "fragment"
    }
   },
   "outputs": [],
   "source": [
    "# Extract final features to use for classifier models\n",
    "\n",
    "final_features = list(df_important[0])\n",
    "disasters = ['disastertype_drought',\n",
    "                       'disastertype_earthquake',\n",
    "                       'disastertype_extreme temperature ',\n",
    "                       'disastertype_flood',\n",
    "                       'disastertype_landslide',\n",
    "                       'disastertype_mass movement (dry)',\n",
    "                       'disastertype_storm', \n",
    "                       'disastertype_volcanic activity']\n",
    "\n",
    "for d in disasters:\n",
    "    final_features.append(d)\n"
   ]
  },
  {
   "cell_type": "code",
   "execution_count": 160,
   "id": "1adc3d66",
   "metadata": {
    "slideshow": {
     "slide_type": "skip"
    }
   },
   "outputs": [
    {
     "data": {
      "text/plain": [
       "['Agricultural.land.(%.of.land.area)',\n",
       " 'GDP.growth.(annual.%)',\n",
       " 'GDP.per.capita.(current.US$)',\n",
       " 'Mortality.rate.under.5.(per.1000.live.births)',\n",
       " 'Unemployment.total.(%.of.total.labor.force).(modeled.ILO.estimate)',\n",
       " 'Population.total',\n",
       " 'Human.Rights',\n",
       " 'Hum.Dev',\n",
       " 'yrs_since_92',\n",
       " 'disastertype_drought',\n",
       " 'disastertype_earthquake',\n",
       " 'disastertype_extreme temperature ',\n",
       " 'disastertype_flood',\n",
       " 'disastertype_landslide',\n",
       " 'disastertype_mass movement (dry)',\n",
       " 'disastertype_storm',\n",
       " 'disastertype_volcanic activity']"
      ]
     },
     "execution_count": 160,
     "metadata": {},
     "output_type": "execute_result"
    }
   ],
   "source": [
    "final_features"
   ]
  },
  {
   "cell_type": "markdown",
   "id": "09b834cd",
   "metadata": {
    "slideshow": {
     "slide_type": "skip"
    }
   },
   "source": [
    "Below we filter the X_train and X_test datasets to include only the final selected features. These are the X datasets that will be used to tune all three models."
   ]
  },
  {
   "cell_type": "code",
   "execution_count": 161,
   "id": "d8462f54",
   "metadata": {
    "slideshow": {
     "slide_type": "skip"
    }
   },
   "outputs": [],
   "source": [
    "X_train2 = X_train[final_features]\n",
    "X_test2 = X_test[final_features]"
   ]
  },
  {
   "cell_type": "markdown",
   "id": "d6b94916",
   "metadata": {
    "slideshow": {
     "slide_type": "slide"
    }
   },
   "source": [
    "### \n",
    "### Q1 - Model One: K-Nearest Neighbors"
   ]
  },
  {
   "cell_type": "markdown",
   "id": "b7a3d6d6",
   "metadata": {
    "slideshow": {
     "slide_type": "fragment"
    }
   },
   "source": [
    "We start by fitting and tuning a K-Nearest Neighbors (KNN) model. This theoretically makes sense since KNN is not affected by interdependence between observations. While the observations are spaced out by five year intervals, there could still be some clustering by time as well as geography (e.g. some disasters affected more than one country). We start by fitting a KNN model using the default parameter of 5 neighbors and printing out the confusion matrix and classification report."
   ]
  },
  {
   "cell_type": "code",
   "execution_count": 162,
   "id": "8d029b2f",
   "metadata": {
    "slideshow": {
     "slide_type": "fragment"
    }
   },
   "outputs": [],
   "source": [
    "# Create, define, and fit a KNN Classifier.\n",
    "knn = KNeighborsClassifier()\n",
    "knn.fit(X_train2, y_train)\n",
    "\n",
    "# Predict y_test values with the model using X_test.\n",
    "knn_preds = knn.predict(X_test2)"
   ]
  },
  {
   "cell_type": "code",
   "execution_count": 163,
   "id": "9a812805",
   "metadata": {
    "slideshow": {
     "slide_type": "slide"
    }
   },
   "outputs": [
    {
     "data": {
      "image/png": "[encoded data removed]",
      "text/plain": [
       "<Figure size 432x288 with 2 Axes>"
      ]
     },
     "metadata": {
      "needs_background": "light"
     },
     "output_type": "display_data"
    },
    {
     "name": "stdout",
     "output_type": "stream",
     "text": [
      "              precision    recall  f1-score   support\n",
      "\n",
      "           0       0.67      0.69      0.68        84\n",
      "           1       0.38      0.36      0.37        45\n",
      "\n",
      "    accuracy                           0.57       129\n",
      "   macro avg       0.52      0.52      0.52       129\n",
      "weighted avg       0.57      0.57      0.57       129\n",
      "\n"
     ]
    }
   ],
   "source": [
    "# Create and display a confusion matrix for the predictions compared to true values\n",
    "knn_cm = confusion_matrix(y_test, knn_preds)\n",
    "ConfusionMatrixDisplay(confusion_matrix = knn_cm, display_labels=['Emigration', 'Immigration']).plot()\n",
    "plt.show()\n",
    "\n",
    "# Print the classification report\n",
    "print(classification_report(y_test, knn_preds))"
   ]
  },
  {
   "cell_type": "markdown",
   "id": "5f7757db",
   "metadata": {
    "slideshow": {
     "slide_type": "skip"
    }
   },
   "source": [
    "The KNN model had an accuracy of .57 for identifying which countries would experience net emigration versus net immigration in a given year. This is a fairly low accuracy, only slightly better than chance (.5). The average precision, recall and f1 score were also fairly low as all three were .52. The model produced roughly equal numbers of false positives and false negatives. It was more likely to classify an event as emigration than immigration. The model could likely be improved through cross-validation to find the optimal number of neighbors. Low sample sizes may also be hindering the predictive capability of the model."
   ]
  },
  {
   "cell_type": "markdown",
   "id": "d9091945",
   "metadata": {
    "slideshow": {
     "slide_type": "slide"
    }
   },
   "source": [
    "### Q1 - KNN Cross Validation"
   ]
  },
  {
   "cell_type": "markdown",
   "id": "b5ecee11",
   "metadata": {
    "slideshow": {
     "slide_type": "fragment"
    }
   },
   "source": [
    "Next we will use cross validation to find the optimal number of neighbors for the model based on which number will minimize mean squared error (MSE). We start by measuring mean MSE for a range of neighbors from 1 to 20 and graphing mean MSE against number of neighbors."
   ]
  },
  {
   "cell_type": "code",
   "execution_count": 164,
   "id": "4efe5dfd",
   "metadata": {
    "slideshow": {
     "slide_type": "fragment"
    }
   },
   "outputs": [],
   "source": [
    "# Create an empty list that will contain the average accuracy for each number of neighbors.\n",
    "CV = []\n",
    "neighbors = range(1,21)\n",
    "for i in neighbors:\n",
    "    KNN = KNeighborsClassifier(n_neighbors=i) # Create KNN object with increasing number of neighbors.\n",
    "    KNN = KNN.fit(X_train2, y_train) # Fit the model with each new number of neighbors.\n",
    "    score = cross_val_score(KNN, X_train2, y_train, scoring = 'accuracy', cv = 10) # Calculate accuracy for each cross-validation.\n",
    "    CV.append(score.mean()) # Store average accuracy from each number of neighbors."
   ]
  },
  {
   "cell_type": "code",
   "execution_count": 165,
   "id": "a255eb83",
   "metadata": {
    "slideshow": {
     "slide_type": "slide"
    }
   },
   "outputs": [
    {
     "data": {
      "image/png": "[encoded data removed]",
      "text/plain": [
       "<Figure size 1440x432 with 1 Axes>"
      ]
     },
     "metadata": {
      "needs_background": "light"
     },
     "output_type": "display_data"
    }
   ],
   "source": [
    "# Set up parameters for the plot appearance.\n",
    "plt.figure(figsize=(20, 6))\n",
    "plt.subplot(111)\n",
    "ax = plt.gca()\n",
    "\n",
    "# Input X, y data\n",
    "ax.plot(neighbors, CV)\n",
    "\n",
    "# label the Axes and Title\n",
    "plt.xlabel(\"Number of neighbors\")\n",
    "plt.ylabel(\"Accuracy\")\n",
    "plt.title(\"Accuracy as a function of the number of neighbors\")\n",
    "plt.axis(\"tight\")\n",
    "\n",
    "#Display the plot.\n",
    "plt.show()"
   ]
  },
  {
   "cell_type": "code",
   "execution_count": 166,
   "id": "94061c20",
   "metadata": {
    "slideshow": {
     "slide_type": "slide"
    }
   },
   "outputs": [
    {
     "name": "stdout",
     "output_type": "stream",
     "text": [
      "Minimum CV error: 0.5731443994601889\n",
      "Number of neighbors at minimum CV: 3\n"
     ]
    }
   ],
   "source": [
    "print(\"Minimum CV error:\", min(CV))\n",
    "print(\"Number of neighbors at minimum CV:\",CV.index(min(CV)) + 1)"
   ]
  },
  {
   "cell_type": "markdown",
   "id": "6a55e796",
   "metadata": {
    "slideshow": {
     "slide_type": "fragment"
    }
   },
   "source": [
    "We find that the minimum MSE occurs at 3 neighbors, so we will re-train the KNN model with only 3 neighbors as the parameter."
   ]
  },
  {
   "cell_type": "code",
   "execution_count": 167,
   "id": "b654684f",
   "metadata": {
    "scrolled": true,
    "slideshow": {
     "slide_type": "slide"
    }
   },
   "outputs": [
    {
     "data": {
      "image/png": "[encoded data removed]",
      "text/plain": [
       "<Figure size 432x288 with 2 Axes>"
      ]
     },
     "metadata": {
      "needs_background": "light"
     },
     "output_type": "display_data"
    }
   ],
   "source": [
    "# Build a KNN object with number of neighbors set to 4.\n",
    "KNN = KNeighborsClassifier(n_neighbors=3)\n",
    "\n",
    "# Fit the data to the KNN object.\n",
    "KNN.fit(X_train2, y_train)\n",
    "\n",
    "# Use the model to predict y values for the X_test data.\n",
    "preds = KNN.predict(X_test2)\n",
    "\n",
    "# Create a confusion matrix to compare the predicted y values to the actual y values from the test data.\n",
    "conmat = confusion_matrix(y_test, preds)\n",
    "\n",
    "# Display the confusion matrix.\n",
    "ConfusionMatrixDisplay(confusion_matrix=conmat, display_labels = ['Emigration','Immigration']).plot()\n",
    "plt.show()"
   ]
  },
  {
   "cell_type": "code",
   "execution_count": 168,
   "id": "4368777d",
   "metadata": {
    "slideshow": {
     "slide_type": "slide"
    }
   },
   "outputs": [
    {
     "name": "stdout",
     "output_type": "stream",
     "text": [
      "              precision    recall  f1-score   support\n",
      "\n",
      "           0       0.68      0.67      0.67        84\n",
      "           1       0.40      0.42      0.41        45\n",
      "\n",
      "    accuracy                           0.58       129\n",
      "   macro avg       0.54      0.54      0.54       129\n",
      "weighted avg       0.59      0.58      0.58       129\n",
      "\n"
     ]
    }
   ],
   "source": [
    "# Display a classification report with accuracy, recall, f1-score and precision values.\n",
    "print(classification_report(y_test, preds))"
   ]
  },
  {
   "cell_type": "markdown",
   "id": "819075db",
   "metadata": {
    "slideshow": {
     "slide_type": "fragment"
    }
   },
   "source": [
    "Unfortunately, even with cross-validation, the model's accuracy only improved by one percentage point. Precision, recall, and f1-score simiarly only improved by two percentage points. The model is still not a strong predictor of migration and performs only slightly better than a coin flip."
   ]
  },
  {
   "cell_type": "markdown",
   "id": "237fccf4",
   "metadata": {
    "slideshow": {
     "slide_type": "slide"
    }
   },
   "source": [
    "### \n",
    "### Q1 - Model Two: Random Forest Classifier"
   ]
  },
  {
   "cell_type": "markdown",
   "id": "a01d4bae",
   "metadata": {
    "slideshow": {
     "slide_type": "fragment"
    }
   },
   "source": [
    "Next we try a Random Forest Classifier. We already saw during feature selection that it could perform well at predicting migration (accuracy of .88), so we will try fitting it again but this time with only the selected features. We will start by building a model with SK Learn's default parameters."
   ]
  },
  {
   "cell_type": "code",
   "execution_count": 169,
   "id": "abbb1ffe",
   "metadata": {
    "slideshow": {
     "slide_type": "fragment"
    }
   },
   "outputs": [
    {
     "name": "stdout",
     "output_type": "stream",
     "text": [
      "              precision    recall  f1-score   support\n",
      "\n",
      "           0       0.87      0.98      0.92        84\n",
      "           1       0.94      0.73      0.83        45\n",
      "\n",
      "    accuracy                           0.89       129\n",
      "   macro avg       0.91      0.85      0.87       129\n",
      "weighted avg       0.90      0.89      0.89       129\n",
      "\n"
     ]
    }
   ],
   "source": [
    "# Build a Random Forest Classifier\n",
    "rfc = RandomForestClassifier().fit(X_train2, y_train)\n",
    "\n",
    "# Create predictions to generate a confusion matrix and classification report\n",
    "rfcpreds = rfc.predict(X_test2)\n",
    "print(classification_report(y_test, rfcpreds))"
   ]
  },
  {
   "cell_type": "markdown",
   "id": "80da1c3c",
   "metadata": {
    "slideshow": {
     "slide_type": "slide"
    }
   },
   "source": [
    "Not too surprisingly, the model performed about the same as during feature selection since the only thing we changed was taking out some of the less important features. Next, however, we will use GridSearchCV to tune multiple paramters simultaneously to optimize the model and reduce error. The parameters we selected to tune are n_estimators (the number of trees it creates), max_depth (the maximum number of levels, or the number of splits + 1), and min_samples_split (the minimum number of observations required for a split to occur)."
   ]
  },
  {
   "cell_type": "code",
   "execution_count": 170,
   "id": "d0873fed",
   "metadata": {
    "slideshow": {
     "slide_type": "fragment"
    }
   },
   "outputs": [],
   "source": [
    "# Set the parameters and model\n",
    "parameters = {'n_estimators': range(20,401,40), \n",
    "              'max_depth': range(5,9), \n",
    "              'min_samples_split':range(6,11)}\n",
    "model = RandomForestClassifier(random_state=1)\n",
    "\n",
    "# Tune the parameters using GridSearchCV\n",
    "GS_CV = GridSearchCV(estimator=model, param_grid=parameters)"
   ]
  },
  {
   "cell_type": "code",
   "execution_count": 171,
   "id": "db648df5",
   "metadata": {
    "slideshow": {
     "slide_type": "fragment"
    }
   },
   "outputs": [],
   "source": [
    "# Fit a model with the best parameters from GridSearch CV\n",
    "best_model = GS_CV.fit(X_train2, y_train)"
   ]
  },
  {
   "cell_type": "code",
   "execution_count": 172,
   "id": "b13635a1",
   "metadata": {
    "slideshow": {
     "slide_type": "fragment"
    }
   },
   "outputs": [
    {
     "name": "stdout",
     "output_type": "stream",
     "text": [
      "{'max_depth': 8, 'min_samples_split': 6, 'n_estimators': 100}\n"
     ]
    }
   ],
   "source": [
    "# Extract the chosen parameters\n",
    "best_est = best_model.best_params_\n",
    "print(best_est)"
   ]
  },
  {
   "cell_type": "markdown",
   "id": "e6722c4b",
   "metadata": {
    "slideshow": {
     "slide_type": "skip"
    }
   },
   "source": [
    "GridSearch CV suggested a max_depth of 8, min_samples_split of 6 and n_estimators of 100. We re-train the model using these tuned parameters."
   ]
  },
  {
   "cell_type": "code",
   "execution_count": 173,
   "id": "bb6e5669",
   "metadata": {
    "slideshow": {
     "slide_type": "slide"
    }
   },
   "outputs": [
    {
     "name": "stdout",
     "output_type": "stream",
     "text": [
      "              precision    recall  f1-score   support\n",
      "\n",
      "           0       0.86      0.98      0.92        84\n",
      "           1       0.94      0.71      0.81        45\n",
      "\n",
      "    accuracy                           0.88       129\n",
      "   macro avg       0.90      0.84      0.86       129\n",
      "weighted avg       0.89      0.88      0.88       129\n",
      "\n"
     ]
    },
    {
     "data": {
      "image/png": "[encoded data removed]",
      "text/plain": [
       "<Figure size 432x288 with 2 Axes>"
      ]
     },
     "metadata": {
      "needs_background": "light"
     },
     "output_type": "display_data"
    }
   ],
   "source": [
    "# Build a Random Forest Classifier\n",
    "rfc = RandomForestClassifier(max_depth=8, min_samples_split=6, n_estimators=100, random_state=1).fit(X_train2, y_train)\n",
    "\n",
    "# Create predictions to generate a confusion matrix and classification report\n",
    "rfcpreds = rfc.predict(X_test2)\n",
    "conmat_rfc = confusion_matrix(y_test, rfcpreds)\n",
    "ConfusionMatrixDisplay(confusion_matrix = conmat_rfc, display_labels = ['Emigration','Immigration']).plot()\n",
    "print(classification_report(y_test, rfcpreds))"
   ]
  },
  {
   "cell_type": "markdown",
   "id": "32fd224b",
   "metadata": {
    "slideshow": {
     "slide_type": "skip"
    }
   },
   "source": [
    "Using the parameters from GridSearchCV, the model remained about the same but still performed highly. Accuracy was .88, and average precision, recall, and f1 score were .90, .84, and .86, respectively. This model was also much better at correctly predicting events (\"Immigration\"), whereas KNN had more false negatives."
   ]
  },
  {
   "cell_type": "markdown",
   "id": "f95c3177",
   "metadata": {
    "slideshow": {
     "slide_type": "slide"
    }
   },
   "source": [
    "### \n",
    "### Q1 - Model Three: Gaussian Naive Bayes"
   ]
  },
  {
   "cell_type": "markdown",
   "id": "4c7c246a",
   "metadata": {
    "slideshow": {
     "slide_type": "fragment"
    }
   },
   "source": [
    "Lastly we fit a Gaussian Naive Bayes model to compare against the random forest. This model does not have parameters for us to tune, so we display the default model and results."
   ]
  },
  {
   "cell_type": "code",
   "execution_count": 174,
   "id": "e304f1bb",
   "metadata": {
    "slideshow": {
     "slide_type": "fragment"
    }
   },
   "outputs": [
    {
     "data": {
      "image/png": "[encoded data removed]",
      "text/plain": [
       "<Figure size 432x288 with 2 Axes>"
      ]
     },
     "metadata": {
      "needs_background": "light"
     },
     "output_type": "display_data"
    }
   ],
   "source": [
    "# Create a Gaussian Naive Bayes object.\n",
    "nb = GaussianNB()\n",
    "\n",
    "# Fit the training data to the model and then use the model to predict the y values for the X_test data.\n",
    "preds = nb.fit(X_train2, y_train).predict(X_test2)\n",
    "\n",
    "# Create a confusion matrix to compare the predicted y values to the actual y values from the test data.\n",
    "cm_nb = confusion_matrix(y_test, preds)\n",
    "\n",
    "# Display the confusion matrix.\n",
    "ConfusionMatrixDisplay(confusion_matrix = cm_nb, display_labels = ['Emigration','Immigration']).plot()\n",
    "plt.show()"
   ]
  },
  {
   "cell_type": "code",
   "execution_count": 175,
   "id": "09dc325b",
   "metadata": {},
   "outputs": [
    {
     "name": "stdout",
     "output_type": "stream",
     "text": [
      "              precision    recall  f1-score   support\n",
      "\n",
      "           0       0.83      0.96      0.89        84\n",
      "           1       0.90      0.62      0.74        45\n",
      "\n",
      "    accuracy                           0.84       129\n",
      "   macro avg       0.86      0.79      0.81       129\n",
      "weighted avg       0.85      0.84      0.84       129\n",
      "\n"
     ]
    }
   ],
   "source": [
    "# Display a classification report with accuracy, recall, f1-score and precision values.\n",
    "print(classification_report(y_test, preds))"
   ]
  },
  {
   "cell_type": "markdown",
   "id": "83f433a4",
   "metadata": {
    "slideshow": {
     "slide_type": "skip"
    }
   },
   "source": [
    "Naive Bayes performed similarly to the Random Forest Classifier, coming in just shy of the RFC's results with an accuracy of .84 and average precision, recall, and f1 score of .86, .79 and .81, respectively.\n",
    "\n",
    "Given the above results, we would choose the tuned Random Forest Classifier for our final model."
   ]
  },
  {
   "cell_type": "code",
   "execution_count": 176,
   "id": "c7d7fbb8",
   "metadata": {
    "scrolled": true,
    "slideshow": {
     "slide_type": "skip"
    }
   },
   "outputs": [
    {
     "name": "stdout",
     "output_type": "stream",
     "text": [
      "     migration_binary_dummy\n",
      "434                       0\n",
      "438                       1\n",
      "437                       1\n",
      "439                       1\n",
      "453                       0\n",
      "..                      ...\n",
      "436                       0\n",
      "431                       1\n",
      "430                       0\n",
      "433                       1\n",
      "426                       1\n",
      "\n",
      "[98 rows x 1 columns]\n"
     ]
    }
   ],
   "source": [
    "# Create new training and testing sets with 2018 data as the test and pre-2018 data as the training.\n",
    "y = merged2[['migration_binary_dummy', 'yrs_since_92']]\n",
    "X = merged2.drop(columns=['migration_binary_dummy', 'id','Dis_Country','Dis_Year', 'Net.migration','rel.migration'])\n",
    "\n",
    "X_train = X[X['yrs_since_92'] < 25]\n",
    "X_test = X[X['yrs_since_92'] == 25]\n",
    "y_train = y[y['yrs_since_92'] < 25]\n",
    "y_test = y[y['yrs_since_92'] == 25]\n",
    "\n",
    "X_pre_2018 = X_train.copy()\n",
    "X_2018 = X_test.copy()\n",
    "y_pre_2018 = y_train.copy()\n",
    "y_2018 = y_test.copy()\n",
    "y_pre_2018.drop(columns = 'yrs_since_92', inplace=True)\n",
    "y_2018.drop(columns = 'yrs_since_92', inplace=True)\n",
    "\n",
    "print(y_2018)"
   ]
  },
  {
   "cell_type": "code",
   "execution_count": 177,
   "id": "25c68a6b",
   "metadata": {
    "slideshow": {
     "slide_type": "skip"
    }
   },
   "outputs": [],
   "source": [
    "# Build a Random Forest Classifier using the parameters selected by GridSearchCV\n",
    "# Fit to pre-2018 data\n",
    "rfc = RandomForestClassifier(max_depth=8, min_samples_split=6, n_estimators=100, random_state=1).fit(X_pre_2018, y_pre_2018.values.ravel())\n",
    "\n",
    "# Create predictions\n",
    "rfcpreds = rfc.predict(X_2018)"
   ]
  },
  {
   "cell_type": "markdown",
   "id": "bf4b43f3",
   "metadata": {
    "slideshow": {
     "slide_type": "slide"
    }
   },
   "source": [
    "## Question 2 - Predicting whether net ODA is increasing with increasing disaster frequency"
   ]
  },
  {
   "cell_type": "markdown",
   "id": "84aaf668",
   "metadata": {
    "slideshow": {
     "slide_type": "fragment"
    }
   },
   "source": [
    "In order to determine whether net ODA (overseas development assistance) increases with the number of disasters a country experiences in a year, we select the regression model that is most predictive of net ODA, fit it to the training data, and examine the coefficient (beta) on total disasters to see whether it is positive and statistically significant. This would indicate that net ODA increases with disaster frequency. The other features are included in the model as controls.\n",
    "\n",
    "We start by creating a new merged dataset since net ODA was dropped during the initial merge."
   ]
  },
  {
   "cell_type": "markdown",
   "id": "9b4d7341",
   "metadata": {
    "slideshow": {
     "slide_type": "slide"
    }
   },
   "source": [
    "### Q2 - New Dataset Merge for Using ODA as the Target Variable"
   ]
  },
  {
   "cell_type": "code",
   "execution_count": 178,
   "id": "3293c417",
   "metadata": {
    "slideshow": {
     "slide_type": "fragment"
    }
   },
   "outputs": [],
   "source": [
    "migration3 = migration.drop(columns=['Access.to.electricity.(%.of.population)', 'Dem.Index']) #Redo merge since ODA was dropped before\n",
    "\n",
    "migration3.dropna(inplace=True)"
   ]
  },
  {
   "cell_type": "code",
   "execution_count": 179,
   "id": "61e12f50",
   "metadata": {
    "slideshow": {
     "slide_type": "skip"
    }
   },
   "outputs": [
    {
     "name": "stdout",
     "output_type": "stream",
     "text": [
      "<class 'pandas.core.frame.DataFrame'>\n",
      "Int64Index: 654 entries, 9 to 2400\n",
      "Data columns (total 20 columns):\n",
      " #   Column                                                              Non-Null Count  Dtype  \n",
      "---  ------                                                              --------------  -----  \n",
      " 0   Country.Name                                                        654 non-null    object \n",
      " 1   Country.Code                                                        654 non-null    object \n",
      " 2   Year                                                                654 non-null    int64  \n",
      " 3   Net.migration                                                       654 non-null    int64  \n",
      " 4   Agricultural.land.(%.of.land.area)                                  654 non-null    float64\n",
      " 5   Net.ODA.received.(%.of.GNI)                                         654 non-null    float64\n",
      " 6   GDP.growth.(annual.%)                                               654 non-null    float64\n",
      " 7   GDP.per.capita.(current.US$)                                        654 non-null    float64\n",
      " 8   Mortality.rate.under.5.(per.1000.live.births)                       654 non-null    float64\n",
      " 9   Unemployment.total.(%.of.total.labor.force).(modeled.ILO.estimate)  654 non-null    float64\n",
      " 10  Population.total                                                    654 non-null    float64\n",
      " 11  Battle.Deaths                                                       654 non-null    float64\n",
      " 12  Human.Rights                                                        654 non-null    float64\n",
      " 13  Hum.Dev                                                             654 non-null    float64\n",
      " 14  rel.migration                                                       654 non-null    float64\n",
      " 15  Continent.Africa                                                    654 non-null    uint8  \n",
      " 16  Continent.America                                                   654 non-null    uint8  \n",
      " 17  Continent.Asia                                                      654 non-null    uint8  \n",
      " 18  Continent.Europe                                                    654 non-null    uint8  \n",
      " 19  Continent.Oceania                                                   654 non-null    uint8  \n",
      "dtypes: float64(11), int64(2), object(2), uint8(5)\n",
      "memory usage: 84.9+ KB\n"
     ]
    }
   ],
   "source": [
    "migration3.info()"
   ]
  },
  {
   "cell_type": "code",
   "execution_count": 180,
   "id": "9a0fc12a",
   "metadata": {
    "slideshow": {
     "slide_type": "fragment"
    }
   },
   "outputs": [
    {
     "name": "stdout",
     "output_type": "stream",
     "text": [
      "375\n"
     ]
    }
   ],
   "source": [
    "merged3 = migration3.merge(right = disasters_final, how = 'inner', left_on = ['Country.Name', 'Year'], right_on = ['Dis_Country', 'Dis_Year'])\n",
    "merged3.sort_values(by='id',inplace=True)\n",
    "print(len(merged3))"
   ]
  },
  {
   "cell_type": "code",
   "execution_count": 181,
   "id": "90e37d4e",
   "metadata": {
    "slideshow": {
     "slide_type": "skip"
    }
   },
   "outputs": [
    {
     "name": "stdout",
     "output_type": "stream",
     "text": [
      "375\n"
     ]
    },
    {
     "data": {
      "text/plain": [
       "0"
      ]
     },
     "execution_count": 181,
     "metadata": {},
     "output_type": "execute_result"
    }
   ],
   "source": [
    "merged3_dropped = merged3.drop_duplicates()\n",
    "print(len(merged3_dropped)) # Confirm there were no duplicate rows\n",
    "\n",
    "merged3.isna().sum().sum() # Confirm there are no null values"
   ]
  },
  {
   "cell_type": "code",
   "execution_count": 182,
   "id": "60f2b4e8",
   "metadata": {
    "slideshow": {
     "slide_type": "fragment"
    }
   },
   "outputs": [
    {
     "name": "stdout",
     "output_type": "stream",
     "text": [
      "<class 'pandas.core.frame.DataFrame'>\n",
      "Int64Index: 375 entries, 121 to 238\n",
      "Data columns (total 32 columns):\n",
      " #   Column                                                              Non-Null Count  Dtype  \n",
      "---  ------                                                              --------------  -----  \n",
      " 0   Country.Name                                                        375 non-null    object \n",
      " 1   Country.Code                                                        375 non-null    object \n",
      " 2   Year                                                                375 non-null    int64  \n",
      " 3   Net.migration                                                       375 non-null    int64  \n",
      " 4   Agricultural.land.(%.of.land.area)                                  375 non-null    float64\n",
      " 5   Net.ODA.received.(%.of.GNI)                                         375 non-null    float64\n",
      " 6   GDP.growth.(annual.%)                                               375 non-null    float64\n",
      " 7   GDP.per.capita.(current.US$)                                        375 non-null    float64\n",
      " 8   Mortality.rate.under.5.(per.1000.live.births)                       375 non-null    float64\n",
      " 9   Unemployment.total.(%.of.total.labor.force).(modeled.ILO.estimate)  375 non-null    float64\n",
      " 10  Population.total                                                    375 non-null    float64\n",
      " 11  Battle.Deaths                                                       375 non-null    float64\n",
      " 12  Human.Rights                                                        375 non-null    float64\n",
      " 13  Hum.Dev                                                             375 non-null    float64\n",
      " 14  rel.migration                                                       375 non-null    float64\n",
      " 15  Continent.Africa                                                    375 non-null    uint8  \n",
      " 16  Continent.America                                                   375 non-null    uint8  \n",
      " 17  Continent.Asia                                                      375 non-null    uint8  \n",
      " 18  Continent.Europe                                                    375 non-null    uint8  \n",
      " 19  Continent.Oceania                                                   375 non-null    uint8  \n",
      " 20  id                                                                  375 non-null    object \n",
      " 21  Dis_Country                                                         375 non-null    object \n",
      " 22  Dis_Year                                                            375 non-null    int64  \n",
      " 23  yrs_since_92                                                        375 non-null    int64  \n",
      " 24  disastertype_drought                                                375 non-null    float64\n",
      " 25  disastertype_earthquake                                             375 non-null    float64\n",
      " 26  disastertype_extreme temperature                                    375 non-null    float64\n",
      " 27  disastertype_flood                                                  375 non-null    float64\n",
      " 28  disastertype_landslide                                              375 non-null    float64\n",
      " 29  disastertype_mass movement (dry)                                    375 non-null    float64\n",
      " 30  disastertype_storm                                                  375 non-null    float64\n",
      " 31  disastertype_volcanic activity                                      375 non-null    float64\n",
      "dtypes: float64(19), int64(4), object(4), uint8(5)\n",
      "memory usage: 83.9+ KB\n"
     ]
    }
   ],
   "source": [
    "merged3.info()"
   ]
  },
  {
   "cell_type": "code",
   "execution_count": 183,
   "id": "b3228e54",
   "metadata": {
    "slideshow": {
     "slide_type": "skip"
    }
   },
   "outputs": [],
   "source": [
    "merged3 = merged3.drop(columns = ['Country.Name', 'Country.Code', 'Year', 'id', 'Dis_Country' ]) # Drop redundant columns"
   ]
  },
  {
   "cell_type": "markdown",
   "id": "a552db27",
   "metadata": {
    "slideshow": {
     "slide_type": "slide"
    }
   },
   "source": [
    "### Q2 - Combine Disaster Types into Singular Disaster Count"
   ]
  },
  {
   "cell_type": "markdown",
   "id": "7b5665c2",
   "metadata": {
    "slideshow": {
     "slide_type": "fragment"
    }
   },
   "source": [
    "We create a new column to capture the total number of disasters of all types in a country in a year and drop the columns for individual disasters."
   ]
  },
  {
   "cell_type": "code",
   "execution_count": 184,
   "id": "f0d2a60c",
   "metadata": {
    "slideshow": {
     "slide_type": "fragment"
    }
   },
   "outputs": [],
   "source": [
    "# Add values of disaster columns\n",
    "merged3['total_disasters'] = merged3['disastertype_drought'] + merged3['disastertype_earthquake'] + merged3['disastertype_extreme temperature '] + merged3['disastertype_flood'] + merged3['disastertype_landslide'] + merged3['disastertype_mass movement (dry)'] + merged3['disastertype_storm'] + merged3['disastertype_volcanic activity']"
   ]
  },
  {
   "cell_type": "code",
   "execution_count": 185,
   "id": "22c33c8b",
   "metadata": {
    "slideshow": {
     "slide_type": "fragment"
    }
   },
   "outputs": [],
   "source": [
    "# Drop the columns for individual disasters\n",
    "merged3 = merged3.drop(columns = ['disastertype_drought', 'disastertype_earthquake', 'disastertype_extreme temperature ', 'disastertype_flood', 'disastertype_landslide', 'disastertype_mass movement (dry)','disastertype_storm', 'disastertype_volcanic activity'])"
   ]
  },
  {
   "cell_type": "markdown",
   "id": "e1e7f0ce",
   "metadata": {
    "slideshow": {
     "slide_type": "slide"
    }
   },
   "source": [
    "We split this new merged dataset into X and y and then into testing and training sets."
   ]
  },
  {
   "cell_type": "code",
   "execution_count": 186,
   "id": "882ea27a",
   "metadata": {
    "slideshow": {
     "slide_type": "fragment"
    }
   },
   "outputs": [],
   "source": [
    "y_oda = merged3['Net.ODA.received.(%.of.GNI)'] # Create y \n",
    "X_oda = merged3.drop(columns = ['Net.ODA.received.(%.of.GNI)']) # Create X"
   ]
  },
  {
   "cell_type": "code",
   "execution_count": 187,
   "id": "2d0445d2",
   "metadata": {
    "slideshow": {
     "slide_type": "fragment"
    }
   },
   "outputs": [],
   "source": [
    "# Split into testing and training\n",
    "Xo_train, Xo_test, yo_train, yo_test = train_test_split(X_oda, y_oda, test_size=0.25, random_state=1)"
   ]
  },
  {
   "cell_type": "markdown",
   "id": "661b1f1b",
   "metadata": {
    "slideshow": {
     "slide_type": "slide"
    }
   },
   "source": [
    "### Q2 - Fitting Three Regression Models: Ridge, Lasso and Linear"
   ]
  },
  {
   "cell_type": "markdown",
   "id": "2186d02d",
   "metadata": {
    "slideshow": {
     "slide_type": "fragment"
    }
   },
   "source": [
    "We tune and fit a linear regression model and two regularized regression models to the training data.\n",
    "\n",
    "The Ridge and Lasso regressions are tuned using RidgeCV and LassoCV, which determine the best alpha through cross-validation. Feature selection is done automatically in the case of a Lasso regression, and Ridge approximates feature selection by restricting the coefficients, often bringing the least significant coefficients close to zero."
   ]
  },
  {
   "cell_type": "code",
   "execution_count": 188,
   "id": "e1df5675",
   "metadata": {
    "slideshow": {
     "slide_type": "fragment"
    }
   },
   "outputs": [],
   "source": [
    "#Fit and tune Ridge regression model\n",
    "ridge = RidgeCV(cv=10, alphas=np.logspace(-5,5,200), normalize=True).fit(Xo_train, yo_train)"
   ]
  },
  {
   "cell_type": "code",
   "execution_count": 189,
   "id": "4d3eb7b4",
   "metadata": {
    "slideshow": {
     "slide_type": "fragment"
    }
   },
   "outputs": [],
   "source": [
    "#Fit and tune Lasso regression model\n",
    "lasso = LassoCV(cv=10, alphas=np.logspace(-5,5,200), normalize=True).fit(Xo_train, yo_train)"
   ]
  },
  {
   "cell_type": "code",
   "execution_count": 190,
   "id": "298de761",
   "metadata": {
    "slideshow": {
     "slide_type": "fragment"
    }
   },
   "outputs": [],
   "source": [
    "#Fit Linear regression model\n",
    "lm = LinearRegression(normalize=True).fit(Xo_train, yo_train)"
   ]
  },
  {
   "cell_type": "markdown",
   "id": "bc1de104",
   "metadata": {
    "slideshow": {
     "slide_type": "slide"
    }
   },
   "source": [
    "We also check to see whether to transform the linear model to polynomial by examining the training and testing MSE for degrees 1 through 5."
   ]
  },
  {
   "cell_type": "code",
   "execution_count": 191,
   "id": "1a780c0b",
   "metadata": {
    "slideshow": {
     "slide_type": "fragment"
    }
   },
   "outputs": [
    {
     "name": "stdout",
     "output_type": "stream",
     "text": [
      "Training MSE for degree 1 :  57.34653658101851\n",
      "Testing  MSE for degree 1 :  35.022498273471015\n",
      "\n",
      "\n",
      "Training MSE for degree 2 :  127.94503756921921\n",
      "Testing  MSE for degree 2 :  1.4141202337092458e+26\n",
      "\n",
      "\n",
      "Training MSE for degree 3 :  2.656820192900871e-26\n",
      "Testing  MSE for degree 3 :  12706.497248048981\n",
      "\n",
      "\n",
      "Training MSE for degree 4 :  1.2164127176912642e-26\n",
      "Testing  MSE for degree 4 :  23337.55149895939\n",
      "\n",
      "\n",
      "Training MSE for degree 5 :  3.8126720146342824e-26\n",
      "Testing  MSE for degree 5 :  35720.30447439831\n",
      "\n",
      "\n"
     ]
    }
   ],
   "source": [
    "for i in range(1,6): #Check for optimal degree\n",
    "    lr = LinearRegression(normalize=True) #New LinearRegression object\n",
    "    p = PolynomialFeatures(degree=i) #PolynomialFeatures object for degree in question\n",
    "    X_train_new = p.fit_transform(Xo_train) #Transform the training set to incorporate n-degree polynomials\n",
    "    X_test_new = p.fit_transform(Xo_test) #Transform the test set to incorporate n-degree polynomials\n",
    "    lr.fit(X_train_new, yo_train) #Fit n-degree model \n",
    "    y_pred_train = lr.predict(X_train_new) #Generate predicted values for new training set\n",
    "    y_pred_test = lr.predict(X_test_new) #Generate predicted values for new test set\n",
    "    \n",
    "    print('Training MSE for degree', i, ': ', mean_squared_error(yo_train, y_pred_train))\n",
    "    print('Testing  MSE for degree', i, ': ', mean_squared_error(yo_test, y_pred_test))\n",
    "    print('\\n')"
   ]
  },
  {
   "cell_type": "markdown",
   "id": "9ff9ddef",
   "metadata": {
    "slideshow": {
     "slide_type": "skip"
    }
   },
   "source": [
    "The training MSE increases dramatically with each new degree, so we will stick to degree 1."
   ]
  },
  {
   "cell_type": "markdown",
   "id": "fc23eba8",
   "metadata": {
    "slideshow": {
     "slide_type": "slide"
    }
   },
   "source": [
    "### Q2 - Cross Validation\n",
    "We now carry out 10-fold cross-validation to determine which model to select."
   ]
  },
  {
   "cell_type": "code",
   "execution_count": 192,
   "id": "7fe34c01",
   "metadata": {
    "slideshow": {
     "slide_type": "fragment"
    }
   },
   "outputs": [],
   "source": [
    "# Print CV scores \n",
    "CV_Ridge = np.mean(cross_val_score(ridge, Xo_train, yo_train, cv=10, scoring='neg_mean_squared_error'))\n",
    "CV_Lasso = np.mean(cross_val_score(lasso, Xo_train, yo_train, cv=10, scoring='neg_mean_squared_error'))\n",
    "CV_Lin = np.mean(cross_val_score(lm, Xo_train, yo_train, cv=10, scoring='neg_mean_squared_error'))"
   ]
  },
  {
   "cell_type": "code",
   "execution_count": 193,
   "id": "c0e30b2f",
   "metadata": {
    "slideshow": {
     "slide_type": "fragment"
    }
   },
   "outputs": [
    {
     "name": "stdout",
     "output_type": "stream",
     "text": [
      "CV error with Ridge regression 78.21747391286432\n",
      "CV error with Lasso regression 75.11573693035584\n",
      "CV error with linear regression 82.35237321611615\n"
     ]
    }
   ],
   "source": [
    "print('CV error with Ridge regression', CV_Ridge*(-1))\n",
    "print('CV error with Lasso regression', CV_Lasso*(-1))\n",
    "print('CV error with linear regression', CV_Lin*(-1))"
   ]
  },
  {
   "cell_type": "markdown",
   "id": "5e26e657",
   "metadata": {
    "slideshow": {
     "slide_type": "fragment"
    }
   },
   "source": [
    "Since the Lasso regression has the lowest CV error, it is the most predictive of net ODA. We will use it for the analysis."
   ]
  },
  {
   "cell_type": "code",
   "execution_count": 194,
   "id": "0d80d75f",
   "metadata": {
    "slideshow": {
     "slide_type": "slide"
    }
   },
   "outputs": [
    {
     "name": "stdout",
     "output_type": "stream",
     "text": [
      "The coefficient on Net.migration is 1.3117911365503458e-06 \n",
      "\n",
      "The coefficient on Agricultural.land.(%.of.land.area) is -0.003330252064995779 \n",
      "\n",
      "The coefficient on GDP.growth.(annual.%) is 0.0 \n",
      "\n",
      "The coefficient on GDP.per.capita.(current.US$) is -0.0 \n",
      "\n",
      "The coefficient on Mortality.rate.under.5.(per.1000.live.births) is 0.0 \n",
      "\n",
      "The coefficient on Unemployment.total.(%.of.total.labor.force).(modeled.ILO.estimate) is -0.0 \n",
      "\n",
      "The coefficient on Population.total is -0.0 \n",
      "\n",
      "The coefficient on Battle.Deaths is 0.00013076906816108586 \n",
      "\n",
      "The coefficient on Human.Rights is 1.4644189855018093 \n",
      "\n",
      "The coefficient on Hum.Dev is -32.55768826032056 \n",
      "\n",
      "The coefficient on rel.migration is -63.38429963973812 \n",
      "\n",
      "The coefficient on Continent.Africa is 0.0 \n",
      "\n",
      "The coefficient on Continent.America is -0.0 \n",
      "\n",
      "The coefficient on Continent.Asia is -0.0 \n",
      "\n",
      "The coefficient on Continent.Europe is 2.679924059391934 \n",
      "\n",
      "The coefficient on Continent.Oceania is 0.0 \n",
      "\n",
      "The coefficient on Dis_Year is -0.0 \n",
      "\n",
      "The coefficient on yrs_since_92 is -0.0 \n",
      "\n",
      "The coefficient on total_disasters is 0.0 \n",
      "\n"
     ]
    }
   ],
   "source": [
    "# Display coefficients\n",
    "# Display coefficients\n",
    "for i in range(len(Xo_test.columns)):\n",
    "    print('The coefficient on', Xo_test.columns[i], 'is', lasso.coef_[i], '\\n')"
   ]
  },
  {
   "cell_type": "markdown",
   "id": "52c8f0d2",
   "metadata": {
    "slideshow": {
     "slide_type": "fragment"
    }
   },
   "source": [
    "The coefficient on total disasters is 0 (it was dropped by the model). There appears to be no significant relationship between disaster frequency and net ODA. Countries with an increasing frequency of disasters are currently not receiving more overseas development aid."
   ]
  },
  {
   "cell_type": "markdown",
   "id": "ae497de7",
   "metadata": {
    "slideshow": {
     "slide_type": "slide"
    }
   },
   "source": [
    "## Question 3 - GDP Prediction  \n",
    "- In this section, we develop models to predict impacts to GDP score based on migration and climate disasters.\n",
    "- For this 'GDP.per.capita.(current.US$)' is the target variable. \n",
    "- For this analysis, a number of predictors are removed from the dataset because the are correlated to one another and could impact the analysis in a negative way. \n",
    "- The following predictors are removed: 'GDP.growth.(annual.%)', 'rel.migration', 'id', 'Dis_Country', 'yrs_since_92', 'migration_binary_dummy'."
   ]
  },
  {
   "cell_type": "code",
   "execution_count": 195,
   "id": "b854a40f",
   "metadata": {
    "slideshow": {
     "slide_type": "fragment"
    }
   },
   "outputs": [],
   "source": [
    "#Splitting the dataframe\n",
    "X = merged2.drop(columns = ['GDP.growth.(annual.%)', 'GDP.per.capita.(current.US$)', 'rel.migration', \n",
    "                             'id', 'Dis_Country', 'yrs_since_92', 'migration_binary_dummy'], axis = 1)\n",
    "y = merged2['GDP.per.capita.(current.US$)']\n",
    "\n",
    "#Splitting into X_train, X_test, y_train and y_test\n",
    "X_train, X_test, y_train, y_test = train_test_split(X, y, test_size=0.25, random_state=1)\n",
    "\n",
    "#print(y_test)"
   ]
  },
  {
   "cell_type": "code",
   "execution_count": 196,
   "id": "0c51256b",
   "metadata": {
    "slideshow": {
     "slide_type": "slide"
    }
   },
   "outputs": [
    {
     "name": "stdout",
     "output_type": "stream",
     "text": [
      "Training R-squared:  0.7223\n",
      "Testing R-squared:   0.613\n",
      "\n",
      "Training MSE:        53080444.3807\n",
      "Test MSE:            62122409.7444\n"
     ]
    }
   ],
   "source": [
    "#Linear Regression\n",
    "lm = LinearRegression(normalize=True)\n",
    "\n",
    "#Fit LR on training data\n",
    "lm.fit(X_train, y_train)\n",
    "\n",
    "#Use LR to predict trainig & testing test observations\n",
    "y_pred_train = lm.predict(X_train)\n",
    "y_pred_test = lm.predict(X_test)\n",
    "\n",
    "#Printing out R-squared & MSEs\n",
    "print(\"Training R-squared: \",round(lm.score(X_train, y_train), 4))\n",
    "print(\"Testing R-squared:  \",round(lm.score(X_test, y_test), 4))\n",
    "print()\n",
    "\n",
    "print(\"Training MSE:       \",round(mean_squared_error(y_train, y_pred_train), 4))\n",
    "print(\"Test MSE:           \",round(mean_squared_error(y_test, y_pred_test), 4))"
   ]
  },
  {
   "cell_type": "markdown",
   "id": "802e19e3",
   "metadata": {
    "slideshow": {
     "slide_type": "fragment"
    }
   },
   "source": [
    "The model is not a great fit. As expected, the Test MSE is higher than the train MSE, however, both are very large."
   ]
  },
  {
   "cell_type": "markdown",
   "id": "97ffe5fe",
   "metadata": {
    "slideshow": {
     "slide_type": "slide"
    }
   },
   "source": [
    "#### Linear Regression with CV\n",
    "- Iterating through all possible number of features\n",
    "- Calculating Avg CV errors for each\n",
    "- Selecting min Error\n",
    "\n",
    "Through feature selection, we can identify the optimal number of predictors from the given ones for the smallest CV error and therefore identify the best model."
   ]
  },
  {
   "cell_type": "code",
   "execution_count": 197,
   "id": "9e1ae9ae",
   "metadata": {
    "slideshow": {
     "slide_type": "slide"
    }
   },
   "outputs": [
    {
     "name": "stdout",
     "output_type": "stream",
     "text": [
      "Number of features selected: 1\n",
      "Features selected by forward sequential selection: \n",
      "Hum.Dev\n",
      "Avg. CV Error: 89474150.879\n",
      "\n",
      "Number of features selected: 2\n",
      "Features selected by forward sequential selection: \n",
      "Mortality.rate.under.5.(per.1000.live.births)\n",
      "Hum.Dev\n",
      "Avg. CV Error: 70529416.7803\n",
      "\n",
      "Number of features selected: 3\n",
      "Features selected by forward sequential selection: \n",
      "Net.migration\n",
      "Mortality.rate.under.5.(per.1000.live.births)\n",
      "Hum.Dev\n",
      "Avg. CV Error: 64164881.6759\n",
      "\n",
      "Number of features selected: 4\n",
      "Features selected by forward sequential selection: \n",
      "Net.migration\n",
      "Mortality.rate.under.5.(per.1000.live.births)\n",
      "Human.Rights\n",
      "Hum.Dev\n",
      "Avg. CV Error: 60994909.983\n",
      "\n",
      "Number of features selected: 5\n",
      "Features selected by forward sequential selection: \n",
      "Net.migration\n",
      "Mortality.rate.under.5.(per.1000.live.births)\n",
      "Unemployment.total.(%.of.total.labor.force).(modeled.ILO.estimate)\n",
      "Human.Rights\n",
      "Hum.Dev\n",
      "Avg. CV Error: 58344896.23\n",
      "\n",
      "Number of features selected: 6\n",
      "Features selected by forward sequential selection: \n",
      "Net.migration\n",
      "Mortality.rate.under.5.(per.1000.live.births)\n",
      "Unemployment.total.(%.of.total.labor.force).(modeled.ILO.estimate)\n",
      "Population.total\n",
      "Human.Rights\n",
      "Hum.Dev\n",
      "Avg. CV Error: 57351157.7305\n",
      "\n",
      "Number of features selected: 7\n",
      "Features selected by forward sequential selection: \n",
      "Net.migration\n",
      "Mortality.rate.under.5.(per.1000.live.births)\n",
      "Unemployment.total.(%.of.total.labor.force).(modeled.ILO.estimate)\n",
      "Population.total\n",
      "Human.Rights\n",
      "Hum.Dev\n",
      "disastertype_earthquake\n",
      "Avg. CV Error: 56706371.1693\n",
      "\n",
      "Number of features selected: 8\n",
      "Features selected by forward sequential selection: \n",
      "Net.migration\n",
      "Mortality.rate.under.5.(per.1000.live.births)\n",
      "Unemployment.total.(%.of.total.labor.force).(modeled.ILO.estimate)\n",
      "Population.total\n",
      "Human.Rights\n",
      "Hum.Dev\n",
      "Continent.America\n",
      "disastertype_earthquake\n",
      "Avg. CV Error: 56085885.8019\n",
      "\n",
      "Number of features selected: 9\n",
      "Features selected by forward sequential selection: \n",
      "Net.migration\n",
      "Mortality.rate.under.5.(per.1000.live.births)\n",
      "Unemployment.total.(%.of.total.labor.force).(modeled.ILO.estimate)\n",
      "Population.total\n",
      "Battle.Deaths\n",
      "Human.Rights\n",
      "Hum.Dev\n",
      "Continent.America\n",
      "disastertype_earthquake\n",
      "Avg. CV Error: 55930426.7081\n",
      "\n",
      "Number of features selected: 10\n",
      "Features selected by forward sequential selection: \n",
      "Net.migration\n",
      "Mortality.rate.under.5.(per.1000.live.births)\n",
      "Unemployment.total.(%.of.total.labor.force).(modeled.ILO.estimate)\n",
      "Population.total\n",
      "Battle.Deaths\n",
      "Human.Rights\n",
      "Hum.Dev\n",
      "Continent.America\n",
      "disastertype_earthquake\n",
      "disastertype_volcanic activity\n",
      "Avg. CV Error: 55746842.3704\n",
      "\n",
      "Number of features selected: 11\n",
      "Features selected by forward sequential selection: \n",
      "Net.migration\n",
      "Mortality.rate.under.5.(per.1000.live.births)\n",
      "Unemployment.total.(%.of.total.labor.force).(modeled.ILO.estimate)\n",
      "Population.total\n",
      "Battle.Deaths\n",
      "Human.Rights\n",
      "Hum.Dev\n",
      "Continent.Africa\n",
      "Continent.America\n",
      "disastertype_earthquake\n",
      "disastertype_volcanic activity\n",
      "Avg. CV Error: 55794133.2915\n",
      "\n",
      "Number of features selected: 12\n",
      "Features selected by forward sequential selection: \n",
      "Net.migration\n",
      "Agricultural.land.(%.of.land.area)\n",
      "Mortality.rate.under.5.(per.1000.live.births)\n",
      "Unemployment.total.(%.of.total.labor.force).(modeled.ILO.estimate)\n",
      "Population.total\n",
      "Battle.Deaths\n",
      "Human.Rights\n",
      "Hum.Dev\n",
      "Continent.Africa\n",
      "Continent.America\n",
      "disastertype_earthquake\n",
      "disastertype_volcanic activity\n",
      "Avg. CV Error: 55937878.544\n",
      "\n",
      "Number of features selected: 13\n",
      "Features selected by forward sequential selection: \n",
      "Net.migration\n",
      "Agricultural.land.(%.of.land.area)\n",
      "Mortality.rate.under.5.(per.1000.live.births)\n",
      "Unemployment.total.(%.of.total.labor.force).(modeled.ILO.estimate)\n",
      "Population.total\n",
      "Battle.Deaths\n",
      "Human.Rights\n",
      "Hum.Dev\n",
      "Continent.Africa\n",
      "Continent.America\n",
      "Dis_Year\n",
      "disastertype_earthquake\n",
      "disastertype_volcanic activity\n",
      "Avg. CV Error: 56072666.539\n",
      "\n",
      "Number of features selected: 14\n",
      "Features selected by forward sequential selection: \n",
      "Net.migration\n",
      "Agricultural.land.(%.of.land.area)\n",
      "Mortality.rate.under.5.(per.1000.live.births)\n",
      "Unemployment.total.(%.of.total.labor.force).(modeled.ILO.estimate)\n",
      "Population.total\n",
      "Battle.Deaths\n",
      "Human.Rights\n",
      "Hum.Dev\n",
      "Continent.Africa\n",
      "Continent.America\n",
      "Dis_Year\n",
      "disastertype_earthquake\n",
      "disastertype_flood\n",
      "disastertype_volcanic activity\n",
      "Avg. CV Error: 56208670.3675\n",
      "\n",
      "Number of features selected: 15\n",
      "Features selected by forward sequential selection: \n",
      "Net.migration\n",
      "Agricultural.land.(%.of.land.area)\n",
      "Mortality.rate.under.5.(per.1000.live.births)\n",
      "Unemployment.total.(%.of.total.labor.force).(modeled.ILO.estimate)\n",
      "Population.total\n",
      "Battle.Deaths\n",
      "Human.Rights\n",
      "Hum.Dev\n",
      "Continent.Africa\n",
      "Continent.America\n",
      "Dis_Year\n",
      "disastertype_drought\n",
      "disastertype_earthquake\n",
      "disastertype_flood\n",
      "disastertype_volcanic activity\n",
      "Avg. CV Error: 56388868.4993\n",
      "\n",
      "Number of features selected: 16\n",
      "Features selected by forward sequential selection: \n",
      "Net.migration\n",
      "Agricultural.land.(%.of.land.area)\n",
      "Mortality.rate.under.5.(per.1000.live.births)\n",
      "Unemployment.total.(%.of.total.labor.force).(modeled.ILO.estimate)\n",
      "Population.total\n",
      "Battle.Deaths\n",
      "Human.Rights\n",
      "Hum.Dev\n",
      "Continent.Africa\n",
      "Continent.America\n",
      "Dis_Year\n",
      "disastertype_drought\n",
      "disastertype_earthquake\n",
      "disastertype_flood\n",
      "disastertype_landslide\n",
      "disastertype_volcanic activity\n",
      "Avg. CV Error: 56583820.877\n",
      "\n",
      "Number of features selected: 17\n",
      "Features selected by forward sequential selection: \n",
      "Net.migration\n",
      "Agricultural.land.(%.of.land.area)\n",
      "Mortality.rate.under.5.(per.1000.live.births)\n",
      "Unemployment.total.(%.of.total.labor.force).(modeled.ILO.estimate)\n",
      "Population.total\n",
      "Battle.Deaths\n",
      "Human.Rights\n",
      "Hum.Dev\n",
      "Continent.Africa\n",
      "Continent.America\n",
      "Dis_Year\n",
      "disastertype_drought\n",
      "disastertype_earthquake\n",
      "disastertype_flood\n",
      "disastertype_landslide\n",
      "disastertype_mass movement (dry)\n",
      "disastertype_volcanic activity\n",
      "Avg. CV Error: 56644843.5143\n",
      "\n",
      "Number of features selected: 18\n",
      "Features selected by forward sequential selection: \n",
      "Net.migration\n",
      "Agricultural.land.(%.of.land.area)\n",
      "Mortality.rate.under.5.(per.1000.live.births)\n",
      "Unemployment.total.(%.of.total.labor.force).(modeled.ILO.estimate)\n",
      "Population.total\n",
      "Battle.Deaths\n",
      "Human.Rights\n",
      "Hum.Dev\n",
      "Continent.Africa\n",
      "Continent.America\n",
      "Continent.Asia\n",
      "Dis_Year\n",
      "disastertype_drought\n",
      "disastertype_earthquake\n",
      "disastertype_flood\n",
      "disastertype_landslide\n",
      "disastertype_mass movement (dry)\n",
      "disastertype_volcanic activity\n",
      "Avg. CV Error: 56917201.2418\n",
      "\n",
      "Number of features selected: 19\n",
      "Features selected by forward sequential selection: \n",
      "Net.migration\n",
      "Agricultural.land.(%.of.land.area)\n",
      "Mortality.rate.under.5.(per.1000.live.births)\n",
      "Unemployment.total.(%.of.total.labor.force).(modeled.ILO.estimate)\n",
      "Population.total\n",
      "Battle.Deaths\n",
      "Human.Rights\n",
      "Hum.Dev\n",
      "Continent.Africa\n",
      "Continent.America\n",
      "Continent.Asia\n",
      "Continent.Europe\n",
      "Dis_Year\n",
      "disastertype_drought\n",
      "disastertype_earthquake\n",
      "disastertype_flood\n",
      "disastertype_landslide\n",
      "disastertype_mass movement (dry)\n",
      "disastertype_volcanic activity\n",
      "Avg. CV Error: 57400453.1798\n",
      "\n",
      "Number of features selected: 20\n",
      "Features selected by forward sequential selection: \n",
      "Net.migration\n",
      "Agricultural.land.(%.of.land.area)\n",
      "Mortality.rate.under.5.(per.1000.live.births)\n",
      "Unemployment.total.(%.of.total.labor.force).(modeled.ILO.estimate)\n",
      "Population.total\n",
      "Battle.Deaths\n",
      "Human.Rights\n",
      "Hum.Dev\n",
      "Continent.Africa\n",
      "Continent.America\n",
      "Continent.Asia\n",
      "Continent.Europe\n",
      "Continent.Oceania\n",
      "Dis_Year\n",
      "disastertype_drought\n",
      "disastertype_earthquake\n",
      "disastertype_flood\n",
      "disastertype_landslide\n",
      "disastertype_mass movement (dry)\n",
      "disastertype_volcanic activity\n",
      "Avg. CV Error: 57400453.1798\n",
      "\n",
      "Number of features selected: 21\n",
      "Features selected by forward sequential selection: \n",
      "Net.migration\n",
      "Agricultural.land.(%.of.land.area)\n",
      "Mortality.rate.under.5.(per.1000.live.births)\n",
      "Unemployment.total.(%.of.total.labor.force).(modeled.ILO.estimate)\n",
      "Population.total\n",
      "Battle.Deaths\n",
      "Human.Rights\n",
      "Hum.Dev\n",
      "Continent.Africa\n",
      "Continent.America\n",
      "Continent.Asia\n",
      "Continent.Europe\n",
      "Continent.Oceania\n",
      "Dis_Year\n",
      "disastertype_drought\n",
      "disastertype_earthquake\n",
      "disastertype_extreme temperature \n",
      "disastertype_flood\n",
      "disastertype_landslide\n",
      "disastertype_mass movement (dry)\n",
      "disastertype_volcanic activity\n",
      "Avg. CV Error: 58309525.8287\n",
      "\n"
     ]
    }
   ],
   "source": [
    "#Linear Regression Model\n",
    "model= LinearRegression(normalize=True)\n",
    "\n",
    "#Empty List\n",
    "cv_errors =[]\n",
    "\n",
    "for i in range(1, X_train.shape[1]):\n",
    "    \n",
    "    k=10\n",
    "    sfs = SequentialFeatureSelector(model, \n",
    "                                    n_features_to_select = i, #number of features to use\n",
    "                                    direction=\"forward\",\n",
    "                                    scoring='neg_mean_squared_error',\n",
    "                                    cv= k) #number of folds\n",
    "    sfs = sfs.fit(X_train,y_train)\n",
    "    \n",
    "    #Column names from dataframe\n",
    "    feature_names= X_train.columns\n",
    "    #Column data from dataframe\n",
    "    features = X_train[feature_names[sfs.get_support()]]\n",
    "    \n",
    "    #Cross_val_score for this regression model\n",
    "    cvs = cross_val_score(model, features, y_train, cv=k, scoring='neg_mean_squared_error')\n",
    "    cvs_mean = cvs.mean() * -1 #make positive\n",
    "    cv_errors.append(cvs_mean) #append list\n",
    "    \n",
    "    #Print Features & Output\n",
    "    print(\"Number of features selected:\", i)\n",
    "    print(\"Features selected by forward sequential selection: \")\n",
    "    for p in range(i):\n",
    "        print(str(feature_names[sfs.get_support()][p]))\n",
    "    print(\"Avg. CV Error:\", str(round(cvs_mean, 4)))\n",
    "    print()"
   ]
  },
  {
   "cell_type": "code",
   "execution_count": 198,
   "id": "85bc28dc",
   "metadata": {
    "slideshow": {
     "slide_type": "slide"
    }
   },
   "outputs": [
    {
     "data": {
      "text/plain": [
       "<matplotlib.lines.Line2D at 0x18eafe9f8b0>"
      ]
     },
     "execution_count": 198,
     "metadata": {},
     "output_type": "execute_result"
    },
    {
     "data": {
      "image/png": "[encoded data removed]",
      "text/plain": [
       "<Figure size 1440x432 with 1 Axes>"
      ]
     },
     "metadata": {
      "needs_background": "light"
     },
     "output_type": "display_data"
    }
   ],
   "source": [
    "#Plot Size\n",
    "plt.figure(figsize=(20,6))\n",
    "\n",
    "#Predictor Range\n",
    "predictors = range(1, X_train.shape[1])\n",
    "\n",
    "#Calculating Min Error from Average Errors\n",
    "min_error = min(cv_errors)\n",
    "\n",
    "#Printing Vertical Line\n",
    "plt.axvline(predictors[cv_errors.index(min_error)], color='r', linestyle='--')"
   ]
  },
  {
   "cell_type": "code",
   "execution_count": 199,
   "id": "f44e3146",
   "metadata": {},
   "outputs": [
    {
     "data": {
      "image/png": "[encoded data removed]",
      "text/plain": [
       "<Figure size 432x288 with 1 Axes>"
      ]
     },
     "metadata": {
      "needs_background": "light"
     },
     "output_type": "display_data"
    },
    {
     "name": "stdout",
     "output_type": "stream",
     "text": [
      "Number of Predictors that corresponds to the lowest CV Error: 10\n",
      "Lowest CV Error: 55746842.3704\n"
     ]
    }
   ],
   "source": [
    "#Graphing Plot\n",
    "plt.subplot(111)\n",
    "ax = plt.gca()\n",
    "ax.plot(predictors, cv_errors)\n",
    "plt.xlabel(\"Number of Predictors\")\n",
    "plt.ylabel(\"CV Errors\")\n",
    "plt.title(\"Number of Predictors vs CV Error\")\n",
    "\n",
    "plt.show()\n",
    "\n",
    "#Printing #of Predictors & the corresponding min Error\n",
    "print(\"Number of Predictors that corresponds to the lowest CV Error:\", predictors[cv_errors.index(min_error)])\n",
    "print(\"Lowest CV Error:\", round(min_error, 4))"
   ]
  },
  {
   "cell_type": "markdown",
   "id": "eb9f01f1",
   "metadata": {
    "slideshow": {
     "slide_type": "slide"
    }
   },
   "source": [
    "As shown, the following 10 predictors lead to the lowest CV Error of  55746842.37:\n",
    "- Net.migration\n",
    "- Mortality.rate.under.5.(per.1000.live.births)\n",
    "- Unemployment.total.(%.of.total.labor.force).(modeled.ILO.estimate)\n",
    "- Population.total\n",
    "- Battle.Deaths\n",
    "- Human.Rights\n",
    "- Hum.Dev\n",
    "- Continent.America\n",
    "- disastertype_earthquake\n",
    "- disastertype_volcanic activity"
   ]
  },
  {
   "cell_type": "markdown",
   "id": "e5472b67",
   "metadata": {
    "slideshow": {
     "slide_type": "slide"
    }
   },
   "source": [
    "#### Ridge Regression\n",
    "- Ridge Regression to perform feature selection.\n",
    "- This will shrink the $\\hat{\\beta}$ coefficients close to zero."
   ]
  },
  {
   "cell_type": "code",
   "execution_count": 200,
   "id": "ccb38f53",
   "metadata": {
    "slideshow": {
     "slide_type": "fragment"
    }
   },
   "outputs": [],
   "source": [
    "model_ridge_cv = RidgeCV(cv=10, alphas=np.logspace(-5,5,200), normalize=True).fit(X_train, y_train)"
   ]
  },
  {
   "cell_type": "markdown",
   "id": "23bb17ed",
   "metadata": {
    "slideshow": {
     "slide_type": "slide"
    }
   },
   "source": [
    "#### Lasso Regression\n",
    "- Lasso Regression to perform feature selection.\n",
    "- This will shrink the $\\hat{\\beta}$ coefficients to zero."
   ]
  },
  {
   "cell_type": "code",
   "execution_count": 201,
   "id": "a1fcdfd4",
   "metadata": {
    "slideshow": {
     "slide_type": "fragment"
    }
   },
   "outputs": [],
   "source": [
    "model_lasso_cv = LassoCV(cv=10, alphas=np.logspace(-5,5,200), normalize=True).fit(X_train, y_train)"
   ]
  },
  {
   "cell_type": "code",
   "execution_count": 202,
   "id": "f7e42fb7",
   "metadata": {
    "slideshow": {
     "slide_type": "skip"
    }
   },
   "outputs": [],
   "source": [
    "ridge_pred = model_ridge_cv.predict(X_test)\n",
    "lasso_pred = model_lasso_cv.predict(X_test)\n",
    "\n",
    "ridge_error = mean_squared_error(y_test, ridge_pred)\n",
    "lasso_error = mean_squared_error(y_test, lasso_pred)"
   ]
  },
  {
   "cell_type": "code",
   "execution_count": 203,
   "id": "58f6ed91",
   "metadata": {
    "slideshow": {
     "slide_type": "slide"
    }
   },
   "outputs": [
    {
     "name": "stdout",
     "output_type": "stream",
     "text": [
      "Linear Regression:\n",
      "Number of Predictors corresponding to the lowest CV Error: 10\n",
      "Lin. Regression - Min Error: 55746842.3704\n",
      "\n",
      "Ridge regression error: 62478178.7958102\n",
      "Lasso regression error: 57946067.34129851\n"
     ]
    }
   ],
   "source": [
    "#Printing Linear Regression\n",
    "print(\"Linear Regression:\")\n",
    "print(\"Number of Predictors corresponding to the lowest CV Error:\", predictors[cv_errors.index(min_error)])\n",
    "print(\"Lin. Regression - Min Error:\", round(min_error, 4))\n",
    "print()\n",
    "\n",
    "#Printing Ridge Regression\n",
    "print(\"Ridge regression error:\", ridge_error)\n",
    "\n",
    "#Printing Lasso Regression\n",
    "print(\"Lasso regression error:\", lasso_error)"
   ]
  },
  {
   "cell_type": "markdown",
   "id": "2d437fd8",
   "metadata": {
    "slideshow": {
     "slide_type": "fragment"
    }
   },
   "source": [
    "- Based on the results, all three regressions have errors very close to one another. Yet, the linear regression has the lowest error and is therefore the best model for this data.\n",
    "- The linear regression is chosen for further analysis since the error is the lowest."
   ]
  },
  {
   "cell_type": "markdown",
   "id": "25ac3cb9",
   "metadata": {
    "slideshow": {
     "slide_type": "slide"
    }
   },
   "source": [
    "#### Validating & Re-training of the model\n",
    "Since the linear regression with 10 predictors was chosen, this model is applied & trained to the data."
   ]
  },
  {
   "cell_type": "code",
   "execution_count": 204,
   "id": "b046cb74",
   "metadata": {
    "slideshow": {
     "slide_type": "fragment"
    }
   },
   "outputs": [
    {
     "name": "stdout",
     "output_type": "stream",
     "text": [
      "Training R-squared:  0.7178\n",
      "Testing R-squared:   0.6269\n",
      "\n",
      "Training MSE:        53944723.7195\n",
      "Test MSE:            59886427.3173\n"
     ]
    }
   ],
   "source": [
    "#New X & Y using only the ten selected predictors:\n",
    "X2 = merged2[['Net.migration', 'Mortality.rate.under.5.(per.1000.live.births)', \n",
    "              'Unemployment.total.(%.of.total.labor.force).(modeled.ILO.estimate)', 'Population.total',\n",
    "              'Battle.Deaths', 'Human.Rights', 'Hum.Dev', 'Continent.America', 'disastertype_earthquake', \n",
    "              'disastertype_volcanic activity']]\n",
    "y2 = merged2['GDP.per.capita.(current.US$)']\n",
    "\n",
    "#Splitting into X_train, X_test, y_train and y_test\n",
    "X2_train, X2_test, y2_train, y2_test = train_test_split(X2, y2, test_size=0.25, random_state=1)\n",
    "\n",
    "#New Linear Regression\n",
    "lm2 = LinearRegression(normalize=True)\n",
    "lm2.fit(X2_train, y2_train)\n",
    "\n",
    "#Use New Regression to predict trainig & testing test observation & find R-squared values\n",
    "y2_pred_train = lm2.predict(X2_train)\n",
    "y2_pred_test = lm2.predict(X2_test)\n",
    "print(\"Training R-squared: \", round(lm2.score(X2_train, y2_train), 4))\n",
    "print(\"Testing R-squared:  \", round(lm2.score(X2_test, y2_test), 4))\n",
    "print()\n",
    "print(\"Training MSE:       \", round(mean_squared_error(y2_train, y2_pred_train), 4))\n",
    "print(\"Test MSE:           \", round(mean_squared_error(y2_test, y2_pred_test), 4))"
   ]
  },
  {
   "cell_type": "markdown",
   "id": "3693c28b",
   "metadata": {
    "slideshow": {
     "slide_type": "skip"
    }
   },
   "source": [
    "Compared to the initial model and its fit, this model performs slightly better on the testing data with a lower testing MSE but a slightly larger training MSE. This could be due to a decreased amount of overfitting of the model onto the training data. \n",
    "\n",
    "The previous model:\n",
    "- Training MSE:        53944723.7195\n",
    "- Test MSE:            59886427.3173"
   ]
  },
  {
   "cell_type": "markdown",
   "id": "359e23e5",
   "metadata": {
    "slideshow": {
     "slide_type": "slide"
    }
   },
   "source": [
    "#### GDP Prediction based on the selected indicators\n",
    "Using the selected model, we predict the GDP for each country. "
   ]
  },
  {
   "cell_type": "code",
   "execution_count": 205,
   "id": "bdcbd070",
   "metadata": {
    "slideshow": {
     "slide_type": "skip"
    }
   },
   "outputs": [
    {
     "name": "stdout",
     "output_type": "stream",
     "text": [
      "            Dis_Country  Predicted GDP.per.capita  Actual GDP.per.capita\n",
      "78         South Africa                 59575.891              31459.139\n",
      "102              Greece                 45384.440              38023.161\n",
      "110          Montenegro                 40254.783              43858.363\n",
      "17                India                 33868.521              50566.827\n",
      "111             Morocco                 33796.864              80449.995\n",
      "117  Russian Federation                 31834.122              39982.754\n",
      "34                Ghana                 31098.291              44543.041\n",
      "96              Croatia                 28925.925              17025.532\n",
      "58           Mauritania                 28836.333              17474.187\n",
      "60           Mozambique                 27855.952              23468.597\n",
      "67                 Oman                 26611.876              41508.434\n",
      "2      Papua New Guinea                 25859.613              35275.228\n",
      "11                Spain                 25390.082              24177.335\n",
      "92              Vietnam                 24794.450              18570.120\n",
      "90              Uruguay                 24765.847              24086.410\n",
      "0               Myanmar                 24592.573              32406.720\n",
      "40             Honduras                 24591.719              26734.563\n",
      "15                Gabon                 22929.870              15130.521\n",
      "71          Philippines                 21992.277              14999.370\n",
      "123               China                 21866.040              14605.854\n"
     ]
    }
   ],
   "source": [
    "# Creating new dataframes based on country, predicted GDP & actual GDP\n",
    "df1 = merged2\n",
    "df1 = df1[[\"Dis_Country\"]]\n",
    "df1 = df1.reset_index(drop=True)\n",
    "\n",
    "df2 = y2_pred_test\n",
    "df2 = pd.DataFrame(df2)\n",
    "\n",
    "df3 = y2_test\n",
    "df3 = pd.DataFrame(df3)\n",
    "df3 = df3.reset_index(drop=True)\n",
    "\n",
    "# Combining the three new dataframes\n",
    "result = pd.concat([df1, round(df2,3), round(df3,3)], axis=1)\n",
    "result.columns = ['Dis_Country', 'Predicted GDP.per.capita', 'Actual GDP.per.capita']\n",
    "\n",
    "result.sort_values('Predicted GDP.per.capita', inplace=True, ascending=[False])\n",
    "\n",
    "print(result.head(20))"
   ]
  },
  {
   "cell_type": "markdown",
   "id": "fb4d1116",
   "metadata": {
    "slideshow": {
     "slide_type": "skip"
    }
   },
   "source": [
    "Using the sorting feature to do camparisons:\n",
    "- For the highest 20 predicted GDPs, this model predicted GDP surprising well for 3 countries that are actually the highest 20. \n",
    "- Overall, the model did fairly well in predicting the GDP scores even with just 10 predictors."
   ]
  },
  {
   "cell_type": "markdown",
   "id": "20f0e3a2",
   "metadata": {
    "slideshow": {
     "slide_type": "slide"
    }
   },
   "source": [
    "## Conclusions\n",
    "\n",
    "#### Which countries likely to experience immigration vs emigration based on the prevalence of different climate disasters and economic indicators?"
   ]
  },
  {
   "cell_type": "code",
   "execution_count": 206,
   "id": "45f88b86",
   "metadata": {
    "scrolled": true,
    "slideshow": {
     "slide_type": "fragment"
    }
   },
   "outputs": [
    {
     "data": {
      "text/plain": [
       "<sklearn.metrics._plot.confusion_matrix.ConfusionMatrixDisplay at 0x18eaba71ee0>"
      ]
     },
     "execution_count": 206,
     "metadata": {},
     "output_type": "execute_result"
    },
    {
     "data": {
      "image/png": "[encoded data removed]",
      "text/plain": [
       "<Figure size 432x288 with 2 Axes>"
      ]
     },
     "metadata": {
      "needs_background": "light"
     },
     "output_type": "display_data"
    }
   ],
   "source": [
    "conmat_rfc = confusion_matrix(y_2018, rfcpreds)\n",
    "ConfusionMatrixDisplay(confusion_matrix = conmat_rfc, display_labels = ['Emigration','Immigration']).plot()"
   ]
  },
  {
   "cell_type": "code",
   "execution_count": 207,
   "id": "c2f1ff2e",
   "metadata": {
    "slideshow": {
     "slide_type": "slide"
    }
   },
   "outputs": [
    {
     "name": "stdout",
     "output_type": "stream",
     "text": [
      "              precision    recall  f1-score   support\n",
      "\n",
      "           0       0.77      0.85      0.81        54\n",
      "           1       0.79      0.68      0.73        44\n",
      "\n",
      "    accuracy                           0.78        98\n",
      "   macro avg       0.78      0.77      0.77        98\n",
      "weighted avg       0.78      0.78      0.77        98\n",
      "\n"
     ]
    }
   ],
   "source": [
    "print(classification_report(y_2018, rfcpreds))"
   ]
  },
  {
   "cell_type": "markdown",
   "id": "ac56c6da",
   "metadata": {
    "slideshow": {
     "slide_type": "fragment"
    }
   },
   "source": [
    "Based on data from the most recent year available, 2018, the random forest classifier we selected predicts that in the future, 54 countries will experience net immigration, and 44 countries will experience net emigration. This takes into account economic indicators and the frequency of disasters. These predictions should hold into the future assuming that the relative frequency of disasters in each country remains steady as the overall frequency increases."
   ]
  },
  {
   "cell_type": "markdown",
   "id": "c74afbfd",
   "metadata": {
    "slideshow": {
     "slide_type": "slide"
    }
   },
   "source": [
    "#### Does net ODA (Official Development Assistance) increase with increasing disaster frequency? (I.e. are countries receiving the assistance they need to recover from climate disasters?)"
   ]
  },
  {
   "cell_type": "code",
   "execution_count": 208,
   "id": "d9c27048",
   "metadata": {
    "slideshow": {
     "slide_type": "fragment"
    }
   },
   "outputs": [
    {
     "name": "stdout",
     "output_type": "stream",
     "text": [
      "Net.migration coefficient:  0.0\n",
      "Agricultural.land.(%.of.land.area) coefficient:  -0.0033\n",
      "GDP.growth.(annual.%) coefficient:  0.0\n",
      "GDP.per.capita.(current.US$) coefficient:  -0.0\n",
      "Mortality.rate.under.5.(per.1000.live.births) coefficient:  0.0\n",
      "Unemployment.total.(%.of.total.labor.force).(modeled.ILO.estimate) coefficient:  -0.0\n",
      "Population.total coefficient:  -0.0\n",
      "Battle.Deaths coefficient:  0.0001\n",
      "Human.Rights coefficient:  1.4644\n",
      "Hum.Dev coefficient:  -32.5577\n",
      "rel.migration coefficient:  -63.3843\n",
      "Continent.Africa coefficient:  0.0\n",
      "Continent.America coefficient:  -0.0\n",
      "Continent.Asia coefficient:  -0.0\n",
      "Continent.Europe coefficient:  2.6799\n",
      "Continent.Oceania coefficient:  0.0\n",
      "Dis_Year coefficient:  -0.0\n",
      "yrs_since_92 coefficient:  -0.0\n",
      "total_disasters coefficient:  0.0\n"
     ]
    }
   ],
   "source": [
    "for i in range(len(Xo_test.columns)):\n",
    "    print(Xo_test.columns[i], 'coefficient: ', round(lasso.coef_[i],4))"
   ]
  },
  {
   "cell_type": "markdown",
   "id": "6d014d15",
   "metadata": {
    "slideshow": {
     "slide_type": "slide"
    }
   },
   "source": [
    "The fitted and validated Lasso regression model we selected as the most predictive of net ODA indicates that there is no relationship between disaster frequency and net ODA. Based on this, we conclude that net ODA does not increase with increasing disaster frequency. As climate change accelerates, this problem requires attention as countries who suffer more disasters will need more aid."
   ]
  },
  {
   "cell_type": "markdown",
   "id": "927a1305",
   "metadata": {
    "slideshow": {
     "slide_type": "slide"
    }
   },
   "source": [
    "#### How does GDP change in response to migration and climate disasters?"
   ]
  },
  {
   "cell_type": "code",
   "execution_count": 209,
   "id": "2501f9c5",
   "metadata": {
    "slideshow": {
     "slide_type": "fragment"
    }
   },
   "outputs": [
    {
     "name": "stdout",
     "output_type": "stream",
     "text": [
      "Net.migration coefficient:  0.0037\n",
      "Mortality.rate.under.5.(per.1000.live.births) coefficient:  167.0935\n",
      "Unemployment.total.(%.of.total.labor.force).(modeled.ILO.estimate) coefficient:  -282.6829\n",
      "Population.total coefficient:  0.0\n",
      "Battle.Deaths coefficient:  0.1252\n",
      "Human.Rights coefficient:  1932.1273\n",
      "Hum.Dev coefficient:  88010.5605\n",
      "Continent.America coefficient:  -2141.3707\n",
      "disastertype_earthquake coefficient:  -1201.0135\n",
      "disastertype_volcanic activity coefficient:  2402.2211\n"
     ]
    }
   ],
   "source": [
    "for i in range(len(X2_test.columns)):\n",
    "    print(X2_test.columns[i], 'coefficient: ', round(lm2.coef_[i],4))"
   ]
  },
  {
   "cell_type": "markdown",
   "id": "bce1d735",
   "metadata": {
    "slideshow": {
     "slide_type": "slide"
    }
   },
   "source": [
    "Based on our fitted and validated linear regression model, net in-migration of 1,000 people is associated an increase in GDP per capita of just 3 USD when all other factors are held equal, which is a small but not negligible effect.\n",
    "\n",
    "An earthquake occurring is associated with a decrease of around 1201 USD in GDP per capita, while a volcanic eruption occurring is associated with an increase of around 2402 USD in GDP per capita. No climate-related disasters are predictive of changes in GDP.\n",
    "\n",
    "It is interesting to see that migration and climate disasters have such little correlation with GDP in general."
   ]
  },
  {
   "cell_type": "markdown",
   "id": "2be353df",
   "metadata": {
    "slideshow": {
     "slide_type": "slide"
    }
   },
   "source": [
    "## Future Work"
   ]
  },
  {
   "cell_type": "markdown",
   "id": "bb2adc84",
   "metadata": {
    "slideshow": {
     "slide_type": "fragment"
    }
   },
   "source": [
    "#### If we had more time:\n",
    "* Acquire annual data to supplement the five-year increments used in this analysis\n",
    "* Include more nuanced data for capturing climate impacts (e.g. harvest yields)\n",
    "\n",
    "#### Improvements to the models:\n",
    "* Attempt boosting on the Random Forest Classifier to improve performance"
   ]
  },
  {
   "cell_type": "markdown",
   "id": "a97fe3f8",
   "metadata": {
    "slideshow": {
     "slide_type": "slide"
    }
   },
   "source": [
    "## Future Work"
   ]
  },
  {
   "cell_type": "markdown",
   "id": "3bb920bb",
   "metadata": {},
   "source": [
    "#### Paths we couldn’t take due to timing restrictions or data:\n",
    "* Incorporating more climate data as predictors of migration and perhaps removing economic indicators, which could be overpowering any climate impacts\n",
    "\n",
    "#### Constraints:\n",
    "* Economic indicators, including GDP, are not always reliably measured throughout the world\n",
    "* Only disasters of a certain scale were included in the disaster dataset (i.e. does not capture smaller extreme weather events)\n",
    "* Certain disaster types were notably missing (e.g. hurricane, tornado, tsunami)\n",
    "* Null values limited the size of the datasets, particularly for Question 2"
   ]
  },
  {
   "cell_type": "markdown",
   "id": "127ba05a",
   "metadata": {
    "slideshow": {
     "slide_type": "slide"
    }
   },
   "source": [
    "## References\n",
    "* https://chrisalbon.com/code/machine_learning/trees_and_forests/feature_selection_using_random_forest/\n",
    "* https://pandas.pydata.org/docs/reference/api/pandas.DataFrame.sort_index.html\n",
    "* https://stackoverflow.com/questions/54307300/what-causes-indexing-past-lexsort-depth-warning-in-pandas\n",
    "* https://seaborn.pydata.org/generated/seaborn.heatmap.html\n",
    "* https://seaborn.pydata.org/generated/seaborn.displot.html\n",
    "* https://seaborn.pydata.org/generated/seaborn.boxplot.html\n",
    "* https://seaborn.pydata.org/generated/seaborn.boxplot.html\n",
    "* https://seaborn.pydata.org/generated/seaborn.boxplot.html\n",
    "* https://pandas.pydata.org/docs/reference/api/pandas.DataFrame.merge.html\n",
    "* https://pandas.pydata.org/docs/reference/api/pandas.DataFrame.drop_duplicates.html\n",
    "* https://stackoverflow.com/questions/51459651/drop-duplicates-keeping-the-row-with-the-highest-value-in-another-column\n",
    "* https://stackoverflow.com/questions/24502500/python-matplotlib-getting-rid-of-matplotlib-mpl-warning\n",
    "* https://pandas.pydata.org/docs/reference/api/pandas.DataFrame.replace.html\n",
    "* https://pandas.pydata.org/docs/reference/api/pandas.DataFrame.merge.html#pandas.DataFrame.merge\n",
    "* https://stackoverflow.com/questions/13035764/remove-pandas-rows-with-duplicate-indices\n",
    "* https://jakevdp.github.io/PythonDataScienceHandbook/03.05-hierarchical-indexing.html\n",
    "* https://thispointer.com/pandas-sum-rows-in-dataframe-all-or-certain-rows/\n",
    "* https://pandas.pydata.org/docs/reference/api/pandas.DataFrame.set_index.html\n",
    "* https://www.geeksforgeeks.org/ways-to-filter-pandas-dataframe-by-column-values/\n",
    "* https://pandas.pydata.org/docs/reference/api/pandas.get_dummies.html\n",
    "* https://scikit-learn.org/stable/modules/generated/sklearn.linear_model.LinearRegression.html\n",
    "* HW1, HW2, HW3, Lab1, Lab2, Lab3, Lab4 answers\n",
    "\n"
   ]
  }
 ],
 "metadata": {
  "celltoolbar": "Slideshow",
  "kernelspec": {
   "display_name": "Python 3",
   "language": "python",
   "name": "python3"
  },
  "language_info": {
   "codemirror_mode": {
    "name": "ipython",
    "version": 3
   },
   "file_extension": ".py",
   "mimetype": "text/x-python",
   "name": "python",
   "nbconvert_exporter": "python",
   "pygments_lexer": "ipython3",
   "version": "3.8.8"
  }
 },
 "nbformat": 4,
 "nbformat_minor": 5
}
